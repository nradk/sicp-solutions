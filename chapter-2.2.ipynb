{
 "cells": [
  {
   "cell_type": "markdown",
   "id": "ddd7bdbe",
   "metadata": {},
   "source": [
    "# Chapter 2.2"
   ]
  },
  {
   "cell_type": "markdown",
   "id": "1b6e2605",
   "metadata": {},
   "source": [
    "## Exercise 2.17\n",
    "**Define a procedure `last-pair` that returns the list that contains only the last element of a given (nonempty) list:**\n",
    "\n",
    "**`(last-pair (list 23 72 149 34))`**\n",
    "\n",
    "***`(34)`***"
   ]
  },
  {
   "cell_type": "code",
   "execution_count": 1,
   "id": "cb85b4bc",
   "metadata": {},
   "outputs": [
    {
     "data": {
      "text/html": [
       "<code>'(34)</code>"
      ],
      "text/plain": [
       "'(34)"
      ]
     },
     "execution_count": 1,
     "metadata": {},
     "output_type": "execute_result"
    }
   ],
   "source": [
    "(define (last-pair l)\n",
    "  (if (null? (cdr l)) l (last-pair (cdr l))))\n",
    "\n",
    "(last-pair (list 23 72 149 34))"
   ]
  },
  {
   "cell_type": "code",
   "execution_count": 2,
   "id": "1650fcd1",
   "metadata": {},
   "outputs": [
    {
     "data": {
      "text/html": [
       "<code>'(3)</code>"
      ],
      "text/plain": [
       "'(3)"
      ]
     },
     "execution_count": 2,
     "metadata": {},
     "output_type": "execute_result"
    }
   ],
   "source": [
    "(last-pair (list 1 3))"
   ]
  },
  {
   "cell_type": "markdown",
   "id": "6a4d808a",
   "metadata": {},
   "source": [
    "## Exercise 2.18\n",
    "**Define a procedure `reverse` that takes a list as argument and returns a list  of the same elements in reverse order:**\n",
    "\n",
    "**`(reverse (list 1 4 9 16 25))`**\n",
    "\n",
    "***`(25 16 9 4 1)`***"
   ]
  },
  {
   "cell_type": "markdown",
   "id": "7a588638",
   "metadata": {},
   "source": [
    "We first bring here the definition of `append` from the text, as this will help with defining `reverse`."
   ]
  },
  {
   "cell_type": "code",
   "execution_count": 3,
   "id": "aa651277",
   "metadata": {},
   "outputs": [],
   "source": [
    "(define (append list1 list2)\n",
    "  (if (null? list1)\n",
    "      list2\n",
    "      (cons (car list1) (append (cdr list1) list2))))"
   ]
  },
  {
   "cell_type": "markdown",
   "id": "a75685b9",
   "metadata": {},
   "source": [
    "Using `append`, we can define `reverse` in the following manner:"
   ]
  },
  {
   "cell_type": "code",
   "execution_count": 4,
   "id": "2fe4395c",
   "metadata": {},
   "outputs": [
    {
     "data": {
      "text/html": [
       "<code>'(25 16 9 4 1)</code>"
      ],
      "text/plain": [
       "'(25 16 9 4 1)"
      ]
     },
     "execution_count": 4,
     "metadata": {},
     "output_type": "execute_result"
    }
   ],
   "source": [
    "(define (reverse l)\n",
    "  (if (null? (cdr l))\n",
    "      l\n",
    "      (append (reverse (cdr l)) (list (car l)))))\n",
    "\n",
    "(reverse (list 1 4 9 16 25))"
   ]
  },
  {
   "cell_type": "code",
   "execution_count": 5,
   "id": "44341df3",
   "metadata": {},
   "outputs": [
    {
     "data": {
      "text/html": [
       "<code>'(2)</code>"
      ],
      "text/plain": [
       "'(2)"
      ]
     },
     "execution_count": 5,
     "metadata": {},
     "output_type": "execute_result"
    }
   ],
   "source": [
    "(reverse (list 2))"
   ]
  },
  {
   "cell_type": "markdown",
   "id": "de1206d4",
   "metadata": {},
   "source": [
    "## Exercise  2.19\n",
    "**Consider the change-counting program of\n",
    "Section 1.2.2. It would be nice to be able to easily change the\n",
    "currency used by the program, so that we could compute\n",
    "the number of ways to change a British pound, for example.\n",
    "As the program is written, the knowledge of the currency is\n",
    "distributed partly into the procedure `first-denomination`\n",
    "and partly into the procedure `count-change` (which knows\n",
    "that there are five kinds of U.S. coins). It would be nicer\n",
    "to be able to supply a list of coins to be used for making\n",
    "change.**\n",
    "\n",
    "**We want to rewrite the procedure `cc` so that its second argument is a list of the values of the coins to use rather than n integer specifying which coins to use. We could then have lists that defined each kind of currency:**"
   ]
  },
  {
   "cell_type": "code",
   "execution_count": 6,
   "id": "eb30654e",
   "metadata": {},
   "outputs": [],
   "source": [
    "(define us-coins (list 50 25 10 5 1))\n",
    "(define uk-coins (list 100 50 20 10 5 2 1 0.5))"
   ]
  },
  {
   "cell_type": "markdown",
   "id": "2ba1136c",
   "metadata": {},
   "source": [
    "**We could then call `cc` as follows:**\n",
    "\n",
    "*`(cc 100 us-coins)`*\n",
    "\n",
    "*`292`*\n",
    "\n",
    "**To do this will require changing the program `cc` somewhat.\n",
    "It will still have the same form, but it will access its second\n",
    "argument differently, as follows:**"
   ]
  },
  {
   "cell_type": "code",
   "execution_count": 7,
   "id": "b6ae7259",
   "metadata": {},
   "outputs": [],
   "source": [
    "(define (cc amount coin-values)\n",
    "  (cond ((= amount 0) 1)\n",
    "        ((or (< amount 0) (no-more? coin-values)) 0)\n",
    "        (else\n",
    "         (+ (cc amount\n",
    "                (except-first-denomination\n",
    "                 coin-values))\n",
    "            (cc (- amount\n",
    "                   (first-denomination\n",
    "                    coin-values))\n",
    "                coin-values)))))"
   ]
  },
  {
   "cell_type": "markdown",
   "id": "0316558b",
   "metadata": {},
   "source": [
    "**Define the procedures `first-denomination`, `except-first-denomination`, and `no-more?` in terms of primitive operations on list structures. Does the order of the list `coin-values` affect the answer produced by `cc`? Why or why not?**"
   ]
  },
  {
   "cell_type": "code",
   "execution_count": 8,
   "id": "e143feee",
   "metadata": {},
   "outputs": [
    {
     "data": {
      "text/html": [
       "<code>292</code>"
      ],
      "text/plain": [
       "292"
      ]
     },
     "execution_count": 8,
     "metadata": {},
     "output_type": "execute_result"
    }
   ],
   "source": [
    "(define first-denomination car)\n",
    "(define except-first-denomination cdr)\n",
    "(define no-more? null?)\n",
    "\n",
    "(cc 100 us-coins)"
   ]
  },
  {
   "cell_type": "code",
   "execution_count": 9,
   "id": "01caaa64",
   "metadata": {},
   "outputs": [
    {
     "data": {
      "text/html": [
       "<code>104561</code>"
      ],
      "text/plain": [
       "104561"
      ]
     },
     "execution_count": 9,
     "metadata": {},
     "output_type": "execute_result"
    }
   ],
   "source": [
    "(cc 100 uk-coins)"
   ]
  },
  {
   "cell_type": "markdown",
   "id": "f583be99",
   "metadata": {},
   "source": [
    "The order of the list `coin-values` does not affect the answer produced by `cc`. This is because the core of the algorithm, the statement that \"the number of ways to make change for an amount $a$ with a set of $n$ coins is the sum of the number of ways to make change without a certain coin from theset, plus the number of ways to make change for the amount $a-c$ using all coins where $c$ is the value of that certain coin\" does not depend on the specific value of $c$. So, the order of coins should not matter. This is also demponstrated by the folowing few examples:"
   ]
  },
  {
   "cell_type": "code",
   "execution_count": 10,
   "id": "69149d5c",
   "metadata": {},
   "outputs": [
    {
     "data": {
      "text/html": [
       "<code>292</code>"
      ],
      "text/plain": [
       "292"
      ]
     },
     "execution_count": 10,
     "metadata": {},
     "output_type": "execute_result"
    }
   ],
   "source": [
    "(cc 100 (reverse us-coins))"
   ]
  },
  {
   "cell_type": "code",
   "execution_count": 11,
   "id": "60a4bca6",
   "metadata": {},
   "outputs": [
    {
     "data": {
      "text/html": [
       "<code>104561</code>"
      ],
      "text/plain": [
       "104561"
      ]
     },
     "execution_count": 11,
     "metadata": {},
     "output_type": "execute_result"
    }
   ],
   "source": [
    "(cc 100 (reverse uk-coins))"
   ]
  },
  {
   "cell_type": "code",
   "execution_count": 12,
   "id": "74f530b3",
   "metadata": {},
   "outputs": [
    {
     "data": {
      "text/html": [
       "<code>292</code>"
      ],
      "text/plain": [
       "292"
      ]
     },
     "execution_count": 12,
     "metadata": {},
     "output_type": "execute_result"
    }
   ],
   "source": [
    "(cc 100 (list 5 1 25 10 50))"
   ]
  },
  {
   "cell_type": "markdown",
   "id": "05b2ccb7",
   "metadata": {},
   "source": [
    "## Exercise 2.20\n",
    "\n",
    "**The procedures +, \\*, and `list` take arbitrary\n",
    "numbers of arguments. One way to define such procedures\n",
    "is to use define with *dotted-tail notation*. In a procedure\n",
    "definition, a parameter list that has a dot before the last parameter name indicates that, when the procedure is called,\n",
    "the initial parameters (if any) will have as values the initial\n",
    "arguments, as usual, but the final parameter’s value will be\n",
    "a *list* of any remaining arguments. For instance, given the\n",
    "definition**\n",
    "\n",
    "```\n",
    "(define (f x y . z) ⟨body⟩\n",
    "```\n",
    "\n",
    "**the procedure `f` can be called with two or more arguments. If we evaluate**\n",
    "```\n",
    "(f 1 2 3 4 5 6)\n",
    "```\n",
    "\n",
    "**then in the body of `f`, `x` will be 1, `y` will be 2, and `z` will be\n",
    "the list `(3 4 5 6)`. Given the definition**\n",
    "```\n",
    "(define (g . w) ⟨body⟩)\n",
    "```\n",
    "**the procedure `g` can be called with zero or more arguments.\n",
    "If we evaluate**\n",
    "```\n",
    "(g 1 2 3 4 5 6)\n",
    "```\n",
    "**then in the body of `g`, `w` will be the list `(1 2 3 4 5 6)`.\n",
    "Use this notation to write a procedure `same-parity` that\n",
    "takes one or more integers and returns a list of all the arguments that have the same even-odd parity as the first\n",
    "argument. For example,**\n",
    "```\n",
    "(same-parity 1 2 3 4 5 6 7)\n",
    "(1 3 5 7)\n",
    "(same-parity 2 3 4 5 6 7)\n",
    "(2 4 6)\n",
    "```"
   ]
  },
  {
   "cell_type": "markdown",
   "id": "ffc56ab8",
   "metadata": {},
   "source": [
    "We can define `same-parity` very easily by defining `filter` first in the following manner:"
   ]
  },
  {
   "cell_type": "code",
   "execution_count": 13,
   "id": "b86b93c9",
   "metadata": {},
   "outputs": [
    {
     "data": {
      "text/html": [
       "<code>'(1 3 5)</code>"
      ],
      "text/plain": [
       "'(1 3 5)"
      ]
     },
     "execution_count": 13,
     "metadata": {},
     "output_type": "execute_result"
    }
   ],
   "source": [
    "(define (filter predicate? lst)\n",
    "  (define (filter-iter inlist outlist)\n",
    "    (if (null? inlist)\n",
    "        outlist\n",
    "        (if (predicate? (car inlist))\n",
    "            (filter-iter (cdr inlist) (append outlist (list (car inlist))))\n",
    "            (filter-iter (cdr inlist) outlist))))\n",
    "  (filter-iter lst (list)))\n",
    "\n",
    "\n",
    "\n",
    "(define (same-parity lst)\n",
    "  (filter (lambda (x) (= (remainder (- (car lst) x) 2) 0))\n",
    "               lst))\n",
    "\n",
    "(same-parity (list 1 2 3 4 5))"
   ]
  },
  {
   "cell_type": "code",
   "execution_count": 14,
   "id": "75f9ae3f",
   "metadata": {},
   "outputs": [
    {
     "data": {
      "text/html": [
       "<code>'(2 4 6)</code>"
      ],
      "text/plain": [
       "'(2 4 6)"
      ]
     },
     "execution_count": 14,
     "metadata": {},
     "output_type": "execute_result"
    }
   ],
   "source": [
    "(same-parity (list 2 3 4 5 6 7))"
   ]
  },
  {
   "cell_type": "code",
   "execution_count": 15,
   "id": "388b766a",
   "metadata": {},
   "outputs": [
    {
     "data": {
      "text/html": [
       "<code>'(2)</code>"
      ],
      "text/plain": [
       "'(2)"
      ]
     },
     "execution_count": 15,
     "metadata": {},
     "output_type": "execute_result"
    }
   ],
   "source": [
    "(same-parity (list 2))"
   ]
  },
  {
   "cell_type": "markdown",
   "id": "93d7b914",
   "metadata": {},
   "source": [
    "## Exercise 2.21\n",
    "\n",
    "**The procedure `square-list` takes a list of numbers as argument and returns a list of the squares of those numbers.**\n",
    "\n",
    "```\n",
    "(square-list (list 1 2 3 4))\n",
    "(1 4 9 16)\n",
    "```\n",
    "\n",
    "**Here are two different definitions of `square-list`. Complete both of them by filling in the missing expresisons:**\n",
    "\n",
    "```\n",
    "(define (square-list items)\n",
    "  (if (null? items)\n",
    "      nil\n",
    "      (cons <??> <??>)))\n",
    "(define (square-list items)\n",
    "  (map <??> <??>))\n",
    "```"
   ]
  },
  {
   "cell_type": "markdown",
   "id": "6d5ef5c4",
   "metadata": {},
   "source": [
    "The complete definition is below:"
   ]
  },
  {
   "cell_type": "code",
   "execution_count": 16,
   "id": "fe46a1eb",
   "metadata": {},
   "outputs": [],
   "source": [
    "(define nil '()) ; We need to define nil first as it is not defined in Racket\n",
    "(define (square-list items)\n",
    "  (if (null? items)\n",
    "      nil\n",
    "      (cons (* (car items) (car items)) (square-list (cdr items)))))"
   ]
  },
  {
   "cell_type": "code",
   "execution_count": 17,
   "id": "b1fb6116",
   "metadata": {},
   "outputs": [
    {
     "data": {
      "text/html": [
       "<code>'(1 4 9 16)</code>"
      ],
      "text/plain": [
       "'(1 4 9 16)"
      ]
     },
     "execution_count": 17,
     "metadata": {},
     "output_type": "execute_result"
    }
   ],
   "source": [
    "(square-list (list 1 2 3 4))"
   ]
  },
  {
   "cell_type": "code",
   "execution_count": 18,
   "id": "0a6ff39f",
   "metadata": {},
   "outputs": [
    {
     "data": {
      "text/html": [
       "<code>'(1 4 9 16)</code>"
      ],
      "text/plain": [
       "'(1 4 9 16)"
      ]
     },
     "execution_count": 18,
     "metadata": {},
     "output_type": "execute_result"
    }
   ],
   "source": [
    "(define (square-list items)\n",
    "  (map (lambda (x) (* x x)) items))\n",
    "\n",
    "(square-list (list 1 2 3 4))"
   ]
  },
  {
   "cell_type": "markdown",
   "id": "6182f32d",
   "metadata": {},
   "source": [
    "## Exercise 2.22\n",
    "\n",
    "**Louis Reasoner tries to rewrite the first `square-list` procedure of Exercise 2.21 so that it evolves an iterative process:**\n",
    "```\n",
    "(define (square-list items)\n",
    "  (define (iter things answer)\n",
    "    (if (null? things)\n",
    "        answer\n",
    "        (iter (cdr things)\n",
    "              (cons (square (car things))\n",
    "                    answer))))\n",
    "  (iter items nil))\n",
    "```\n",
    "\n",
    "**Unfortunately, defining `square-list` this way produces the\n",
    "answer list in the reverse order of the one desired. Why?\n",
    "Louis then tries to fix his bug by interchanging the arguments to cons:**\n",
    "```\n",
    "(define (square-list items)\n",
    "  (define (iter things answer)\n",
    "    (if (null? things)\n",
    "        answer\n",
    "        (iter (cdr things)\n",
    "              (cons answer\n",
    "                    (square (car things))))))\n",
    "  (iter items nil))\n",
    "```\n",
    "**This doesn’t work either. Explain.**"
   ]
  },
  {
   "cell_type": "markdown",
   "id": "49bb913f",
   "metadata": {},
   "source": [
    "The first iterative `square-list` implementation produces a result that is in the reverse order compared to the desired result, because the core operation it does to iteratively build the answer is\n",
    "```\n",
    "(cons (square (car things)) answer)\n",
    "```\n",
    "which takes a) the partially-built output (`answer`) and b) the square of the first item in the list of the remaining input sequence, and places the second _before_ the first to build the updated output. Cominbined with the fact that we are reading the input list from beginning to the end, this means for subsequent items in the list x and y, x will be placed into the in-progress `answer` first, and then the y will be placed in `answer` _before_ x, reversing their order.\n",
    "\n",
    "The second iterative `square-list` implementation doesn't work either, because the first thing it tries to do: `cons`-ing `answer` with `(square (car things))` doesn't make any sense because `answer` is `nil` in the beginning. That is, during the next iteration, `answer` will be the pair `(cons nil (square x0))` where `x0` is the first item in the input list. That is, this implementation will attempt to create a list in the form `(cons nil (cons a (cons b ...)))` instead of `(cons a (cons b (....(cons z nil))))`, and the former is not really a list in Lisp."
   ]
  },
  {
   "cell_type": "markdown",
   "id": "2d34b28f",
   "metadata": {},
   "source": [
    "## Exercise 2.23\n",
    "**The procedure `for-each` is similar to map. It\n",
    "takes as arguments a procedure and a list of elements. However, rather than forming a list of the results, `for-each `just\n",
    "applies the procedure to each of the elements in turn, from\n",
    "left to right. The values returned by applying the procedure\n",
    "to the elements are not used at all—`for-each` is used with\n",
    "procedures that perform an action, such as printing. For example,**\n",
    "\n",
    "```\n",
    "(for-each (lambda (x)\n",
    "            (newline)\n",
    "            (display x))\n",
    "          (list 57 321 88))\n",
    "```\n",
    "\n",
    "*`57`*\n",
    "\n",
    "*`321`*\n",
    "\n",
    "*`88`*\n",
    "\n",
    "\n",
    "**The value returned by the call to `for-each` (not illustrated\n",
    "above) can be something arbitrary, such as true. Give an\n",
    "implementation of `for-each`.**"
   ]
  },
  {
   "cell_type": "code",
   "execution_count": 19,
   "id": "1f969882",
   "metadata": {},
   "outputs": [
    {
     "name": "stdout",
     "output_type": "stream",
     "text": [
      "\n",
      "57\n",
      "321\n",
      "88"
     ]
    }
   ],
   "source": [
    "(define (for-each f items)\n",
    "  (define (iter-continue items)\n",
    "    (f (car items))\n",
    "    (for-each f (cdr items)))\n",
    "  (if (null? items)\n",
    "      #f ; just a dummy value\n",
    "      (iter-continue items)))\n",
    "\n",
    "(for-each (lambda (x) (newline) (display x))\n",
    "          (list 57 321 88))"
   ]
  },
  {
   "cell_type": "markdown",
   "id": "e8145f5e",
   "metadata": {},
   "source": [
    "## Exercise 2.24\n",
    "**Suppose we evaluate the expression `(list 1 (list 2 (list 3 4)))`. Give the result printed by the interpreter, the corresponding box-and-pointer structure, and the interpretation of this as a tree.**"
   ]
  },
  {
   "cell_type": "markdown",
   "id": "fb0d00e0",
   "metadata": {},
   "source": [
    "The result printed by the interpreter will be\n",
    "```\n",
    "'(1 (2 (3 4)))\n",
    "```\n",
    "\n",
    "A (crude) diagram of the box-and-pointer structure is:\n",
    "\n",
    "![box-and-pointer](aux/2.24/box-and-pointer.png)\n",
    "\n",
    "A diagram of the tree structure is:\n",
    "\n",
    "![tree](aux/2.24/tree.png)"
   ]
  },
  {
   "cell_type": "markdown",
   "id": "2d33c3d3",
   "metadata": {},
   "source": [
    " ## Exercise 2.25\n",
    " \n",
    " **Give combinations of `car`s and `cdr`s that will pick 7 from each of the following lists:**\n",
    " ```\n",
    " (1 3 (5 7) 9)\n",
    " ((7))\n",
    " (1 (2 (3 (4 (5 (6 7))))))\n",
    " ```\n",
    " "
   ]
  },
  {
   "cell_type": "code",
   "execution_count": 20,
   "id": "524cc4bc",
   "metadata": {
    "scrolled": true
   },
   "outputs": [
    {
     "data": {
      "text/html": [
       "<code>7</code>"
      ],
      "text/plain": [
       "7"
      ]
     },
     "execution_count": 20,
     "metadata": {},
     "output_type": "execute_result"
    }
   ],
   "source": [
    "(define in (list 1 3 (list 5 7) 9))\n",
    "\n",
    "(car (cdr (car (cdr (cdr in)))))"
   ]
  },
  {
   "cell_type": "code",
   "execution_count": 21,
   "id": "e2eb9c34",
   "metadata": {},
   "outputs": [
    {
     "data": {
      "text/html": [
       "<code>7</code>"
      ],
      "text/plain": [
       "7"
      ]
     },
     "execution_count": 21,
     "metadata": {},
     "output_type": "execute_result"
    }
   ],
   "source": [
    "(define in (list (list 7)))\n",
    "\n",
    "(car (car in))"
   ]
  },
  {
   "cell_type": "code",
   "execution_count": 22,
   "id": "5c2cf752",
   "metadata": {},
   "outputs": [
    {
     "data": {
      "text/html": [
       "<code>7</code>"
      ],
      "text/plain": [
       "7"
      ]
     },
     "execution_count": 22,
     "metadata": {},
     "output_type": "execute_result"
    }
   ],
   "source": [
    "(define in (list 1 (list 2 (list 3 (list 4 (list 5 (list 6 7)))))))\n",
    "\n",
    "(car (cdr (car (cdr (car (cdr (car (cdr (car (cdr (car (cdr in))))))))))))"
   ]
  },
  {
   "cell_type": "markdown",
   "id": "0dca450e",
   "metadata": {},
   "source": [
    "## Exercise 2.26\n",
    "**Suppose we define `x` and `y` to be two lists:**"
   ]
  },
  {
   "cell_type": "code",
   "execution_count": 23,
   "id": "41bf1857",
   "metadata": {},
   "outputs": [],
   "source": [
    "(define x (list 1 2 3))\n",
    "(define y (list 4 5 6))"
   ]
  },
  {
   "cell_type": "markdown",
   "id": "1ed72ec1",
   "metadata": {},
   "source": [
    "**What result is printed by the interpreter in response to evaluating each of the following expressions:**\n"
   ]
  },
  {
   "cell_type": "code",
   "execution_count": 24,
   "id": "dfa2b9dc",
   "metadata": {},
   "outputs": [
    {
     "data": {
      "text/html": [
       "<code>'(1 2 3 4 5 6)</code>"
      ],
      "text/plain": [
       "'(1 2 3 4 5 6)"
      ]
     },
     "execution_count": 24,
     "metadata": {},
     "output_type": "execute_result"
    }
   ],
   "source": [
    "(append x y)"
   ]
  },
  {
   "cell_type": "code",
   "execution_count": 25,
   "id": "801deba5",
   "metadata": {},
   "outputs": [
    {
     "data": {
      "text/html": [
       "<code>'((1 2 3) 4 5 6)</code>"
      ],
      "text/plain": [
       "'((1 2 3) 4 5 6)"
      ]
     },
     "execution_count": 25,
     "metadata": {},
     "output_type": "execute_result"
    }
   ],
   "source": [
    "(cons x y)"
   ]
  },
  {
   "cell_type": "code",
   "execution_count": 26,
   "id": "4ea44a00",
   "metadata": {},
   "outputs": [
    {
     "data": {
      "text/html": [
       "<code>'((1 2 3) (4 5 6))</code>"
      ],
      "text/plain": [
       "'((1 2 3) (4 5 6))"
      ]
     },
     "execution_count": 26,
     "metadata": {},
     "output_type": "execute_result"
    }
   ],
   "source": [
    "(list x y)\n"
   ]
  },
  {
   "cell_type": "markdown",
   "id": "ef7d70d1",
   "metadata": {},
   "source": [
    "## Exercise 2.27\n",
    "\n",
    "**Modify your `reverse` procedure of Exercise 2.18 to produce a `deep-reverse` procedure that takes a list as argument and returns as its value the list with its elements reversed and with all sublists deep-reversed as well. For example,**\n",
    "\n",
    "`(define x (list (list 1 2) (list 3 4)))`\n",
    "\n",
    "`x`\n",
    "\n",
    "*`((1 2) (3 4))`*\n",
    "\n",
    "`(reverse x)`\n",
    "\n",
    "*`((3 4) (1 2))`*\n",
    "\n",
    "`(deep-reverse x)`\n",
    "\n",
    "*`(4 3) (2 1))`*"
   ]
  },
  {
   "cell_type": "code",
   "execution_count": 27,
   "id": "d26071fc",
   "metadata": {},
   "outputs": [
    {
     "data": {
      "text/html": [
       "<code>'((1 2) (3 4))</code>"
      ],
      "text/plain": [
       "'((1 2) (3 4))"
      ]
     },
     "execution_count": 27,
     "metadata": {},
     "output_type": "execute_result"
    }
   ],
   "source": [
    "(define (deep-reverse l)\n",
    "  (cond ((not (pair? l)) l)\n",
    "        ((null? (cdr l)) (list (deep-reverse (car l))))\n",
    "        (else (append (deep-reverse (cdr l)) (list (deep-reverse (car l)))))))\n",
    "\n",
    "(define x (list (list 1 2) (list 3 4)))\n",
    "x"
   ]
  },
  {
   "cell_type": "code",
   "execution_count": 28,
   "id": "03fd9baf",
   "metadata": {},
   "outputs": [
    {
     "data": {
      "text/html": [
       "<code>'((4 3) (2 1))</code>"
      ],
      "text/plain": [
       "'((4 3) (2 1))"
      ]
     },
     "execution_count": 28,
     "metadata": {},
     "output_type": "execute_result"
    }
   ],
   "source": [
    "(deep-reverse x)"
   ]
  },
  {
   "cell_type": "markdown",
   "id": "07984782",
   "metadata": {},
   "source": [
    "## Exercise 2.28\n",
    "\n",
    "**Write a procedure `fringe` that takes as argument a tree (represented as a list) and returns a list whose elements are all the leaves of the tree arranged in left-to-right order. For example,**\n",
    "\n",
    "\n",
    "```\n",
    "(define x (list (list 1 2) (list 3 4)))\n",
    "(fringe x)\n",
    "```\n",
    "*`(1 2 3 4)`*\n",
    "```\n",
    "(fringe (list x x))\n",
    "```\n",
    "*`(1 2 3 4 1 2 3 4)`*"
   ]
  },
  {
   "cell_type": "code",
   "execution_count": 29,
   "id": "9f43d81d",
   "metadata": {},
   "outputs": [],
   "source": [
    "(define (fringe t)\n",
    "  (cond ((null? t) (list)) ; If input is empty, fringe is empty\n",
    "        ((not (pair? t)) (list t)) ; If input is a leaf, fringe is a list containing that item\n",
    "        (else (append (fringe (car t)) (fringe (cdr t)))))) ; Else, split the tree and append left and right fringes\n"
   ]
  },
  {
   "cell_type": "code",
   "execution_count": 30,
   "id": "17b8a96f",
   "metadata": {},
   "outputs": [
    {
     "data": {
      "text/html": [
       "<code>'(1 2 3 4)</code>"
      ],
      "text/plain": [
       "'(1 2 3 4)"
      ]
     },
     "execution_count": 30,
     "metadata": {},
     "output_type": "execute_result"
    }
   ],
   "source": [
    "(define x (list (list 1 2) (list 3 4)))\n",
    "(fringe x)"
   ]
  },
  {
   "cell_type": "code",
   "execution_count": 31,
   "id": "6b5fb445",
   "metadata": {},
   "outputs": [
    {
     "data": {
      "text/html": [
       "<code>'(1 2 3 4 1 2 3 4)</code>"
      ],
      "text/plain": [
       "'(1 2 3 4 1 2 3 4)"
      ]
     },
     "execution_count": 31,
     "metadata": {},
     "output_type": "execute_result"
    }
   ],
   "source": [
    "(fringe (list x x))"
   ]
  },
  {
   "cell_type": "markdown",
   "id": "f1c31861",
   "metadata": {},
   "source": [
    "## Exercise 2.29\n",
    "\n",
    "**A binary mobile consists of two branches, a left branch and a right branch. Each branch is a rod of a certain length, from which hangs either a weight or another binary mobile. We can represent a binary mobile using compound data by constructing it from two branches (for example, using `list`):**\n",
    "\n",
    "```\n",
    "(define (make-mobile left right)\n",
    "  (list left right))\n",
    "```\n",
    "\n",
    "**A branch is constructed from a `length` (which must be a number) together with a `structure`, which may be either a number (representing a simple weight) or another mobile:**\n",
    "\n",
    "```\n",
    "(define (make-branch length structure)\n",
    "  (list length structure))\n",
    "```\n",
    "\n",
    "a. **Write the corresponding selectors `left-branch` and\n",
    "`right-branch`, which return the branches of a mobile,\n",
    "and `branch-length` and `branch-structure`, which return the components of a branch.**\n",
    "\n",
    "b. **Using your selectors, define a procedure `total-weight`\n",
    "that returns the total weight of a mobile.**\n",
    "\n",
    "c. **A mobile is said to be _balanced_ if the torque applied by\n",
    "its top-left branch is equal to that applied by its top-right branch (that is, if the length of the left rod multiplied by the weight hanging from that rod is equal\n",
    "to the corresponding product for the right side) and if\n",
    "each of the submobiles hanging off its branches is balanced. Design a predicate that tests whether a binary\n",
    "mobile is balanced.**\n",
    "\n",
    "d. **Suppose we change the representation of mobiles so\n",
    "that the constructors are**\n",
    "```\n",
    "(define (make-mobile left right) (cons left right))\n",
    "(define (make-branch length structure)\n",
    "  (cons length structure))\n",
    "```\n",
    "**How much do you need to change your programs to\n",
    "convert to the new representation?**"
   ]
  },
  {
   "cell_type": "code",
   "execution_count": 32,
   "id": "62ea61ba",
   "metadata": {},
   "outputs": [],
   "source": [
    "; First we execute definitions from the text so we can use them in our answers\n",
    "(define (make-mobile left right)\n",
    "  (list left right))\n",
    "\n",
    "(define (make-branch length structure)\n",
    "  (list length structure))"
   ]
  },
  {
   "cell_type": "markdown",
   "id": "0239f3b3",
   "metadata": {},
   "source": [
    "a. Given below are the definitions of `left-branch`, `right-branch`, `branch-length` and `branch-structure`.\n"
   ]
  },
  {
   "cell_type": "code",
   "execution_count": 33,
   "id": "b679633c",
   "metadata": {},
   "outputs": [],
   "source": [
    "(define (left-branch mobile)\n",
    "  (car mobile))\n",
    "\n",
    "(define (right-branch mobile)\n",
    "  (car (cdr mobile)))\n",
    "\n",
    "(define (branch-length branch)\n",
    "  (car branch))\n",
    "\n",
    "(define (branch-structure branch)\n",
    "  (car (cdr branch)))"
   ]
  },
  {
   "cell_type": "markdown",
   "id": "b012b13f",
   "metadata": {},
   "source": [
    "b. Given below is the definition of `total-weight`."
   ]
  },
  {
   "cell_type": "code",
   "execution_count": 34,
   "id": "9f9ade73",
   "metadata": {},
   "outputs": [
    {
     "data": {
      "text/html": [
       "<code>13</code>"
      ],
      "text/plain": [
       "13"
      ]
     },
     "execution_count": 34,
     "metadata": {},
     "output_type": "execute_result"
    }
   ],
   "source": [
    "(define (total-weight mobile)\n",
    "  (define (branch-weight branch)\n",
    "    (total-weight (branch-structure branch)))\n",
    "  (if (not (pair? mobile))\n",
    "      mobile\n",
    "      (+ (branch-weight (right-branch mobile))\n",
    "         (branch-weight (left-branch mobile)))))\n",
    "\n",
    "(define b1 (make-branch 2 3)) ; weight 3\n",
    "(define b2 (make-branch 3 5)) ; weight 5\n",
    "(define b3 (make-branch 1 (make-mobile b1 b2))) ; weight 3 + 5 = 8\n",
    "(define m1 (make-mobile b2 b3)) ; weight 5 + 8 = 13\n",
    "\n",
    "(total-weight m1)\n"
   ]
  },
  {
   "cell_type": "markdown",
   "id": "960d04c9",
   "metadata": {},
   "source": [
    "c. Given below is a definition of `is-balanced?`, a predicate that tests whether a given mobile is balanced."
   ]
  },
  {
   "cell_type": "code",
   "execution_count": 35,
   "id": "c386ee23",
   "metadata": {},
   "outputs": [
    {
     "data": {
      "text/html": [
       "<code>#f</code>"
      ],
      "text/plain": [
       "#f"
      ]
     },
     "execution_count": 35,
     "metadata": {},
     "output_type": "execute_result"
    }
   ],
   "source": [
    "(define (is-balanced? mobile)\n",
    "  (define (is-branch-balanced? branch)\n",
    "    (is-balanced? (branch-structure branch)))\n",
    "  (define (moment branch)\n",
    "    (* (branch-length branch)\n",
    "       (total-weight (branch-structure branch))))\n",
    "  (if (not (pair? mobile))\n",
    "      #t\n",
    "      (and (is-branch-balanced? (left-branch mobile))\n",
    "           (is-branch-balanced? (right-branch mobile))\n",
    "           (= (moment (left-branch mobile))\n",
    "              (moment (right-branch mobile))))))\n",
    "\n",
    "(is-balanced? m1)"
   ]
  },
  {
   "cell_type": "code",
   "execution_count": 36,
   "id": "36241e2e",
   "metadata": {},
   "outputs": [
    {
     "data": {
      "text/html": [
       "<code>#t</code>"
      ],
      "text/plain": [
       "#t"
      ]
     },
     "execution_count": 36,
     "metadata": {},
     "output_type": "execute_result"
    }
   ],
   "source": [
    "(define b4 (make-branch 4 3)) ; moment 12\n",
    "(define b5 (make-branch 2 6)) ; moment 12\n",
    "(define b6 (make-branch 2 (make-mobile b4 b5))) ; moment 18\n",
    "(define b7 (make-branch 6 3)) ; moment 18\n",
    "(define m2 (make-mobile b6 b7))\n",
    "\n",
    "(is-balanced? m2)"
   ]
  },
  {
   "cell_type": "markdown",
   "id": "a3a38495",
   "metadata": {},
   "source": [
    "d. Upon changing the constructors, we *must* change the accessors `branch-structure` and `right-branch` because they don't work when a branch is defined as a pair instead of a list."
   ]
  },
  {
   "cell_type": "code",
   "execution_count": 37,
   "id": "76c603ea",
   "metadata": {},
   "outputs": [],
   "source": [
    "(define (make-mobile left right) (cons left right))\n",
    "(define (make-branch length structure)\n",
    "  (cons length structure))\n",
    "\n",
    "(define (branch-structure branch)\n",
    "  (cdr branch))\n",
    "(define (right-branch mobile)\n",
    "  (cdr mobile))"
   ]
  },
  {
   "cell_type": "markdown",
   "id": "2400d2c3",
   "metadata": {},
   "source": [
    "After this, the programs don't need any other change, as the programs we wrote traversed through mobiles and branches using only the _interface_ defined by our constructors and accessors, without assuming anything about the implementation. The fact that the programs run can be verified by re-executing the respective cells after executing the cell where we have made the redefinitions."
   ]
  },
  {
   "cell_type": "markdown",
   "id": "b3d58a54",
   "metadata": {},
   "source": [
    "### Exercise 2.30\n",
    "\n",
    "**Define a procedure `square-tree` analogous\n",
    "to the `square-list` procedure of Exercise 2.21. That is, `square-tree` should behave as follows:**\n",
    "```\n",
    "(square-tree\n",
    "  (list 1\n",
    "        (list 2 (list 3 4) 5)\n",
    "        (list 6 7)))\n",
    "```\n",
    "*`(1 (4 (9 16) 25) (36 49))`*\n",
    "\n",
    "**Define `square-tree` both directly (i.e., without using any higher-order procedures) and also by using `map` and recursion.**"
   ]
  },
  {
   "cell_type": "code",
   "execution_count": 38,
   "id": "c403b55a",
   "metadata": {},
   "outputs": [
    {
     "data": {
      "text/html": [
       "<code>'(1 (4 (9 16) 25) (36 49))</code>"
      ],
      "text/plain": [
       "'(1 (4 (9 16) 25) (36 49))"
      ]
     },
     "execution_count": 38,
     "metadata": {},
     "output_type": "execute_result"
    }
   ],
   "source": [
    "; Direct definition of square-tree\n",
    "(define (square-tree tree)\n",
    "  (cond ((null? tree) (list))\n",
    "        ((not (pair? tree)) (* tree tree))\n",
    "        (else (append (list (square-tree (car tree)))\n",
    "                      (square-tree (cdr tree))))))\n",
    "\n",
    "(define tree\n",
    "  (list 1\n",
    "        (list 2 (list 3 4) 5)\n",
    "        (list 6 7)))\n",
    "\n",
    "(square-tree tree)"
   ]
  },
  {
   "cell_type": "code",
   "execution_count": 39,
   "id": "7dd2ec07",
   "metadata": {},
   "outputs": [
    {
     "data": {
      "text/html": [
       "<code>'(1 (4 (9 16) 25) (36 49))</code>"
      ],
      "text/plain": [
       "'(1 (4 (9 16) 25) (36 49))"
      ]
     },
     "execution_count": 39,
     "metadata": {},
     "output_type": "execute_result"
    }
   ],
   "source": [
    "; Definition of square-tree using map and recursion\n",
    "(define (square-tree tree)\n",
    "  (map (lambda (sub-tree)\n",
    "         (if (pair? sub-tree)\n",
    "             (square-tree sub-tree)\n",
    "             (* sub-tree sub-tree)))\n",
    "       tree))\n",
    "\n",
    "(square-tree tree)"
   ]
  },
  {
   "cell_type": "markdown",
   "id": "14f735d9",
   "metadata": {},
   "source": [
    "## Exercise 2.31\n",
    "**Abstract your answer to Exercise 2.30 to produce a procedure `tree-map` with the property that `square-tree` could be defined as**\n",
    "\n",
    "```\n",
    "(define (square-tree tree) (tree-map square tree))\n",
    "```"
   ]
  },
  {
   "cell_type": "code",
   "execution_count": 40,
   "id": "ddb751b3",
   "metadata": {},
   "outputs": [],
   "source": [
    "(define (tree-map f tree)\n",
    "  (map (lambda (sub-tree)\n",
    "         (if (pair? sub-tree)\n",
    "             (tree-map f sub-tree)\n",
    "             (f sub-tree)))\n",
    "       tree))"
   ]
  },
  {
   "cell_type": "markdown",
   "id": "ef6d768a",
   "metadata": {},
   "source": [
    "Having defined `tree-map` above, we can now express `square-tree` as:"
   ]
  },
  {
   "cell_type": "code",
   "execution_count": 41,
   "id": "ce6a02d1",
   "metadata": {},
   "outputs": [
    {
     "data": {
      "text/html": [
       "<code>'(1 (4 (9 16) 25) (36 49))</code>"
      ],
      "text/plain": [
       "'(1 (4 (9 16) 25) (36 49))"
      ]
     },
     "execution_count": 41,
     "metadata": {},
     "output_type": "execute_result"
    }
   ],
   "source": [
    "(define (square x) (* x x))\n",
    "(define (square-tree tree) (tree-map square tree))\n",
    "\n",
    "(square-tree tree)"
   ]
  },
  {
   "cell_type": "markdown",
   "id": "daf7dbc0",
   "metadata": {},
   "source": [
    "## Exercise 2.32\n",
    "\n",
    "**We can represent a set as a list of distinct elements, and we can represent the set of all subsets of the set as a list of lists. For example, if the set is `(1 2 3)`, then the set of all subsets is `(() (3) (2) (2 3) (1) (1 3) (1 2) (1 2 3))`. Complete the following definition of a procedure that generates the set of subsets of a set and give a clear explanation of why it works:**\n",
    "\n",
    "```\n",
    "(define (subset s)\n",
    "  (if (null? s)\n",
    "      (list nil)\n",
    "      (let ((rest (subsets (cdr s))))\n",
    "        (append rest (map <??> rest)))))\n",
    "```"
   ]
  },
  {
   "cell_type": "code",
   "execution_count": 42,
   "id": "08928294",
   "metadata": {},
   "outputs": [
    {
     "data": {
      "text/html": [
       "<code>'(() (3) (2) (2 3) (1) (1 3) (1 2) (1 2 3))</code>"
      ],
      "text/plain": [
       "'(() #0=(3) #1=(2) #2=(2 . #0#) (1) (1 . #0#) (1 . #1#) (1 . #2#))"
      ]
     },
     "execution_count": 42,
     "metadata": {},
     "output_type": "execute_result"
    }
   ],
   "source": [
    "(define (subsets s)\n",
    "  (if (null? s)\n",
    "      (list (list)) ; Racket doesn't seem to recognize nil\n",
    "      (let ((rest (subsets (cdr s))))\n",
    "        (append rest (map (lambda (set) (append (list (car s)) set)) rest)))))\n",
    "\n",
    "(define set (list 1 2 3))\n",
    "(subsets set)"
   ]
  },
  {
   "cell_type": "markdown",
   "id": "f71520e5",
   "metadata": {},
   "source": [
    "The `susbets` procedure works in this way: first, there is the base case where we check if the input set is null, which would be an empty list, so an empty set according to our representation. The empty set only has one subset, which is the empty set itself, so result is `(())`, or set containing the empty set.\n",
    "\n",
    "The recursion case uses this fact about the _powerset_ of S (the set of all subsets of S) to compute the answer: for any element e in S, the elements of the _powerset_ can be divided into two categories:\n",
    "1. **Subsets of $S$ that do not contain $e$**, which can be computed by removing $e$ from $S$, and computing all the subsets of that set, i.e. recursively applying our function to $S \\setminus e$. This is what `rest` is defined as above, `(subsets (cdr s))`.\n",
    "2. **Subsets of $S$ that contain $e$**, which can be computed by first computing all the subsets of $S \\setminus e$, and then adding back $e$ to each of those sets. This is what the lambda passed to the `map` is doing in the code.\n",
    "\n",
    "In each of these categories, we are computing our function for a smaller input, so we are going towards the base case. The union of the two sets described above is the result we want, so we `append` the two results."
   ]
  },
  {
   "cell_type": "markdown",
   "id": "d903bc37",
   "metadata": {},
   "source": [
    "## Exercise 2.33\n",
    "**Fill in the missing expressions to complete\n",
    "the following definitions of some basic list-manipulation\n",
    "operations as accumulations:**\n",
    "```\n",
    "(define (map p sequence)\n",
    "  (accumulate (lambda (x y) ⟨??⟩) nil sequence))\n",
    "```\n",
    "```\n",
    "(define (append seq1 seq2)\n",
    "  (accumulate cons ⟨??⟩ ⟨??⟩))\n",
    "```\n",
    "```\n",
    "(define (length sequence)\n",
    "  (accumulate ⟨??⟩ 0 sequence))\n",
    "```\n"
   ]
  },
  {
   "cell_type": "code",
   "execution_count": 43,
   "id": "e0e318f1",
   "metadata": {},
   "outputs": [],
   "source": [
    "; Copying the definition of accumulate from the text so we can use it\n",
    "(define (accumulate op initial sequence)\n",
    "  (if (null? sequence)\n",
    "      initial\n",
    "      (op (car sequence)\n",
    "          (accumulate op initial (cdr sequence)))))"
   ]
  },
  {
   "cell_type": "code",
   "execution_count": 44,
   "id": "0651caf6",
   "metadata": {},
   "outputs": [
    {
     "data": {
      "text/html": [
       "<code>'(1 4 9 16 25)</code>"
      ],
      "text/plain": [
       "'(1 4 9 16 25)"
      ]
     },
     "execution_count": 44,
     "metadata": {},
     "output_type": "execute_result"
    }
   ],
   "source": [
    "; Now defining map in terms of accumulate\n",
    "(define (map p sequence)\n",
    "  (accumulate (lambda (x y) (cons (p x) y)) '() sequence))\n",
    "\n",
    "(let ((square (lambda (x) (* x x))))\n",
    "  (map square (list 1 2 3 4 5)))"
   ]
  },
  {
   "cell_type": "code",
   "execution_count": 45,
   "id": "643e21e5",
   "metadata": {},
   "outputs": [
    {
     "data": {
      "text/html": [
       "<code>'(1 2 3 4 5 6)</code>"
      ],
      "text/plain": [
       "'(1 2 3 4 5 6)"
      ]
     },
     "execution_count": 45,
     "metadata": {},
     "output_type": "execute_result"
    }
   ],
   "source": [
    "; Defining append in terms of accumulate\n",
    "(define (append seq1 seq2)\n",
    "  (accumulate cons seq2 seq1))\n",
    "\n",
    "(append (list 1 2 3) (list 4 5 6))"
   ]
  },
  {
   "cell_type": "code",
   "execution_count": 46,
   "id": "724ad2e2",
   "metadata": {},
   "outputs": [
    {
     "data": {
      "text/html": [
       "<code>4</code>"
      ],
      "text/plain": [
       "4"
      ]
     },
     "execution_count": 46,
     "metadata": {},
     "output_type": "execute_result"
    }
   ],
   "source": [
    "; Defining length in terms of accumulate\n",
    "(define (length sequence)\n",
    "  (accumulate (lambda (x y) (+ y 1)) 0 sequence))\n",
    "\n",
    "(length (list 12 34 56 78))"
   ]
  },
  {
   "cell_type": "markdown",
   "id": "73a786b7",
   "metadata": {},
   "source": [
    "## Exercise 2.34\n",
    "\n",
    "**Evaluating a polynomial in $x$ at a given value\n",
    "of $x$ can be formulated as an accumulation. We evaluate the\n",
    "polynomial**\n",
    "\n",
    "$$\n",
    "a_n x^n + a_{n −1} x^{n −1} + ... + a_1x + a_0\n",
    "$$\n",
    "\n",
    "**using a well-known algorithm called Horner’s rule, which\n",
    "structures the computation as**\n",
    "\n",
    "$$\n",
    "(. . . (a_n x + a_{n −1})x + · · · + a_1 )x + a_0\n",
    "$$\n",
    "\n",
    "**In other words, we start with $a_n$ , multiply by $x$, add $a_{n −1}$,\n",
    "multiply by $x$, and so on, until we reach a $0$.\n",
    "Fill in the following template to produce a procedure that\n",
    "evaluates a polynomial using Horner’s rule. Assume that\n",
    "the coefficients of the polynomial are arranged in a sequence,\n",
    "from $a_0$ through $a_n$.**\n",
    "```\n",
    "(define (horner-eval x coefficient-sequence)\n",
    "  (accumulate (lambda (this-coeff higher-terms) ⟨??⟩)\n",
    "              0\n",
    "              coefficient-sequence))\n",
    "```\n",
    "**For example, to compute $1+3x +5x^3 +x^5$ at $x = 2$ you would\n",
    "evaluate**\n",
    "```\n",
    "(horner-eval 2 (list 1 3 0 5 0 1))\n",
    "```"
   ]
  },
  {
   "cell_type": "code",
   "execution_count": 47,
   "id": "dcac184d",
   "metadata": {},
   "outputs": [
    {
     "data": {
      "text/html": [
       "<code>79</code>"
      ],
      "text/plain": [
       "79"
      ]
     },
     "execution_count": 47,
     "metadata": {},
     "output_type": "execute_result"
    }
   ],
   "source": [
    "(define (horner-eval x coefficient-sequence)\n",
    "  (accumulate (lambda (this-coefficient higher-terms) (+ (* x higher-terms) this-coefficient))\n",
    "              0\n",
    "              coefficient-sequence))\n",
    "\n",
    "(horner-eval 2 (list 1 3 0 5 0 1))"
   ]
  },
  {
   "cell_type": "markdown",
   "id": "de7013ac",
   "metadata": {},
   "source": [
    "## Exercise 2.35\n",
    "**Redefine `count-leaves` from Section 2.2.2 as an accumulation:**\n",
    "```\n",
    "(define (count-leaves t)\n",
    "  (accumulate <??> <??> (map <??> <??>)))\n",
    "```"
   ]
  },
  {
   "cell_type": "code",
   "execution_count": 48,
   "id": "b0bf774b",
   "metadata": {},
   "outputs": [
    {
     "data": {
      "text/html": [
       "<code>5</code>"
      ],
      "text/plain": [
       "5"
      ]
     },
     "execution_count": 48,
     "metadata": {},
     "output_type": "execute_result"
    }
   ],
   "source": [
    "(define (count-leaves t)\n",
    "  (accumulate (lambda (this-subtree current-count)\n",
    "                (cond ((null? this-subtree) current-count)\n",
    "                      ((not (pair? this-subtree)) (+ 1 current-count))\n",
    "                      (else (+ current-count\n",
    "                               (count-leaves (list (car this-subtree)))\n",
    "                               (count-leaves (cdr this-subtree))))))\n",
    "              0\n",
    "              t))\n",
    "(count-leaves (list 1 (list 2 (list 3 4) (list 5))))"
   ]
  },
  {
   "cell_type": "markdown",
   "id": "6090313d",
   "metadata": {},
   "source": [
    "## Exercise 2.36\n",
    "**The procedure `accumulate-n` is similar to `accumulate` except that it takes as its third argument a sequence of sequences, which are all assumed to have the same number of elements. It applies the designated accumulation procedure to combine all the first elements of the sequences, all the second elements of the sequences, and so on, and returns a sequence of the results. For instance, if `s` is a sequence containing four sequences, `((1 2 3) (4 5 6) (7 8 9) (10 11 12))`, then the value of `(accumulate-n + 0 s)` should be the sequence `(22 26 30)`. Fill in the missing expressions in the following definition of `accumulate-n`.**\n",
    "```\n",
    "(define (accumulate-n op init seqs)\n",
    "  (if (null? (car seqs))\n",
    "      nil\n",
    "      (cons (accumulate op init <??>)\n",
    "            (accumulate-n op init <??>))))\n",
    "```\n"
   ]
  },
  {
   "cell_type": "code",
   "execution_count": 49,
   "id": "32638098",
   "metadata": {},
   "outputs": [
    {
     "data": {
      "text/html": [
       "<code>'(22 26 30)</code>"
      ],
      "text/plain": [
       "'(22 26 30)"
      ]
     },
     "execution_count": 49,
     "metadata": {},
     "output_type": "execute_result"
    }
   ],
   "source": [
    "(define (accumulate-n op init seqs)\n",
    "  (if (null? (car seqs))\n",
    "      '()\n",
    "      (cons (accumulate op init (accumulate cons '() (map car seqs)))\n",
    "            (accumulate-n op init (accumulate cons '() (map cdr seqs))))))\n",
    "\n",
    "(accumulate-n + 0 (list (list 1 2 3) (list 4 5 6) (list 7 8 9) (list 10 11 12)))"
   ]
  },
  {
   "cell_type": "markdown",
   "id": "dbc26130",
   "metadata": {},
   "source": [
    "## Exercise 2.37\n",
    "**Suppose we represent vectors $\\mathbf{v} = (v_i)$ as sequences of numbers, and matrices $\\mathbf{m} = (m_{ij})$ as sequences of vectors (the rows of the matrix). For example, the matrix**\n",
    "$$\n",
    "\\begin{pmatrix}\n",
    "1 & 2 & 3 & 4\\\\\n",
    "4 & 5 & 6 & 6\\\\\n",
    "6 & 7 & 8 & 9\n",
    "\\end{pmatrix}\n",
    "$$\n",
    "**is represented as the sequence `((1 2 3 4) (4 5 6 6) (6 7 8 9))`. With this representation, we can use sequence operations to concisely express the basic matrix and vector operations. These operations (which are described in any book on matrix algebra) are the following:**\n",
    "\n",
    "|  | |\n",
    "| -- | -- |\n",
    "| `(dot-product v w)` | returns the sum $\\Sigma_i v_i w_i$; |\n",
    "| `(matrix-*-vector m v)` | returns the vector $\\mathbf{t}$, where $t_i = \\Sigma_j m_{ij} v_j$; |\n",
    "| `(matrix-*-matrix m n)` | returns the matrix $\\mathbf{p}$, where $p_{ij} = \\Sigma_k m_{ik}n_{kj}$; |\n",
    "| `(transpose m)` | returns the matrix $\\mathbf{n}$, where $n_{ij} = m_{ji}$. |\n",
    "\n",
    "**We can define the dot product as**\n",
    "```\n",
    "(define (dot-product v w)\n",
    "  (accumulate + 0 (map * v w)))\n",
    "```\n",
    "\n",
    "**Fill in the missing expressions in the following procedures for computing the other matrix operations. (The procedure `accumulate-n` is defined in Exercise 2.36)**\n",
    "\n",
    "```\n",
    "(define (matrix-*-vector m v)\n",
    "  (map ⟨??⟩ m))\n",
    "(define (transpose mat)\n",
    "  (accumulate-n ⟨??⟩ ⟨??⟩ mat))\n",
    "(define (matrix-*-matrix m n)\n",
    "  (let ((cols (transpose n)))\n",
    "    (map ⟨??⟩ m)))\n",
    "```"
   ]
  },
  {
   "cell_type": "code",
   "execution_count": 50,
   "id": "2ef07389",
   "metadata": {},
   "outputs": [
    {
     "data": {
      "text/html": [
       "<code>'(17 10)</code>"
      ],
      "text/plain": [
       "'(17 10)"
      ]
     },
     "execution_count": 50,
     "metadata": {},
     "output_type": "execute_result"
    }
   ],
   "source": [
    "; Defining dot-product first to use it later\n",
    "; different to what's given in the book because Racket\n",
    "; apparently doesn't support multi-list maps.\n",
    "(define (dot-product v w)\n",
    "  (accumulate + 0 (accumulate-n * 1 (list v w))))\n",
    "\n",
    "; Defining and trying out matrix-*-vector\n",
    "(define (matrix-*-vector m v)\n",
    "  (map (lambda (row) (dot-product row v)) m))\n",
    "\n",
    "(let ((m (list (list 1 2) (list 2 0)))\n",
    "      (v (list 5 6)))\n",
    "  (matrix-*-vector m v))\n",
    "  "
   ]
  },
  {
   "cell_type": "code",
   "execution_count": 51,
   "id": "75139006",
   "metadata": {},
   "outputs": [
    {
     "data": {
      "text/html": [
       "<code>'((1 3) (2 0))</code>"
      ],
      "text/plain": [
       "'((1 3) (2 0))"
      ]
     },
     "execution_count": 51,
     "metadata": {},
     "output_type": "execute_result"
    }
   ],
   "source": [
    "; Defining and trying out transpose\n",
    "(define (transpose mat)\n",
    "  (accumulate-n cons '() mat))\n",
    "\n",
    "(let ((m (list (list 1 2) (list 3 0))))\n",
    "  (transpose m))"
   ]
  },
  {
   "cell_type": "code",
   "execution_count": 52,
   "id": "0368e9db",
   "metadata": {},
   "outputs": [
    {
     "data": {
      "text/html": [
       "<code>'((1 11) (3 9))</code>"
      ],
      "text/plain": [
       "'((1 11) (3 9))"
      ]
     },
     "execution_count": 52,
     "metadata": {},
     "output_type": "execute_result"
    }
   ],
   "source": [
    "; Defining and trying out matrix-*-matrix\n",
    "(define (matrix-*-matrix m n)\n",
    "  (let ((cols (transpose n)))\n",
    "    (map (lambda (row-m) (matrix-*-vector cols row-m)) m)))\n",
    "\n",
    "(let ((m (list (list 1 2) (list 3 0)))\n",
    "      (n (list (list 1 3) (list 0 4))))\n",
    "  (matrix-*-matrix m n))"
   ]
  },
  {
   "cell_type": "markdown",
   "id": "177a2750",
   "metadata": {},
   "source": [
    "## Exercise 2.38\n",
    "**The accumulate procedure is also known as\n",
    "`fold-right`, because it combines the first element of the\n",
    " sequence with the result of combining all the elements to the\n",
    "right. There is also a `fold-left`, which is similar to `fold-right`,\n",
    "except that it combines elements working in the opposite direction:**\n",
    "\n",
    "```\n",
    "(define (fold-left op initial sequence)\n",
    "  (define (iter result rest)\n",
    "    (if (null? rest)\n",
    "        result\n",
    "        (iter (op result (car rest))\n",
    "              (cdr rest))))\n",
    "  (iter initial sequence))\n",
    "```\n",
    "\n",
    "**What are the values of**\n",
    "```\n",
    "(fold-right / 1 (list 1 2 3)) \n",
    "(fold-left / 1 (list 1 2 3)) \n",
    "(fold-right list nil (list 1 2 3)) \n",
    "(fold-left list nil (list 1 2 3)) \n",
    "```\n",
    "**Give a property that op should satisfy to guarantee that\n",
    "`fold-right` and `fold-left` will produce the same values\n",
    "for any sequence.**\n"
   ]
  },
  {
   "cell_type": "markdown",
   "id": "f43f2744",
   "metadata": {},
   "source": [
    "The values values of the given expressions are evaluated below, taking one iterative step at a time:\n",
    "###  `(fold-right / 1 (list 1 2 3))`\n",
    "- `(/ 1 (fold-right / 1 (list 2 3)))`\n",
    "- `(/ 1 (/ 2 (fold-right / 1 (list 3))))`\n",
    "- `(/ 1 (/ 2 (/ 3 (fold-right / 1 nil))))`\n",
    "- `(/ 1 (/ 2 (/ 3 1)))`\n",
    "- `(/ 1 (/ 2 3))`\n",
    "- `(/ 1 0.66666...)`\n",
    "- `1.5`\n",
    "\n",
    "###  `(fold-left / 1 (list 1 2 3))`\n",
    "- `(fold-left / (/ 1 1) (list 2 3))`\n",
    "- `(fold-left / (/ (/ 1 1) 2) (list 3))`\n",
    "- `(fold-left / (/ (/ (/ 1 1) 2) 3) nil)`\n",
    "- `(/ (/ (/ 1 1) 2) 3)`\n",
    "- `(/ (/ 1 2) 3)`\n",
    "- `(/ 0.5 3)`\n",
    "- `1.66666...`\n",
    "\n",
    "### `(fold-right list nil (list 1 2 3))`\n",
    "- `(list 1 (fold-right list nil (list 2 3)))`\n",
    "- `(list 1 (list 2 (fold-right list nil (list 3))))`\n",
    "- `(list 1 (list 2 (list 3 (fold-right list nil nil))))`\n",
    "- `(list 1 (list 2 (list 3 nil)))`\n",
    "\n",
    "### `(fold-left list nil (list 1 2 3))`\n",
    "- `(fold-left list (list nil 1) (list 2 3))`\n",
    "- `(fold-left list (list (list nil 1) 2) (list 3))`\n",
    "- `(fold-left list (list (list (list nil 1) 2) 3) nil)`\n",
    "- `(list (list (list nil 1) 2) 3)`\n",
    "\n",
    "To guarantee that `fold-right` and `fold-left` will produce the same values for any sequence, first of all the same `op` should be applicable to both of them. This happens when the type of items in the list and the type we are trying to accumulate into (i.e. the type of `initial` and of the result) is the same. Then, `op` should also be associative, i,.e. `(op x (op y z))` should be equal to `(op (op x y) z)` for all inputs `x`, `y` and `z`."
   ]
  },
  {
   "cell_type": "markdown",
   "id": "8e3060c2",
   "metadata": {},
   "source": [
    "## Exercise 2.39\n",
    "**Complete the following definitions of `reverse` (Exercise 2.18) in terms of `fold-right` and `fold-left` from Exercise 2.38:**\n",
    "```\n",
    "(define (reverse sequence)\n",
    "  (fold-right (lambda (x y) <??> nil) sequence))\n",
    "```\n",
    "```\n",
    "(define (reverse (sequence)\n",
    "  (fold-left (lambda (x y) <??>) nil sequence))\n",
    "```"
   ]
  },
  {
   "cell_type": "code",
   "execution_count": 53,
   "id": "8d7e5feb",
   "metadata": {},
   "outputs": [
    {
     "data": {
      "text/html": [
       "<code>'(9 5 4 1)</code>"
      ],
      "text/plain": [
       "'(9 5 4 1)"
      ]
     },
     "execution_count": 53,
     "metadata": {},
     "output_type": "execute_result"
    }
   ],
   "source": [
    "; Defining fold-left and fold-right first\n",
    "(define (fold-left op initial sequence)\n",
    "  (define (iter result rest)\n",
    "    (if (null? rest)\n",
    "        result\n",
    "        (iter (op result (car rest))\n",
    "              (cdr rest))))\n",
    "  (iter initial sequence))\n",
    "\n",
    "(define fold-right accumulate)\n",
    "\n",
    "; In terms of fold-right\n",
    "(define (reverse sequence)\n",
    "  (fold-right (lambda (x y) (append y (list x))) '() sequence))\n",
    "\n",
    "(reverse (list 1 4 5 9))"
   ]
  },
  {
   "cell_type": "code",
   "execution_count": 54,
   "id": "0e97c7a3",
   "metadata": {},
   "outputs": [
    {
     "data": {
      "text/html": [
       "<code>'(9 5 4 1)</code>"
      ],
      "text/plain": [
       "'(9 5 4 1)"
      ]
     },
     "execution_count": 54,
     "metadata": {},
     "output_type": "execute_result"
    }
   ],
   "source": [
    "; In terms of fold-left\n",
    "(define (reverse sequence)\n",
    "  (fold-left (lambda (x y) (cons y x)) '() sequence))\n",
    "\n",
    "(reverse (list 1 4 5 9))"
   ]
  },
  {
   "cell_type": "markdown",
   "id": "be13761d",
   "metadata": {},
   "source": [
    "## Exercise 2.40\n",
    "\n",
    "**Define a procedure `unique-pairs` that, given an integer $n$, generates the sequence of pairs $(i, j)$ with $1\\le j < i \\le n $. Use `unique-pairs` to simplify the definition of `prime-sum-pairs` given above.**"
   ]
  },
  {
   "cell_type": "code",
   "execution_count": 55,
   "id": "8ea612ea",
   "metadata": {},
   "outputs": [
    {
     "data": {
      "text/html": [
       "<code>'((2 1) (3 1) (4 1) (3 2) (4 2) (4 3))</code>"
      ],
      "text/plain": [
       "'((2 1) (3 1) (4 1) (3 2) (4 2) (4 3))"
      ]
     },
     "execution_count": 55,
     "metadata": {},
     "output_type": "execute_result"
    }
   ],
   "source": [
    "; Defining some helper procedures first\n",
    "(define (flatmap proc seq)\n",
    "  (accumulate append '() (map proc seq)))\n",
    "\n",
    "(define (enumerate-interval start end)\n",
    "  (if (> start end)\n",
    "      '()\n",
    "      (cons start (enumerate-interval (+ start 1) end))))\n",
    "\n",
    "(define (make-pair-sum pair)\n",
    "  (list (car pair) (cadr pair) (+ (car pair) (cadr pair))))\n",
    "\n",
    "(define (prime-sum? pair)\n",
    "  (prime? (+ (car pair) (cadr pair))))\n",
    "\n",
    "(define (prime? n)\n",
    "  (define (next i)\n",
    "    (if (= i 2) 3 (+ i 2)))\n",
    "  (define (prime?-iter i)\n",
    "    (if (> i (sqrt n))\n",
    "        #t\n",
    "        (if (= 0 (remainder n i)) #f (prime?-iter (next i)))))\n",
    "  (prime?-iter 2))\n",
    "\n",
    "; Now to define unique-pairs\n",
    "(define (unique-pairs n)\n",
    "  (flatmap (lambda (j) (map (lambda (i) (list i j)) (enumerate-interval (+ j 1) n))) (enumerate-interval 1 n)))\n",
    "\n",
    "(unique-pairs 4)"
   ]
  },
  {
   "cell_type": "code",
   "execution_count": 56,
   "id": "0f36e719",
   "metadata": {},
   "outputs": [
    {
     "data": {
      "text/html": [
       "<code>'((2 1 3) (3 2 5) (4 1 5) (4 3 7) (5 2 7) (6 1 7) (6 5 11))</code>"
      ],
      "text/plain": [
       "'((2 1 3) (3 2 5) (4 1 5) (4 3 7) (5 2 7) (6 1 7) (6 5 11))"
      ]
     },
     "execution_count": 56,
     "metadata": {},
     "output_type": "execute_result"
    }
   ],
   "source": [
    "; Using the above definition of unique-pairs, we can redefine prime-sum-pairs as:\n",
    "(define (prime-sum-pairs n)\n",
    "  (map make-pair-sum\n",
    "       (filter prime-sum? (flatmap\n",
    "                           (lambda (i)\n",
    "                             (map (lambda (j) (list i j))\n",
    "                                  (enumerate-interval 1 (- i 1))))\n",
    "                           (enumerate-interval 1 n)))))\n",
    "\n",
    "(prime-sum-pairs 6)"
   ]
  },
  {
   "cell_type": "markdown",
   "id": "27c64888",
   "metadata": {},
   "source": [
    "\n",
    "## Exercise 2.41\n",
    "**Write a procedure to find all ordered triples of distinct positive integers $i, j$ and $k$ less than or equal to a given integer $n$ that sum to a given integer $s$.**"
   ]
  },
  {
   "cell_type": "code",
   "execution_count": 57,
   "id": "a75a89af",
   "metadata": {},
   "outputs": [
    {
     "data": {
      "text/html": [
       "<code>'((1 2 7) (1 3 6) (1 4 5) (2 3 5))</code>"
      ],
      "text/plain": [
       "'((1 2 7) (1 3 6) (1 4 5) (2 3 5))"
      ]
     },
     "execution_count": 57,
     "metadata": {},
     "output_type": "execute_result"
    }
   ],
   "source": [
    "(define (triples-that-sum-to s n)\n",
    "  (define pairs (flatmap (lambda (i) (map (lambda (j) (list i j))\n",
    "                                          (enumerate-interval (+ i 1) n)))\n",
    "                         (enumerate-interval 1 n)))\n",
    "  (define triples (flatmap (lambda (pair) (map (lambda (k) (append pair (list k)))\n",
    "                                               (enumerate-interval (+ (cadr pair) 1) n)))\n",
    "                           pairs))\n",
    "  (define (triple-sum t)\n",
    "    (+ (car t) (cadr t) (car (cdr (cdr t)))))\n",
    "  (filter (lambda (triple) (= s (triple-sum triple))) triples))\n",
    "\n",
    "(triples-that-sum-to 10 10)"
   ]
  },
  {
   "cell_type": "markdown",
   "id": "e7c3a9d4",
   "metadata": {},
   "source": []
  },
  {
   "cell_type": "markdown",
   "id": "cf4127ff",
   "metadata": {},
   "source": [
    "## Exercise 2.42\n",
    "**The \"eight-queens puzzle\" asks how to place eight queens on a chessboard so that\n",
    "no queen is in check from any other (i.e., no two queens are in the same row,\n",
    "column, or diagonal). One possible solution is shown in Figure 2.8. One way to\n",
    "solve the puzzle is to work across the board, placing a queen in each column.\n",
    " Once we have placed $k − 1$ queens, we must place the $k^{th}$ queen in a\n",
    "position where it does not check any of the queens already on the board. We\n",
    "can formulate this approach recursively: Assume that we\n",
    "have already generated the sequence of all possible ways\n",
    "to place $k − 1$ queens in the first $k − 1$ columns of the board.\n",
    "For each of these ways, generate an extended set of positions by placing a queen\n",
    "in each row of the $k^{th}$ column. Now filter these, keeping only the\n",
    " positions for which the queen in the $k^{th}$ column is safe with respect to\n",
    "the other queens. This produces the sequence of all ways to place $k$ queens in\n",
    "the first $k$ columns. By continuing this process, we will produce not only one\n",
    "solution, but all solutions to the puzzle.**\n",
    "\n",
    "**We implement this solution as a procedure `queens`, which\n",
    "returns a sequence of all solutions to the problem of placing\n",
    "$n$ queens on an $n \\times n$ chessboard. `queens` has an\n",
    "internal procedure `queen-cols` that returns the sequence of all\n",
    "ways to place queens in the first $k$ columns of the board.**\n",
    "\n",
    "```\n",
    "(define (queens board-size)\n",
    "  (define (queen-cols k)\n",
    "    (if (= k 0)\n",
    "        (list empty-board)\n",
    "        (filter\n",
    "          (lambda (positions) (safe? k positions))\n",
    "          (flatmap\n",
    "            (lambda (rest-of-queens)\n",
    "              (map (lambda (new-row)\n",
    "                    (adjoin-position\n",
    "                      new-row k rest-of-queens))\n",
    "                   (enumerate-interval 1 board-size)))\n",
    "            (queen-cols (- k 1))))))\n",
    "  (queen-cols board-size))\n",
    "```\n",
    "\n",
    "**In this procedure `rest-of-queens` is a way to place $k − 1$\n",
    "queens in the first $k-1$ columns, and `new-row` is a proposed\n",
    "row in which to place the queen for the $k^{th}$ column. Complete the\n",
    "program by implementing the representation for\n",
    "sets of board positions, including the procedure `adjoin-position`,\n",
    "which adjoins a new row-column position to a\n",
    "set of positions, and `empty-board`, which represents an empty\n",
    "set of positions. You must also write the procedure `safe?`,\n",
    "which determines for a set of positions, whether the queen\n",
    "in the $k^{th}$ column is safe with respect to the others.\n",
    "(Note that we need only check whether the new queen is safe—\n",
    "the other queens are already guaranteed safe with respect\n",
    "to each other.)**\n"
   ]
  },
  {
   "cell_type": "code",
   "execution_count": 58,
   "id": "594fc114",
   "metadata": {},
   "outputs": [
    {
     "data": {
      "text/html": [
       "<code>92</code>"
      ],
      "text/plain": [
       "92"
      ]
     },
     "execution_count": 58,
     "metadata": {},
     "output_type": "execute_result"
    }
   ],
   "source": [
    "; We will represent a solution to the k-queens problem using a list of k numbers,\n",
    "; where the number in the i_th position *from the end of the list* signifies the\n",
    "; row the queen should be placed in in the i_th column.\n",
    "\n",
    "; Our representation makes empty-board and adjoin-position quite simple\n",
    "(define empty-board '())\n",
    "(define (adjoin-position new-row k rest-of-queens) (cons new-row rest-of-queens))\n",
    "\n",
    "; But we have to do some work to define safe?\n",
    "; Also, our safe? takes board-size instead of k, due to the nature of our representation\n",
    "(define (safe? board-size positions)\n",
    "  \n",
    "  ; Helper to test if an item is in a list\n",
    "  (define (contains? items thing)\n",
    "    (if (null? items)\n",
    "        #f\n",
    "        (or (= thing (car items)) (contains? (cdr items) thing))))\n",
    "  \n",
    "  ; Helper to check if the k'th queen checks any other queen horizontally\n",
    "  ; Which is the same as checking whether any of the row numbers are the same\n",
    "  (define (horizontal-check? positions) (contains? (cdr positions) (car positions)))\n",
    "  \n",
    "  ; Helper to check if the k'th queen checks any other queen in diagonal positions\n",
    "  ; It uses two internally defined helpers of its own for the upper and the lower diagonals.\n",
    "  (define (diagonal-check? positions)\n",
    "    (define (upper-diagonal-check? check-row rest)\n",
    "      (cond ((< check-row 1) #f)\n",
    "            ((null? rest) #f)\n",
    "            ((= (- check-row 1) (car rest)))\n",
    "            (else (upper-diagonal-check? (- check-row 1) (cdr rest)))))\n",
    "    (define (lower-diagonal-check? check-row rest)\n",
    "      (cond ((> check-row board-size) #f)\n",
    "            ((null? rest) #f)\n",
    "            ((= (+ check-row 1) (car rest)))\n",
    "            (else (lower-diagonal-check? (+ check-row 1) (cdr rest)))))\n",
    "    (or (upper-diagonal-check? (car positions) (cdr positions))\n",
    "        (lower-diagonal-check? (car positions) (cdr positions))))\n",
    "  \n",
    "  (not (or (horizontal-check? positions) (diagonal-check? positions))))\n",
    "\n",
    "; Now we can copy the definition of queens and execute it\n",
    "(define (queens board-size)\n",
    "  (define (queen-cols k)\n",
    "    (if (= k 0)\n",
    "        (list empty-board)\n",
    "        (filter\n",
    "          (lambda (positions) (safe? board-size positions))\n",
    "          (flatmap\n",
    "            (lambda (rest-of-queens)\n",
    "              (map (lambda (new-row)\n",
    "                    (adjoin-position\n",
    "                      new-row k rest-of-queens))\n",
    "                   (enumerate-interval 1 board-size)))\n",
    "            (queen-cols (- k 1))))))\n",
    "  (queen-cols board-size))\n",
    "\n",
    "(length (queens 8))"
   ]
  },
  {
   "cell_type": "markdown",
   "id": "a504b7ad",
   "metadata": {},
   "source": [
    "## Exercise 2.43\n",
    "**Louis Reasoner is having a terrible time doing Exercise 2.42.\n",
    "His queens procedure seems to work, but it runs extremely slowly.\n",
    "(Louis never does manage to wait long enough for it to solve even the $6\\times 6$ case.)\n",
    "When Louis asks Eva Lu Ator for help, she points out that he has interchanged the \n",
    "order of the nested mappings in the `flatmap`,\n",
    "writing it as**\n",
    "```\n",
    "(flatmap\n",
    "  (lambda (new-row)\n",
    "    (map (lambda (rest-of-queens)\n",
    "           (adjoin-position new-row k rest-of-queens))\n",
    "         (queen-cols (- k 1))))\n",
    "  (enumerate-interval 1 board-size))\n",
    "```\n",
    "**Explain why this interchange makes the program run slowly.\n",
    "Estimate how long it will take Louis’s program to solve the \n",
    "eight-queens puzzle, assuming that the program in Exercise\n",
    "2.42 solves the puzzle in time $T$.**\n"
   ]
  },
  {
   "cell_type": "markdown",
   "id": "28f8234f",
   "metadata": {},
   "source": [
    "This program runs slowly because instead of computing all the possible board positions for a $k-1$ size board and then adjoining a new column with a queen in each possible position like done in the faster implementation, Louis Reasoner's implementation first enumerates the possible rows that the $k_{th}$ queen can go to, then computes all possible board positions for a $k-1$ size board *for each enumerated row*. This means, at each step, Louis' implementation is making `board-size` times more calls to `queen-cols` than required.\n",
    "\n",
    "But the `board-size` times more calls are made at each of the `board-size` recursive steps, so the slow implementation should take time $O(B^B) T$ to run, where $B$ is `board-size`. However, I don't think this 'intuitive' solution is correct, as the actual ratio of the run-times are wildly different. I looked online for answers and there seem to be a lot of different answers by different people, some more confident, some less so."
   ]
  },
  {
   "cell_type": "markdown",
   "id": "5b4c5b66",
   "metadata": {},
   "source": [
    "## Exercise 2.44\n",
    "**Define the procedure `up-split` used by `corner-split`. It is similar to `right-split`, except that it switches\n",
    "the roles of `below` and `beside`.**\n"
   ]
  },
  {
   "cell_type": "code",
   "execution_count": 59,
   "id": "b72f44b3",
   "metadata": {},
   "outputs": [],
   "source": [
    "(define (up-split painter n)\n",
    "  (if (= n 0)\n",
    "      painter\n",
    "      (let ((smaller (up-split painter (- n 1))))\n",
    "        (below (beside smaller smaller) painter))))"
   ]
  },
  {
   "cell_type": "markdown",
   "id": "2ce976d7",
   "metadata": {},
   "source": [
    "## Exercise 2.45\n",
    "**`right-split` and `up-split` can be expressed\n",
    "as instances of a general splitting operation. Define a procedure `split` with the property that evaluating**\n",
    "```\n",
    "(define right-split (split beside below))\n",
    "(define up-split (split below beside))\n",
    "```\n",
    "**produces procedures `right-split` and `up-split` with the\n",
    "same behaviors as the ones already defined.**\n"
   ]
  },
  {
   "cell_type": "code",
   "execution_count": 60,
   "id": "c37b0caa",
   "metadata": {},
   "outputs": [],
   "source": [
    "(define (split first then)\n",
    "  (lambda (painter n)\n",
    "    (if (= n 0)\n",
    "        painter\n",
    "        (let ((smaller ((split first then) painter (- n 1))))\n",
    "          (first (then smaller smaller) painter)))))"
   ]
  },
  {
   "cell_type": "markdown",
   "id": "24938132",
   "metadata": {},
   "source": [
    "## Exercise 2.46\n",
    "\n",
    "**A two-dimensional vector $\\mathbf{v}$ running from\n",
    "the origin to a point can be represented as a pair consisting\n",
    "of an $x$-coordinate and a $y$-coordinate. Implement a data\n",
    "abstraction for vectors by giving a constructor `make-vect`\n",
    "and corresponding selectors `xcor-vect` and `ycor-vect`. In\n",
    "terms of your selectors and constructor, implement procedures\n",
    " `add-vect`, `sub-vect`, and `scale-vect` that perform\n",
    "the operations vector addition, vector subtraction, and multiplying a vector by a scalar:**\n",
    "\n",
    "$$\n",
    "\\begin{align}\n",
    "(x_1, y_1) + (x_2, y_2) &= (x_1 + x_2, y_1 + y_2),\\\\\n",
    "(x_1, y_1) - (x_2, y_2) &= (x_1 - x_2, y_1 - y_2),\\\\\n",
    "s \\cdot (x, y) &= (sx, sy).\n",
    "\\end{align}\n",
    "$$\n"
   ]
  },
  {
   "cell_type": "code",
   "execution_count": 61,
   "id": "3603703d",
   "metadata": {},
   "outputs": [],
   "source": [
    "; make-vect represents vectors using a pair\n",
    "(define make-vect cons)\n",
    "\n",
    "(define xcor-vect car)\n",
    "(define ycor-vect cdr)\n",
    "\n",
    "(define (add-vect v1 v2)\n",
    "  (make-vect (+ (xcor-vect v1) (xcor-vect v2))\n",
    "             (+ (ycor-vect v1) (ycor-vect v2))))\n",
    "\n",
    "(define (sub-vect v1 v2)\n",
    "  (make-vect (- (xcor-vect v1) (xcor-vect v2))\n",
    "             (- (ycor-vect v1) (ycor-vect v2))))\n",
    "\n",
    "(define (scale-vect s vect)\n",
    "  (make-vect (* s (xcor-vect vect))\n",
    "             (* s (ycor-vect vect))))"
   ]
  },
  {
   "cell_type": "markdown",
   "id": "84d18281",
   "metadata": {},
   "source": [
    "## Exercise 2.47\n",
    "**Here are two possible constructors for frames:**\n",
    "```\n",
    "(define (make-frame origin edge1 edge2)\n",
    "  (list origin edge1 edge2))\n",
    "(define (make-frame origin edge1 edge2)\n",
    "  (cons origin (cons edge1 edge2)))\n",
    "```\n",
    "**For each constructor supply the appropriate selectors to\n",
    "produce an implementation for frames.**"
   ]
  },
  {
   "cell_type": "code",
   "execution_count": 62,
   "id": "307e6ee7",
   "metadata": {},
   "outputs": [],
   "source": [
    "; For the list constructor\n",
    "(define (origin-frame frame) (car frame))\n",
    "(define (edge1-frame frame) (cadr frame))\n",
    "(define (edge2-frame frame) (car (cdr (cdr frame))))\n",
    "\n",
    "; For the cons constructor\n",
    "(define (origin-frame frame) (car frame))\n",
    "(define (edge1-frame frame) (cadr frame))\n",
    "(define (edge2-frame frame) (cdr (cdr frame)))"
   ]
  },
  {
   "cell_type": "markdown",
   "id": "5b769b12",
   "metadata": {},
   "source": [
    "## Exercise 2.48 \n",
    "**A directed line segment in the plane can be\n",
    "represented as a pair of vectors—the vector running from\n",
    "the origin to the start-point of the segment, and the vector\n",
    "running from the origin to the end-point of the segment.\n",
    "Use your vector representation from Exercise 2.46 to define a representation for\n",
    "segments with a constructor `make-segment` and selectors `start-segment` and `end-segment`.**\n"
   ]
  },
  {
   "cell_type": "code",
   "execution_count": 63,
   "id": "283845b8",
   "metadata": {},
   "outputs": [],
   "source": [
    "; We are defining make-segment, start-segment and end-segment in terms of\n",
    "; cons, car and cdr, like in the representation of vectors, but the items\n",
    "; contained in a segment are themselves vectors instead of numbers.\n",
    "(define make-segment cons)\n",
    "(define start-segment car)\n",
    "(define end-segment cdr)"
   ]
  },
  {
   "cell_type": "markdown",
   "id": "49d1af3d",
   "metadata": {},
   "source": [
    "## Exercise 2.49\n",
    "**Use `segments->painter` to define the following primitive painters:**\n",
    "\n",
    "a. **The painter that draws the outline of the designated frame.**\n",
    "\n",
    "b. **The painter that draws an “X” by connecting opposite corners of the frame.**\n",
    "\n",
    "c. **The painter that draws a diamond shape by connecting the midpoints of the sides of the frame.**\n",
    "\n",
    "d. **The `wave` painter.**\n"
   ]
  },
  {
   "cell_type": "code",
   "execution_count": 64,
   "id": "adbe250b",
   "metadata": {},
   "outputs": [],
   "source": [
    "; Draws the outline of the frame\n",
    "(define (outline-painter)\n",
    "  (lambda (frame)\n",
    "    (let ((origin (origin-frame frame))\n",
    "          (edge1 (edge1-frame frame))\n",
    "          (edge2 (edge2-frame frame))\n",
    "          (diag  (add-vect edge1 edge2)))\n",
    "      (segments->painter (list (make-segment origin (add-vect origin edge1))\n",
    "                               (make-segment origin (add-vect origin edge2))\n",
    "                               (make-segment (add-vect origin edge1) (add-vect origin diag))\n",
    "                               (make-segment (add-vect origin edge2) (add-vect origin diag)))))))\n",
    "\n",
    "; Draws an \"X\" by connecting opposite corners of the frame\n",
    "(define (x-painter)\n",
    "  (lambda (frame)\n",
    "    (let ((origin (origin-frame frame))\n",
    "          (edge1 (edge1-frame frame))\n",
    "          (edge2 (edge2-frame frame))\n",
    "          (diag  (add-vect edge1 edge2)))\n",
    "      (segments->painter (list (make-segment origin (add-vect origin diag))\n",
    "                               (make-segment (add-vect origin edge1) (add-vect origin edge2)))))))\n",
    "\n",
    "; Draws a diamond shape by connecting midpoints of the sides of the frame\n",
    "(define (diamond-painter)\n",
    "  (lambda (frame)\n",
    "    (let ((origin (origin-frame frame))\n",
    "          (edge1 (edge1-frame frame))\n",
    "          (edge2 (edge2-frame frame))\n",
    "          (diag  (add-vect edge1 edge2))\n",
    "          (half-edge1 (scale-vect 0.5 edge1))\n",
    "          (half-edge2 (scale-vect 0.5 edge2)))\n",
    "      (segments->painter (list (make-segment (add-vect origin half-edge1)\n",
    "                                             (add-vect origin half-edge2))\n",
    "                               (make-segment (add-vect origin half-edge1)\n",
    "                                             (add-vect origin (add-vect edge1 half-edge2)))\n",
    "                               (make-segment (add-vect origin half-edge2)\n",
    "                                             (add-vect origin (add-vect edge2 half-edge1)))\n",
    "                               (make-segment (add-vect origin (add-vect edge1 half-edge2))\n",
    "                                             (add-vect origin (add-vect edge2 half-edge1))))))))\n",
    "\n",
    "; Paints the 'wave' image.\n",
    "; It is not possible to use segments->painter to create the exact wave pattern\n",
    "; unless we use an insanely large number of points, since there are curved shapes\n",
    "; in the pattern.\n",
    "; The points used here were estimated by drawing a very crude line drawing of\n",
    "; the waving man and drawing a rough grid on top of it.\n",
    "(define (wave)\n",
    "  ; Convert a list of points into a list of segments\n",
    "  (define (segmentify point-list)\n",
    "    (if (< 2 (length point-list))\n",
    "      '() \n",
    "      (append (list (make-segment (car point-list) (cadr point-list)))\n",
    "              (segmentify (cdr point-list)))))\n",
    "  (define (scale-all s vectors)\n",
    "    (map (lambda (vect) (scale-vect s vect)) vectors))\n",
    "  (lambda (frame)\n",
    "    (let ((scalp-left           (make-vect 45 100))\n",
    "          (ear-left             (make-vect 42 87))\n",
    "          (jaw-left             (make-vect 45 75))\n",
    "          (neck-left            (make-vect 45 70))\n",
    "          (shoulder-left        (make-vect 62 75))\n",
    "          (elbow-top-left       (make-vect 25 62))\n",
    "          (hand-top-left        (make-vect 0 75))\n",
    "          (hand-bottom-left     (make-vect 0 62))\n",
    "          (elbow-bottom-left    (make-vect 25 50))\n",
    "          (armpit-left          (make-vect 37 62))\n",
    "          (waist-left           (make-vect 37 37))\n",
    "          (knee-left            (make-vect 25 0)) \n",
    "          (knee-inner-left      (make-vect 42 0)) \n",
    "          (crotch               (make-vect 50 25))\n",
    "          (knee-inner-right     (make-vect 58 0)) \n",
    "          (knee-right           (make-vect 75 0)) \n",
    "          (waist-right          (make-vect 62 37))\n",
    "          (armpit-right         (make-vect 62 62))\n",
    "          (hand-bottom-right    (make-vect 100 50))\n",
    "          (hand-top-right       (make-vect 100 62))\n",
    "          (shoulder-right       (make-vect 62 75))\n",
    "          (neck-right           (make-vect 55 70))\n",
    "          (jaw-right            (make-vect 55 75))\n",
    "          (ear-right            (make-vect 58 87))\n",
    "          (scalp-right          (make-vect 55 100)))\n",
    "      (segments->painter (segmentify (scale-all 0.01 (list scalp-left ear-left jaw-left\n",
    "                                                           neck-left shoulder-left\n",
    "                                                           elbow-top-left hand-top-left))))\n",
    "      (segments->painter (segmentify (scale-all 0.01 (list hand-bottom-left elbow-bottom-left\n",
    "                                                           armpit-left waist-left knee-left))))\n",
    "      (segments->painter (segmentify (scale-all 0.01 (list knee-inner-left crotch\n",
    "                                                           knee-inner-right))))\n",
    "      (segments->painter (segmentify (scale-all 0.01 (list knee-right waist-right armpit-right\n",
    "                                                           hand-bottom-right))))\n",
    "      (segments->painter (segmentify (scale-all 0.01 (list hand-top-right shoulder-right\n",
    "                                                           neck-right jaw-right ear-right\n",
    "                                                           scalp-right)))))))"
   ]
  },
  {
   "cell_type": "markdown",
   "id": "07aacc43",
   "metadata": {},
   "source": [
    "## Exercise 2.50\n",
    "**Define the transformation `flip-horiz`, which\n",
    "flips painters horizontally, and transformations that rotate\n",
    "painters counterclockwise by 180 degrees and 270 degree**"
   ]
  },
  {
   "cell_type": "code",
   "execution_count": 65,
   "id": "bc06b8d2",
   "metadata": {},
   "outputs": [],
   "source": [
    "(define (flip-horiz painter)\n",
    "  (transform-painter painter\n",
    "                     (make-vect 1.0 0.0)\n",
    "                     (make-vect 0.0 0.0)\n",
    "                     (make-vect 0.0 1.0)))\n",
    "\n",
    "(define (rotate180 painter)\n",
    "  (transform-painter painter\n",
    "                     (make-vect 1.0 1.0)\n",
    "                     (make-vect 0.0 1.0)\n",
    "                     (make-vect 1.0 0.0)))\n",
    "\n",
    "(define (rotate270 painter)\n",
    "  (transform-painter painter\n",
    "                     (make-vect 0.0 1.0)\n",
    "                     (make-vect 0.0 0.0)\n",
    "                     (make-vect 1.0 1.0)))"
   ]
  },
  {
   "cell_type": "markdown",
   "id": "d40f043e",
   "metadata": {},
   "source": [
    "## Exercise 2.51\n",
    "**Define the below operation for painters. `below` takes two painters as arguments. The resulting painter, given a frame, draws with the first painter in the bottom of the\n",
    "frame and with the second painter in the top. Define `below`\n",
    "in two different ways—first by writing a procedure that is\n",
    "analogous to the `beside` procedure given above, and again\n",
    "in terms of beside and suitable rotation operations (from\n",
    "Exercise 2.50).**"
   ]
  },
  {
   "cell_type": "code",
   "execution_count": 66,
   "id": "ee1e0b4c",
   "metadata": {},
   "outputs": [],
   "source": [
    "; Defining below analogously to beside\n",
    "(define (below lower upper)\n",
    "  (let ((split-point (make-vect 0.0 0.5)))\n",
    "    (let ((paint-lower\n",
    "           (transform-painter\n",
    "            lower\n",
    "            (make-vect 0.0 0.0)\n",
    "            (make-vect 1.0 0.0)\n",
    "            split-point))\n",
    "          (paint-upper\n",
    "           (transform-painter\n",
    "            upper\n",
    "            split-point\n",
    "            (make-vect 1.0 0.5)\n",
    "            (make-vect 0.0 1.0))))\n",
    "      (lambda (frame)\n",
    "        (paint-lower frame)\n",
    "        (paint-upper frame)))))\n",
    "\n",
    "; Defining below in terms of beside and rotation operations\n",
    "(define (below lower upper)\n",
    "  ; Rotate lower and upper clockwise 90 degrees (counterclockwise 270) first,\n",
    "  ; keep them beside one another, and rotate the result 90 degree counterclockwise\n",
    "  (rotate90 (beside (rotate270 lower) (rotate270 upper))))"
   ]
  },
  {
   "cell_type": "markdown",
   "id": "7f9a5a9d",
   "metadata": {},
   "source": [
    "## Exercise 2.52\n",
    "**Make changes to the square limit of `wave` shown in Figure 2.9 by working at each of the levels described above.\n",
    "In particular:**\n",
    "\n",
    "a. **Add some segments to the primitive `wave` painter of\n",
    " Exercise 2.49 (to add a smile, for example).**\n",
    "\n",
    "b. **Change the pattern constructed by `corner-split` (for\n",
    " example, by using only one copy of the `up-split` and\n",
    " `right-split` images instead of two).**\n",
    "\n",
    "c. **Modify the version of `square-limit` that uses `square-of-four`\n",
    " so as to assemble the corners in a different pattern. (For example,\n",
    " you might make the big Mr. Rogers look outward from each corner of\n",
    " the square.)**\n"
   ]
  },
  {
   "cell_type": "code",
   "execution_count": 67,
   "id": "52f88901",
   "metadata": {},
   "outputs": [],
   "source": [
    "; a. Making a change to wave to add a \"smile\" (a flat line)\n",
    "(define (wave)\n",
    "  ; Convert a list of points into a list of segments\n",
    "  (define (segmentify point-list)\n",
    "    (if (< 2 (length point-list))\n",
    "      '() \n",
    "      (append (list (make-segment (car point-list) (cadr point-list)))\n",
    "              (segmentify (cdr point-list)))))\n",
    "  (define (scale-all s vectors)\n",
    "    (map (lambda (vect) (scale-vect s vect)) vectors))\n",
    "  (lambda (frame)\n",
    "    (let ((scalp-left           (make-vect 45 100))\n",
    "          (ear-left             (make-vect 42 87))\n",
    "          (jaw-left             (make-vect 45 75))\n",
    "          (neck-left            (make-vect 45 70))\n",
    "          (shoulder-left        (make-vect 62 75))\n",
    "          (elbow-top-left       (make-vect 25 62))\n",
    "          (hand-top-left        (make-vect 0 75))\n",
    "          (hand-bottom-left     (make-vect 0 62))\n",
    "          (elbow-bottom-left    (make-vect 25 50))\n",
    "          (armpit-left          (make-vect 37 62))\n",
    "          (waist-left           (make-vect 37 37))\n",
    "          (knee-left            (make-vect 25 0)) \n",
    "          (knee-inner-left      (make-vect 42 0)) \n",
    "          (crotch               (make-vect 50 25))\n",
    "          (knee-inner-right     (make-vect 58 0)) \n",
    "          (knee-right           (make-vect 75 0)) \n",
    "          (waist-right          (make-vect 62 37))\n",
    "          (armpit-right         (make-vect 62 62))\n",
    "          (hand-bottom-right    (make-vect 100 50))\n",
    "          (hand-top-right       (make-vect 100 62))\n",
    "          (shoulder-right       (make-vect 62 75))\n",
    "          (neck-right           (make-vect 55 70))\n",
    "          (jaw-right            (make-vect 55 75))\n",
    "          (ear-right            (make-vect 58 87))\n",
    "          (scalp-right          (make-vect 55 100))\n",
    "          (mouth-left           (make-vect 45 87))\n",
    "          (mouth-right          (make-vect 55 87)))\n",
    "      (segments->painter (segmentify (scale-all 0.01 (list scalp-left ear-left jaw-left\n",
    "                                                           neck-left shoulder-left\n",
    "                                                           elbow-top-left hand-top-left))))\n",
    "      (segments->painter (segmentify (scale-all 0.01 (list hand-bottom-left elbow-bottom-left\n",
    "                                                           armpit-left waist-left knee-left))))\n",
    "      (segments->painter (segmentify (scale-all 0.01 (list knee-inner-left crotch\n",
    "                                                           knee-inner-right))))\n",
    "      (segments->painter (segmentify (scale-all 0.01 (list knee-right waist-right armpit-right\n",
    "                                                           hand-bottom-right))))\n",
    "      (segments->painter (segmentify (scale-all 0.01 (list hand-top-right shoulder-right\n",
    "                                                           neck-right jaw-right ear-right\n",
    "                                                           scalp-right))))\n",
    "      (segments->painter (segmentify (scale-all 0.01 (list mouth-left mouth-right)))))))\n",
    "\n",
    "\n",
    "; b. This version of corner-split uses only one copy each of the up-split and right-split images\n",
    "(define (corner-split painter n)\n",
    "  (if (= n 0)\n",
    "      painter\n",
    "      (let ((up (up-split painter (- n 1)))\n",
    "            (right (right-split painter (- n 1)))\n",
    "            (corner (corner-split painter (- n 1))))\n",
    "        (beside (below painter up)\n",
    "                (below right corner)))))\n",
    "\n",
    "\n",
    "; c. This version of square-limit exchanges the order of left and right arguments passed to\n",
    "; square-of four so that, when applied to rogers, will produce an image where Mr. Rogers is\n",
    "; looking outwards from the center.\n",
    "(define (square-limit painter n)\n",
    "  (let ((combine4 (square-of-four identity flip-horiz\n",
    "                                  flip-vert rotate180)))\n",
    "    (combine4 (corner-split painter n))))"
   ]
  }
 ],
 "metadata": {
  "kernelspec": {
   "display_name": "Racket",
   "language": "racket",
   "name": "racket"
  },
  "language_info": {
   "codemirror_mode": "scheme",
   "file_extension": ".rkt",
   "mimetype": "text/x-racket",
   "name": "Racket",
   "pygments_lexer": "racket",
   "version": "8.7"
  }
 },
 "nbformat": 4,
 "nbformat_minor": 5
}
