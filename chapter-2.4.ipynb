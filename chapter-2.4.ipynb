{
 "cells": [
  {
   "cell_type": "markdown",
   "id": "b4d506ab",
   "metadata": {},
   "source": [
    "## Exercise 2.73\n",
    "**Section 2.3.2 described a program that performs symbolic differentiation:**\n",
    "```scheme\n",
    "(define (deriv exp var)\n",
    "  (cond ((number? exp) 0)\n",
    "        ((variable? exp)\n",
    "         (if (same-variable? exp var) 1 0))\n",
    "        ((sum? exp)\n",
    "         (make-sum (deriv (addend exp) var)\n",
    "                   (deriv (augend exp) var)))\n",
    "        ((product? exp)\n",
    "         (make-sum (make-product\n",
    "                    (multiplier exp)\n",
    "                    (deriv (multiplicand exp) var))\n",
    "                   (make-product\n",
    "                    (deriv (multiplier exp) var)\n",
    "                    (multiplicand exp))))\n",
    "        <more rules can be added here>\n",
    "        (else (error \"unknown expression type: DERIV\" exp))))\n",
    "```\n",
    "**We can regard this program as performing a dispatch on\n",
    "the type of the expression to be differentiated. In this situation the \"type\n",
    "tag\" of the datum is the algebraic operator symbol (such as +) and the operation being performed is\n",
    "`deriv`. We can transform this program into data-directed style by rewriting the basic derivative\n",
    " procedure as**\n",
    "\n",
    "```scheme\n",
    "(define (deriv exp var)\n",
    " (cond ((number? exp) 0)\n",
    "  ((variable? exp) (if (same-variable? exp var) 1 0)) \n",
    "  (else ((get 'deriv (operator exp))\n",
    "         (operands exp) var))))\n",
    "(define (operator exp) (car exp))\n",
    "(define (operands exp) (cdr exp))\n",
    "```\n",
    "\n",
    "a. **Explain what was done above. Why can’t we assimilate the predicates\n",
    "   `number?` and `variable?` into the data-directed dispatch?**\n",
    "   \n",
    "b. **Write the procedures for derivatives of sums and products,\n",
    "   and the auxiliary code required to install them in the table used by the program above.**\n",
    "   \n",
    "c. **Choose any additional differentiation rule that you like,\n",
    "   such as the one for exponents (Exercise 2.56), and install it in this data-directed system.**\n",
    "   \n",
    "d. **In this simple algebraic manipulator the type of an expression is the algebraic operator that binds it\n",
    "   together. Suppose, however, we indexed the procedures in the opposite way, so that the dispatch line in `deriv`\n",
    "   looked like**\n",
    "   ```\n",
    "   ((get (operator exp) 'deriv) (operands exp) var)\n",
    "   ```\n",
    "   **What corresponding changes to the derivative system are required?**"
   ]
  },
  {
   "cell_type": "markdown",
   "id": "2affc906",
   "metadata": {},
   "source": [
    "a. Above, instead of relying on our pre-defined predicates `sum?` and `product?`, the `deriv` function was changed to invoke the correct differentiation logic using the table-based dispatch that was described in the text. Assuming the table is correctly populated, upon calling the new `deriv`, a lookup is performed on the table to get the correct procedure to apply for the operation `deriv` and the given type of expression, which in our case (confusingly enough) is equivalent to the operator of the algebraic expression. The exception to this are of course inputs that are numbers or variables, because in our system we represent them as raw values (like `42` or `'z`) instead of as data with type tags.\n",
    "\n",
    "b. The procedures are:\n",
    "\n",
    "```scheme\n",
    "; (We assume here that the arguments to deriv-sum and\n",
    "; deriv-prod are passed as a pair containing the operands)\n",
    "\n",
    "; Derivative of sum\n",
    "(define (deriv-sum sum-pair var)\n",
    "  (make-sum (deriv (car sum-pair) var)\n",
    "            (deriv (cdr sum-pair) var)))\n",
    "\n",
    "; Derivative of product\n",
    "(define (deriv-prod prod-pair var)\n",
    "  (make-sum (make-product\n",
    "             (car prod-pair)\n",
    "             (deriv (cdr prod-pair) var))\n",
    "            (make-product\n",
    "             (deriv (car prod-pair) var)\n",
    "             (cdr prod-pair))))\n",
    "\n",
    "; Auxiliary code to install them in the table\n",
    "(put 'deriv ('+) deriv-sum)\n",
    "(put 'deriv ('*) deriv-sum)\n",
    "```\n",
    "\n",
    "c. Below is the function to differentiate exponents (which will only work in cases where the exponent is a constant!) and a function call to install it.\n",
    "```scheme\n",
    "; Here, for simplicity, I will say that exp-pair can be any structure\n",
    "; containing the base and the exponent parts, as long as (base exp-pair)\n",
    "; and (exponent exp-pair) return those parts.\n",
    "(define (deriv-exp exp-pair var)\n",
    "  (make-product (make-product (exponent exp-pair)\n",
    "                              (make-exponentiation (base exp-pair) (make-sum (exponent exp-pair) -1)))\n",
    "                (deriv (base exp-pair) var)))\n",
    "\n",
    "; Now, the following call should install it in the table\n",
    "(put 'deriv ('**) deriv-exp)\n",
    "```\n",
    "\n",
    "d. Since the implementations themselves only take the operands they need and the variable with respect to which we are differentiating, and the logic of storing and fetching the appropriate function is external to them, no changes are necessary."
   ]
  },
  {
   "cell_type": "markdown",
   "id": "24f21ade",
   "metadata": {},
   "source": [
    "## Exercise 2.74\n",
    "**Insatiable Enterprises, Inc., is a highly de-centralized conglomerate company consisting of a large number of independent divisions located all over the world. The company’s computer facilities have just been interconnected by means of a clever network-interfacing scheme that makes the entire network appear to any user to be a single computer. Insatiable’s president, in her ﬁrst attempt to exploit the ability of the ne\n",
    "twork to extract administrative information from division files, is dismayed to discover that, although all the division files have been implemented as data structures in Scheme, the particular data structure used varies from division to division. A meeting of division managers is hastily called to search for a strategy to integrate the files that will satisfy headquarters’ needs while preserving the existing autonomy of the divisions. Show how such a strategy can be implemented with data-directed programming. As an example, suppose that each division’s personnel records consist of a single file, which contains a set of records keyed on employees’ names. The structure of the set varies from division to division. Furthermore, each employee’s record is itself a set (structured differently from division to division) that contains information keyed under identifiers such as address and salary.  In particular:**\n",
    "\n",
    "**a. Implement for headquarters a `get-record` procedure that retrieves a specified employee’s record from a specified personnel file. The procedure should be applicable to any division’s file. Explain how the individual divisions’ files should be structured. In particular, what type information must be supplied**?\n",
    "\n",
    "**b. Implement for headquarters a `get-salary` procedure that returns the salary information from a given employee’s record from any division’s personnel file. How should the record be structured in order to make this operation work**?\n",
    "\n",
    "**c. Implement for headquarters a `find-employee-record procedure`. This should search all the divisions’ files for the record of a given employee and return the record. Assume that this procedure takes as arguments an employee’s name and a list of all the divisions’ files.**\n",
    "\n",
    "**d. When Insatiable takes over a new company, what changes must be made in order to incorporate the new personnel information into the central system?**\n"
   ]
  },
  {
   "cell_type": "markdown",
   "id": "7a42479a",
   "metadata": {},
   "source": [
    "a. The individual divisions' files can be structured in any way they like, provided that they do the following things:\n",
    "1. Have an implementation of `get-record` that takes the employee name and produces the record.\n",
    "2. The file should be defined as a function which returns a function that takes an abstract operation name like `'get-record` and returns the implementation of that operation for that file's specific data structure. Now, the generic `get-record` procedure can be implemented like this:\n",
    "```scheme\n",
    "(define (get-record name file)\n",
    "  ((file 'get-record) name))\n",
    "```\n",
    "\n",
    "b. Similar to the above, the division's files should be structured in a way that `(file 'get-salary)` evaluates to a function that takes the employee's name and returns the salary if a record is found.\n",
    "```scheme\n",
    "(define (get-salary name file)\n",
    "  ((file 'get-salary) name))\n",
    "```\n",
    "\n",
    "c. For this to work, the `get-record` procedure mentioned in question a. (the divisions' implementations) should return false if no employee with that name exists. Then, we can call `get-record` on each file until an employee is found.\n",
    "```scheme\n",
    "(define (find-employee-record name files)\n",
    "  (if (null? files)\n",
    "      #f\n",
    "      (if (get-record name (car files))\n",
    "          (get-record name (car files))\n",
    "          (find-employee-record name (cdr files)))))\n",
    "```\n",
    "The above procedure will return`#f`is no such employee record is found.\n",
    "\n",
    "d. The only changes required to incorporate the new personnel information into the central system are:\n",
    "1. Implementing `get-record`, `get-salary` and other accessors in the new company's file.\n",
    "2. Including the new company's file in the central list of files."
   ]
  },
  {
   "cell_type": "markdown",
   "id": "b27daa4a",
   "metadata": {},
   "source": [
    "## Exercise 2.75\n",
    "**Implement the constructor `make-from-mag-ang` in message-passing style. This procedure should be analogous to the `make-from-real-imag` procedure given above.**"
   ]
  },
  {
   "cell_type": "code",
   "execution_count": 8,
   "id": "10d5b940",
   "metadata": {},
   "outputs": [
    {
     "name": "stdout",
     "output_type": "stream",
     "text": [
      "1.0806046117362795\n",
      "1.682941969615793"
     ]
    }
   ],
   "source": [
    "(define (make-from-mag-ang mag ang)\n",
    "  (define (dispatch op)\n",
    "    (cond ((eq? op 'magnitude) mag)\n",
    "          ((eq? op 'angle) ang)\n",
    "          ((eq? op 'real-part) (* mag (cos ang)))\n",
    "          ((eq? op 'imag-part) (* mag (sin ang)))\n",
    "          (else (error \"Unknown op: MAKE-FROM-REAL-IMAG\" op))))\n",
    "  dispatch)\n",
    "\n",
    "(define a (make-from-mag-ang 2 1))\n",
    "(display (a 'real-part))\n",
    "(newline)\n",
    "(display (a 'imag-part))"
   ]
  },
  {
   "cell_type": "markdown",
   "id": "98859aeb",
   "metadata": {},
   "source": [
    "## Exercise 2.76\n",
    "**As a large system with generic operations evolves, new types of data objects or new operations may be needed. For each of the three strategies—generic operations with explicit dispatch, data-directed style, and message-passing-style—describe the changes that must be made to a system in order to add new types or new operations. Which organization would be most appropriate for a system in which new types must often be added? Which would be\n",
    "most appropriate for a system in which new operations must often be added?**"
   ]
  },
  {
   "cell_type": "markdown",
   "id": "a04108ed",
   "metadata": {},
   "source": [
    "With explicit dispatch, each time a new type is added, all of the existing generic operations must be modified to detect the type of the datum and perform dispatch to the specific operation. Conversely, when adding a new operation, the operation must be implemented for all the data types, and a generic operation created for it.\n",
    "\n",
    "In the data-directed style, when a new type is added, the new data type package simply needs to define its operations internally and install its operations into the table. No modification of the general operation is necessary. When a new operation is added, it is still necessary to modify each package to support that operation.\n",
    "\n",
    "With the message passing style, similar to the data-directed style, adding a data type just means implementing a package with the operations for that specific type. However, in contrast to the data-directed style, it is not necessary to install operations on a table, because the dispatch is performed internally by the data object itself. When adding a new operation, the operation must be implemented by each package.\n",
    "\n",
    "For a system in which new types must often be added, either the message passing style or the data-directed style is appropriate, as the changes required are additive. If new operations must often be added, then one approach is not significantly better than any other, because the specific operation must be implemented for each type in any case."
   ]
  }
 ],
 "metadata": {
  "kernelspec": {
   "display_name": "Racket",
   "language": "racket",
   "name": "racket"
  },
  "language_info": {
   "codemirror_mode": "scheme",
   "file_extension": ".rkt",
   "mimetype": "text/x-racket",
   "name": "Racket",
   "pygments_lexer": "racket",
   "version": "8.7"
  }
 },
 "nbformat": 4,
 "nbformat_minor": 5
}
