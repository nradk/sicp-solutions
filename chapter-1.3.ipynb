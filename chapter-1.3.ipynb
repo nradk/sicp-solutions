{
 "cells": [
  {
   "cell_type": "markdown",
   "metadata": {},
   "source": [
    "# Chapter 1.3"
   ]
  },
  {
   "cell_type": "markdown",
   "metadata": {},
   "source": [
    "### Exercise 1.29"
   ]
  },
  {
   "cell_type": "markdown",
   "metadata": {},
   "source": [
    "**Simpson’s Rule is a more accurate method of numerical integration than the method illustrated above. Using Simpson’s Rule, the integral of a function $f$ between $a$ and $b$ is approximated as**\n",
    "\n",
    "$$\n",
    "\\frac{h}{3}(y_0 + 4y_1 + 2y_2 + 4y_3 + 2y_4 + \\cdots + 2y_{n-2} + 4y_{n-1} + y_n),\n",
    "$$\n",
    "\n",
    "**where $h = (b - a)/n$, for some even integer $n$, and $y_k = f(a+kh)$. (Increasing $n$ increases the accuracy of the approximation.) Define a procedure that takes as arguments $f$ , $a$, $b$, and $n$ and returns the value of the integral, computed using Simpson’s Rule. Use your procedure to integrate cube between $0$ and $1$ (with $n = 100$ and $n = 1000$), and compare the results to those of the integral procedure shown above.**"
   ]
  },
  {
   "cell_type": "code",
   "execution_count": 1,
   "metadata": {},
   "outputs": [],
   "source": [
    "(define (simpsons-rule f a b n)\n",
    "  (define (y k h)\n",
    "    (f (+ a (* k h))))\n",
    "  (define (sum-iter k sum h)\n",
    "    (if (> k n)\n",
    "        sum\n",
    "        (sum-iter (+ k 1) (+ sum (* (y k h)\n",
    "                  (cond ((or (= k 0) (= k n)) 1)\n",
    "                        ((even? k) 2)\n",
    "                        (else 4)))) h)))\n",
    "  (* (/ (- b a) (* 3 n)) (sum-iter 0 0 (/ (- b a) n))))\n",
    "  "
   ]
  },
  {
   "cell_type": "code",
   "execution_count": 2,
   "metadata": {},
   "outputs": [
    {
     "data": {
      "text/plain": [
       "0.25000000000000006"
      ]
     },
     "execution_count": 2,
     "metadata": {},
     "output_type": "execute_result"
    }
   ],
   "source": [
    "(define (cube x) (* x x x))\n",
    "(simpsons-rule cube 0 1.0 100)"
   ]
  },
  {
   "cell_type": "code",
   "execution_count": 3,
   "metadata": {},
   "outputs": [
    {
     "data": {
      "text/plain": [
       "0.25000000000000006"
      ]
     },
     "execution_count": 3,
     "metadata": {},
     "output_type": "execute_result"
    }
   ],
   "source": [
    "(simpsons-rule cube 0 1.0 1000)"
   ]
  },
  {
   "cell_type": "markdown",
   "metadata": {},
   "source": [
    "As we see in the results above, output values produced by procedure implementing Simpson's rule is much more accurate than those produced by the procedure given in the text. Simpson's rules produces essentially the same value ($0.25000000000000006$) with $n=100$ and $n=1000$. This is practically equal (discounting the error produced by limited precision floating point arithmetic) to the true value $0.25$, whereas the given procedure produced $0.24999987500001$ with a step size of $0.001$, corresponding to $1000$ steps."
   ]
  },
  {
   "cell_type": "markdown",
   "metadata": {},
   "source": [
    "### Exercise 1.30"
   ]
  },
  {
   "cell_type": "markdown",
   "metadata": {},
   "source": [
    "**The `sum` procedure above generates a linear recursion. The procedure can be rewritten so that the sum is performed iteratively. Show how to do this by filling in the missing expressions in the following definition:**\n",
    "\n",
    "```scheme\n",
    "(define (sum term a next b)\n",
    "  (define (iter a result)\n",
    "    (if ⟨??⟩\n",
    "        ⟨??⟩\n",
    "        (iter ⟨??⟩ ⟨??⟩)))\n",
    "  (iter ⟨??⟩ ⟨??⟩))\n",
    "```"
   ]
  },
  {
   "cell_type": "markdown",
   "metadata": {},
   "source": [
    "The procedure given below performs the summation iteratively:"
   ]
  },
  {
   "cell_type": "code",
   "execution_count": 4,
   "metadata": {},
   "outputs": [],
   "source": [
    "(define (sum term a next b)\n",
    "  (define (iter a result)\n",
    "    (if (> a b)\n",
    "        result\n",
    "        (iter (next a) (+ result (term a)))))\n",
    "  (iter a 0))"
   ]
  },
  {
   "cell_type": "code",
   "execution_count": 5,
   "metadata": {},
   "outputs": [
    {
     "data": {
      "text/plain": [
       "385"
      ]
     },
     "execution_count": 5,
     "metadata": {},
     "output_type": "execute_result"
    }
   ],
   "source": [
    "(define (square x) (* x x))\n",
    "(define (inc n) (+ n 1))\n",
    "(sum square 1 inc 10)"
   ]
  },
  {
   "cell_type": "code",
   "execution_count": 6,
   "metadata": {},
   "outputs": [
    {
     "data": {
      "text/plain": [
       "55"
      ]
     },
     "execution_count": 6,
     "metadata": {},
     "output_type": "execute_result"
    }
   ],
   "source": [
    "(define (identity x) x)\n",
    "(sum identity 1 inc 10)"
   ]
  },
  {
   "cell_type": "markdown",
   "metadata": {},
   "source": [
    "### Exercise 1.31"
   ]
  },
  {
   "cell_type": "markdown",
   "metadata": {},
   "source": [
    "**a. The `sum` procedure is only the simplest of a vast number of similar abstractions that can be captured as higher-order procedures. Write an analogous procedure called `product` that returns the product of the values of a function at points over a given range. Show how to define `factorial` in terms of `product`. Also use product to compute approximations to $\\pi$ using the formula**\n",
    "\n",
    "$$\n",
    "\\frac{\\pi}{4} = \\frac{2\\cdot4\\cdot4\\cdot6\\cdot6\\cdot8\\cdots}{3\\cdot3\\cdot5\\cdot5\\cdot7\\cdot7\\cdots}\n",
    "$$\n",
    "\n",
    "**b. If your product procedure generates a recursive process, write one that generates an iterative process. If it generates an iterative process, write one that generates a recursive process.**"
   ]
  },
  {
   "cell_type": "markdown",
   "metadata": {},
   "source": [
    "a."
   ]
  },
  {
   "cell_type": "code",
   "execution_count": 7,
   "metadata": {},
   "outputs": [
    {
     "data": {
      "text/plain": [
       "120"
      ]
     },
     "execution_count": 7,
     "metadata": {},
     "output_type": "execute_result"
    }
   ],
   "source": [
    "(define (product term a next b)\n",
    "  (if (> a b)\n",
    "      1\n",
    "      (* (term a) (product term (next a) next b))))\n",
    "\n",
    "(define (factorial n)\n",
    "  (define (inc m) (+ m 1))\n",
    "  (define (id m) m)\n",
    "  (product id 1 inc n))\n",
    "(factorial 5)"
   ]
  },
  {
   "cell_type": "code",
   "execution_count": 8,
   "metadata": {},
   "outputs": [],
   "source": [
    "(define (pi-approx n)\n",
    "  (define (term k)\n",
    "    (/ (* 2 (+ (quotient k 2) 1)) (+ (* 2 (+ (quotient (- k 1) 2) 1)) 1)))\n",
    "  (define (inc k) (+ k 1))\n",
    "  (/ (* 4 (product term 1 inc n)) 1.0))    "
   ]
  },
  {
   "cell_type": "code",
   "execution_count": 9,
   "metadata": {},
   "outputs": [
    {
     "data": {
      "text/plain": [
       "2.8444444444444446"
      ]
     },
     "execution_count": 9,
     "metadata": {},
     "output_type": "execute_result"
    }
   ],
   "source": [
    "(pi-approx 3)"
   ]
  },
  {
   "cell_type": "code",
   "execution_count": 10,
   "metadata": {},
   "outputs": [
    {
     "data": {
      "text/plain": [
       "3.2751010413348074"
      ]
     },
     "execution_count": 10,
     "metadata": {},
     "output_type": "execute_result"
    }
   ],
   "source": [
    "(pi-approx 10)"
   ]
  },
  {
   "cell_type": "code",
   "execution_count": 11,
   "metadata": {},
   "outputs": [
    {
     "data": {
      "text/plain": [
       "3.1570301764551676"
      ]
     },
     "execution_count": 11,
     "metadata": {},
     "output_type": "execute_result"
    }
   ],
   "source": [
    "(pi-approx 100)"
   ]
  },
  {
   "cell_type": "code",
   "execution_count": 12,
   "metadata": {},
   "outputs": [
    {
     "data": {
      "text/plain": [
       "3.1417497057380523"
      ]
     },
     "execution_count": 12,
     "metadata": {},
     "output_type": "execute_result"
    }
   ],
   "source": [
    "(pi-approx 10000)"
   ]
  },
  {
   "cell_type": "markdown",
   "metadata": {},
   "source": [
    "b. The `product` procedure given above generates a linear recursive process. The `iproduct` procedure given below generates an iterative process."
   ]
  },
  {
   "cell_type": "code",
   "execution_count": 13,
   "metadata": {},
   "outputs": [],
   "source": [
    "(define (iproduct term a next b)\n",
    "  (define (product-iter t prod)\n",
    "    (if (> t b)\n",
    "        prod\n",
    "        (product-iter (next t) (* (term t) prod))))\n",
    "  (product-iter a 1))"
   ]
  },
  {
   "cell_type": "code",
   "execution_count": 14,
   "metadata": {},
   "outputs": [
    {
     "data": {
      "text/plain": [
       "720"
      ]
     },
     "execution_count": 14,
     "metadata": {},
     "output_type": "execute_result"
    }
   ],
   "source": [
    "(define (factorial n)\n",
    "  (define (inc m) (+ m 1))\n",
    "  (define (id m) m)\n",
    "  (iproduct id 1 inc n))\n",
    "(factorial 6)"
   ]
  },
  {
   "cell_type": "markdown",
   "metadata": {},
   "source": [
    "### Exercise 1.32"
   ]
  },
  {
   "cell_type": "markdown",
   "metadata": {},
   "source": [
    "**a. Show that sum and product (Exercise 1.31) are both special cases of a still more general notion called `accumulate` that combines a collection of terms, using some general accumulation function:**\n",
    "```scheme\n",
    "(accumulate combiner null-value term a next b)\n",
    "```\n",
    "**`accumulate` takes as arguments the same term and range specifications as `sum` and `product`, together with a `combiner` procedure (of two arguments) that specifies how the current term is to be combined with the accumulation of the preceding terms and a `null-value` that specifies what base value to use when the terms run out. Write `accumulate` and show how `sum` and `product` can both be defined as simple calls to `accumulate`.**\n",
    "\n",
    "**b. If your accumulate procedure generates a recursive process, write one that generates an iterative process. If it generates an iterative process, write one that generates a recursive process.**"
   ]
  },
  {
   "cell_type": "markdown",
   "metadata": {},
   "source": [
    "a. Given below is the `accumulate` procedure that works as a general accumulation function and `sum` and `product` implemented in terms of it."
   ]
  },
  {
   "cell_type": "code",
   "execution_count": 15,
   "metadata": {},
   "outputs": [],
   "source": [
    "(define (accumulate combiner null-value term a next b)\n",
    "  (if (> a b)\n",
    "      null-value\n",
    "      (combiner (term a) (accumulate combiner null-value term (next a) next b))))"
   ]
  },
  {
   "cell_type": "code",
   "execution_count": 16,
   "metadata": {},
   "outputs": [
    {
     "data": {
      "text/plain": [
       "55"
      ]
     },
     "execution_count": 16,
     "metadata": {},
     "output_type": "execute_result"
    }
   ],
   "source": [
    "(define (sum term a next b)\n",
    "  (accumulate + 0 term a next b))\n",
    "(define (sum-natural-numbers n)\n",
    "  (define (id m) m)\n",
    "  (define (inc m) (+ m 1))\n",
    "  (sum id 1 inc n))\n",
    "(sum-natural-numbers 10)"
   ]
  },
  {
   "cell_type": "code",
   "execution_count": 17,
   "metadata": {},
   "outputs": [
    {
     "data": {
      "text/plain": [
       "720"
      ]
     },
     "execution_count": 17,
     "metadata": {},
     "output_type": "execute_result"
    }
   ],
   "source": [
    "(define (product term a next b)\n",
    "  (accumulate * 1 term a next b))\n",
    "(define (factorial n)\n",
    "  (define (id m) m)\n",
    "  (define (inc m) (+ m 1))\n",
    "  (product id 1 inc n))\n",
    "(factorial 6)"
   ]
  },
  {
   "cell_type": "markdown",
   "metadata": {},
   "source": [
    "b. The `accumulate` procedure above generated a linear recursive process. The follwing `iaccumulate` procedure generates an iterative process. Then `iaccumulate` is used in the implementaion of `pi-leibniz`, a procedure that generates an approximation to $\\pi$ using the *[Leibniz formula](https://en.wikipedia.org/wiki/Leibniz_formula_for_%CF%80)*."
   ]
  },
  {
   "cell_type": "code",
   "execution_count": 18,
   "metadata": {},
   "outputs": [],
   "source": [
    "(define (iaccumulate combiner null-value term a next b)\n",
    "  (define (accumulate-iter n accumulation)\n",
    "    (if (> n b)\n",
    "        accumulation\n",
    "        (accumulate-iter (next n) (combiner (term n) accumulation))))\n",
    "  (accumulate-iter a null-value))\n",
    "\n",
    "; Approximate $\\pi$ using the Leibniz formula\n",
    "(define (pi-leibniz n)\n",
    "  (define (next m) (+ m 1))\n",
    "  (define (term m)\n",
    "    (if (odd? m) (/ 1.0 (- (* 2 m) 1)) (/ (- 1.0) (- (* 2 m) 1))))\n",
    "  (* 4 (iaccumulate + 0 term 1 next n)))"
   ]
  },
  {
   "cell_type": "code",
   "execution_count": 19,
   "metadata": {},
   "outputs": [
    {
     "data": {
      "text/plain": [
       "3.140592653839794"
      ]
     },
     "execution_count": 19,
     "metadata": {},
     "output_type": "execute_result"
    }
   ],
   "source": [
    "(pi-leibniz 1000)"
   ]
  },
  {
   "cell_type": "markdown",
   "metadata": {},
   "source": [
    "### Exercise 1.33"
   ]
  },
  {
   "cell_type": "markdown",
   "metadata": {},
   "source": [
    "**You can obtain an even more general version of `accumulate` (Exercise 1.32) by introducing the notion of a *filter* on the terms to be combined. That is, combine only those terms derived from values in the range that satisfy a specified condition. The resulting `filtered-accumulate` abstraction takes the same arguments as `accumulate`, together with an additional predicate of one argument that specifies the filter. Write `filtered-accumulate` as a procedure. Show how to express the following using `filtered-accumulate`:**\n",
    "\n",
    "**a. the sum of the squares of the prime numbers in the interval $a$ to $b$ (assuming that you have a `prime?` predicate already written)**\n",
    "\n",
    "**b. the product of all the positive integers less than $n$ that are relatively prime to $n$ (i.e., all positive integers $i \\lt n$ such that $\\gcd(i,n)=1$**"
   ]
  },
  {
   "cell_type": "code",
   "execution_count": 20,
   "metadata": {},
   "outputs": [],
   "source": [
    "(define (filtered-accumulate combiner null-value filter term a next b)\n",
    "  (cond ((> a b) null-value)\n",
    "        ((filter a) (combiner (term a) (filtered-accumulate combiner null-value filter term (next a) next b)))\n",
    "        (else (filtered-accumulate combiner null-value filter term (next a) next b))))   "
   ]
  },
  {
   "cell_type": "markdown",
   "metadata": {},
   "source": [
    "a. The procedure `sum-prime-squares` given below computes the sum of the squares of prime numbers in the interval $a$ to $b$."
   ]
  },
  {
   "cell_type": "code",
   "execution_count": 21,
   "metadata": {},
   "outputs": [
    {
     "data": {
      "text/plain": [
       "208"
      ]
     },
     "execution_count": 21,
     "metadata": {},
     "output_type": "execute_result"
    }
   ],
   "source": [
    "(define (prime? n)\n",
    "  (define (prime-iter m)\n",
    "    (cond ((> (* m m) n) #t)\n",
    "          ((= 0 (remainder n m)) #f)\n",
    "          (else (prime-iter (+ m (if (= m 2) 1 2))))))\n",
    "  (if (< n 2) #f (prime-iter 2)))\n",
    "\n",
    "(define (sum-prime-squares a b)\n",
    "  (define (inc m) (+ m 1))\n",
    "  (define (square m) (* m m))\n",
    "  (filtered-accumulate + 0 prime? square a inc b))\n",
    "\n",
    "(sum-prime-squares 0 12)"
   ]
  },
  {
   "cell_type": "markdown",
   "metadata": {},
   "source": [
    "b. The procedure `product-coprimes` given below computes the product of numbers below the given number which are relatively prime to it."
   ]
  },
  {
   "cell_type": "code",
   "execution_count": 22,
   "metadata": {},
   "outputs": [
    {
     "data": {
      "text/plain": [
       "896896"
      ]
     },
     "execution_count": 22,
     "metadata": {},
     "output_type": "execute_result"
    }
   ],
   "source": [
    "(define (gcd a b)\n",
    "  (cond ((= b 0) a)\n",
    "        ((> b a) (gcd b a))\n",
    "        (else (gcd b (remainder a b)))))\n",
    "\n",
    "(define (product-coprimes n)\n",
    "  (define (inc m) (+ m 1))\n",
    "  (define (id m) m)\n",
    "  (define (coprime? m) (= (gcd n m) 1))\n",
    "  (filtered-accumulate * 1 coprime? id 1 inc n))\n",
    "\n",
    "(product-coprimes 15)"
   ]
  },
  {
   "cell_type": "markdown",
   "metadata": {},
   "source": [
    "### Exercise 1.34"
   ]
  },
  {
   "cell_type": "markdown",
   "metadata": {},
   "source": [
    "**Suppose we define the procedure**\n",
    "```scheme\n",
    "(define (f g) (g 2))\n",
    "```\n",
    "**Then we have**\n",
    "```scheme\n",
    "(f square)\n",
    "4\n",
    "(f (lambda (z) (* z (+ z 1))))\n",
    "6\n",
    "```\n",
    "**What happens if we (perversely) ask the interpreter to evaluate the combination `(f f)`? Explain.**"
   ]
  },
  {
   "cell_type": "markdown",
   "metadata": {},
   "source": [
    "We have defined `f` as a procedure of a single parameter which evaluates to a value by applying the given parameter to the value 2. That is, it treats the argument (parameter) as a procedure and applies `2` to it. That works well when we pass the procedures like `square`, but when we try to pass `f` itself, what happens is the evaluator tries to evaluate `(f 2)`. To evaluate this expression, the evaluator needs to evaluate `(2 2)`, which is not a valid combination, because `2` is not a procedure. So, the interpreter throws an error."
   ]
  },
  {
   "cell_type": "markdown",
   "metadata": {},
   "source": [
    "### Exercise 1.35"
   ]
  },
  {
   "cell_type": "markdown",
   "metadata": {},
   "source": [
    "**Show that the golden ratio $\\varphi$ (Section 1.2.2) is a fixed point of the transformation $x \\mapsto 1 + 1 / x$, and use this fact to compute $\\varphi$ by means of the fixed-point procedure.**"
   ]
  },
  {
   "cell_type": "markdown",
   "metadata": {},
   "source": [
    "In Section 1.2.2, $\\varphi$ was defined as the value of $(\\sqrt{5}+1)/2$. To see that $\\varphi$ is a fixed point of the transformation $x \\mapsto 1 + 1/x$, evaluate the right side with $x=\\varphi$:\n",
    "$$\n",
    "1+\\frac{1}{\\varphi} = 1+\\frac{1}{(\\sqrt{5}+1)/2} = 1+\\frac{2}{\\sqrt{5}+1} = \\frac{\\sqrt{5}+1+2}{\\sqrt{5}+1}\\\\ = \\frac{(\\sqrt{5}+3)(\\sqrt{5}-1)}{(\\sqrt{5}+1)(\\sqrt{5}-1)} = \\frac{\\sqrt{5}^2-\\sqrt{5}+3\\sqrt{5}-3}{\\sqrt{5}^2-1^2}\\\\ = \\frac{(3-1)\\sqrt{5}+(5-3)}{4}=\\frac{2\\sqrt{5}+2}{4}=\\frac{\\sqrt{5}+1}{2}=\\varphi\n",
    "$$"
   ]
  },
  {
   "cell_type": "code",
   "execution_count": 23,
   "metadata": {},
   "outputs": [
    {
     "data": {
      "text/plain": [
       "1.6180327868852458"
      ]
     },
     "execution_count": 23,
     "metadata": {},
     "output_type": "execute_result"
    }
   ],
   "source": [
    "(define (fixed-point f first-guess)\n",
    "  (define tolerance 0.00001)\n",
    "  (define (close-enough? v1 v2)\n",
    "    (< (abs (- v1 v2))\n",
    "       tolerance))\n",
    "  (define (try-value guess)\n",
    "    (let ((next (f guess)))\n",
    "      (if (close-enough? guess next)\n",
    "          next\n",
    "          (try-value next))))\n",
    "  (try-value first-guess))\n",
    "(fixed-point (lambda (x) (+ 1.0 (/ 1.0 x))) 1.0)"
   ]
  },
  {
   "cell_type": "markdown",
   "metadata": {},
   "source": [
    "### Exercise 1.36"
   ]
  },
  {
   "cell_type": "markdown",
   "metadata": {},
   "source": [
    "**Modify `fixed-point` so that it prints the sequence of approximations it generates, using the `newline` and `display` primitives shown in Exercise 1.22. Then find a solution to $x^x = 1000$ by finding a fixed point of $x \\mapsto \\log(1000)/\\log(x)$. (Use Scheme’s primitive `log` procedure, which computes natural logarithms.) Compare the number of steps this takes with and without average damping. (Note that you cannot start `fixed-point` with a guess of 1, as this would cause division by $\\log(1) = 0$.)**"
   ]
  },
  {
   "cell_type": "code",
   "execution_count": 24,
   "metadata": {},
   "outputs": [],
   "source": [
    "; We define log in python because callysto scheme does not implement it\n",
    "(python-exec \n",
    "\"\n",
    "import math\n",
    "def log(n):\n",
    " return math.log(n)\n",
    "\")\n",
    "\n",
    "(define tolerance 0.00001)\n",
    "(define (fixed-point-print f first-guess)\n",
    "  (define (close-enough? v1 v2)\n",
    "    (< (abs (- v1 v2))\n",
    "       tolerance))\n",
    "  (define (try-value guess)\n",
    "    (display guess)\n",
    "    (newline)\n",
    "    (let ((next (f guess)))\n",
    "      (if (close-enough? guess next)\n",
    "          next\n",
    "          (try-value next))))\n",
    "  (try-value first-guess))"
   ]
  },
  {
   "cell_type": "code",
   "execution_count": 25,
   "metadata": {},
   "outputs": [
    {
     "name": "stdout",
     "output_type": "stream",
     "text": [
      "2.0\n",
      "9.965784284662087\n",
      "3.004472209841214\n",
      "6.279195757507157\n",
      "3.759850702401539\n",
      "5.215843784925895\n",
      "4.182207192401397\n",
      "4.8277650983445906\n",
      "4.387593384662677\n",
      "4.671250085763899\n",
      "4.481403616895052\n",
      "4.6053657460929\n",
      "4.5230849678718865\n",
      "4.577114682047341\n",
      "4.541382480151454\n",
      "4.564903245230833\n",
      "4.549372679303342\n",
      "4.559606491913287\n",
      "4.552853875788271\n",
      "4.557305529748263\n",
      "4.554369064436181\n",
      "4.556305311532999\n",
      "4.555028263573554\n",
      "4.555870396702851\n",
      "4.555315001192079\n",
      "4.5556812635433275\n",
      "4.555439715736846\n",
      "4.555599009998291\n",
      "4.555493957531389\n",
      "4.555563237292884\n",
      "4.555517548417651\n",
      "4.555547679306398\n",
      "4.555527808516254\n",
      "4.555540912917957\n"
     ]
    },
    {
     "data": {
      "text/plain": [
       "4.555532270803653"
      ]
     },
     "execution_count": 25,
     "metadata": {},
     "output_type": "execute_result"
    }
   ],
   "source": [
    "(fixed-point-print (lambda (x) (/ (log 1000) (log x))) 2.0)"
   ]
  },
  {
   "cell_type": "markdown",
   "metadata": {},
   "source": [
    "In the `fixed-point-print` procedure implemented above (without average damping), the process takes 34 steps to arrive at the solution to $x^x = 1000$, which is about $4.55532$."
   ]
  },
  {
   "cell_type": "code",
   "execution_count": 26,
   "metadata": {},
   "outputs": [],
   "source": [
    "(define (fixed-point-print-damp f first-guess)\n",
    "  (define (close-enough? v1 v2)\n",
    "    (< (abs (- v1 v2))\n",
    "       tolerance))\n",
    "  (define (average a b) (/ (+ a b) 2))\n",
    "  (define (try-value guess)\n",
    "    (display guess)\n",
    "    (newline)\n",
    "    (let ((next (average guess (f guess))))\n",
    "      (if (close-enough? guess next)\n",
    "          next\n",
    "          (try-value next))))\n",
    "  (try-value first-guess))"
   ]
  },
  {
   "cell_type": "code",
   "execution_count": 27,
   "metadata": {},
   "outputs": [
    {
     "name": "stdout",
     "output_type": "stream",
     "text": [
      "2.0\n",
      "5.9828921423310435\n",
      "4.922168721308343\n",
      "4.628224318195455\n",
      "4.568346513136242\n",
      "4.5577305909237005\n",
      "4.555909809045131\n",
      "4.555599411610624\n",
      "4.5555465521473675\n"
     ]
    },
    {
     "data": {
      "text/plain": [
       "4.555537551999825"
      ]
     },
     "execution_count": 27,
     "metadata": {},
     "output_type": "execute_result"
    }
   ],
   "source": [
    "(fixed-point-print-damp (lambda (x) (/ (log 1000) (log x))) 2.0)"
   ]
  },
  {
   "cell_type": "markdown",
   "metadata": {},
   "source": [
    "In the `fixed-point-print-damp` procedure implemented with average damping, the process takes a mere 9 steps to arrive at an answer. This is significantly faster than not using average damping."
   ]
  },
  {
   "cell_type": "markdown",
   "metadata": {},
   "source": [
    "### Exercise 1.37"
   ]
  },
  {
   "cell_type": "markdown",
   "metadata": {},
   "source": [
    "**a. An infinite *continued fraction* is an expression of the form**\n",
    "\n",
    "$$\n",
    "f = \\cfrac{N_1}{D_1 + \\cfrac{N_2}{D_2 + \\cfrac{N_3}{D_3 + \\ldots}}}\n",
    "$$\n",
    "\n",
    "**As an example, one can show that the infinite continued fraction expansion with the $N_i$ and the $D_i$ all equal to 1 produces $1/\\varphi$, where $\\varphi$ is the golden ratio (described in Section 1.2.2). One way to approximate an infinite continued fraction is to truncate the expansion after a given number of terms. Such a truncation - a so-called *k-term finite continued fraction* - has the form**\n",
    "\n",
    "$$\n",
    "\\cfrac{N_1}{D_1 + \\cfrac{N_2}{\\ddots + \\cfrac{N_k}{D_k}}}\n",
    "$$\n",
    "\n",
    "**Suppose that `n` and `d` are procedures of one argument (the term index $i$) that return the $N_i$ and $D_i$ of the terms of the continued fraction. Define a procedure `cont-frac` such that evaluating `(cont-frac n d k)` computes the value of the *k*-term finite continued fraction. Check your procedure by approximating $1/\\varphi$ using**\n",
    "```scheme\n",
    "(cont-frac (lambda (i) 1.0)\n",
    "           (lambda (i) 1.0)\n",
    "           k)\n",
    "```\n",
    "**for successive values of `k`. How large must you make `k` in order to get an approximation that is accurate to 4 decimal places?**\n",
    "\n",
    "**b. If your `cont-frac` procedure generates a recursive pro cess, write one that generates an iterative process. If it generates an iterative process, write one that generates a recursive process.**"
   ]
  },
  {
   "cell_type": "markdown",
   "metadata": {},
   "source": [
    "a."
   ]
  },
  {
   "cell_type": "code",
   "execution_count": 28,
   "metadata": {},
   "outputs": [],
   "source": [
    "(define (cont-frac n d k)\n",
    "  (define (cont-frac-compute i)\n",
    "    (if (= k i)\n",
    "        (/ (n i) (d i))\n",
    "        (/ (n i) (+ (d i) (cont-frac-compute (+ i 1))))))\n",
    "  (cont-frac-compute 1))"
   ]
  },
  {
   "cell_type": "code",
   "execution_count": 29,
   "metadata": {},
   "outputs": [
    {
     "data": {
      "text/plain": [
       "0.6666666666666666"
      ]
     },
     "execution_count": 29,
     "metadata": {},
     "output_type": "execute_result"
    }
   ],
   "source": [
    "(cont-frac (lambda (i) 1.0)\n",
    "           (lambda (i) 1.0)\n",
    "           3)"
   ]
  },
  {
   "cell_type": "code",
   "execution_count": 30,
   "metadata": {},
   "outputs": [
    {
     "data": {
      "text/plain": [
       "0.6179775280898876"
      ]
     },
     "execution_count": 30,
     "metadata": {},
     "output_type": "execute_result"
    }
   ],
   "source": [
    "(cont-frac (lambda (i) 1.0)\n",
    "           (lambda (i) 1.0)\n",
    "           10)"
   ]
  },
  {
   "cell_type": "code",
   "execution_count": 31,
   "metadata": {},
   "outputs": [
    {
     "data": {
      "text/plain": [
       "0.6180555555555556"
      ]
     },
     "execution_count": 31,
     "metadata": {},
     "output_type": "execute_result"
    }
   ],
   "source": [
    "(cont-frac (lambda (i) 1.0)\n",
    "           (lambda (i) 1.0)\n",
    "           11)"
   ]
  },
  {
   "cell_type": "code",
   "execution_count": 32,
   "metadata": {},
   "outputs": [
    {
     "data": {
      "text/plain": [
       "0.6180257510729613"
      ]
     },
     "execution_count": 32,
     "metadata": {},
     "output_type": "execute_result"
    }
   ],
   "source": [
    "(cont-frac (lambda (i) 1.0)\n",
    "           (lambda (i) 1.0)\n",
    "           12)"
   ]
  },
  {
   "cell_type": "markdown",
   "metadata": {},
   "source": [
    "The value of $1/\\varphi$ is $0.6180339887\\ldots$. To get a value that is accurate to 4 decimal places, we must make k as large as 12."
   ]
  },
  {
   "cell_type": "markdown",
   "metadata": {},
   "source": [
    "b. The `cont-frac` procedure given above generated a recursive process. Given below is an implementation of `cont-frac` that generates an iterative process:"
   ]
  },
  {
   "cell_type": "code",
   "execution_count": 33,
   "metadata": {},
   "outputs": [],
   "source": [
    "(define (cont-frac n d k)\n",
    "  (define (cont-frac-iter acc i)\n",
    "    (if (= i 0)\n",
    "        acc\n",
    "        (cont-frac-iter (/ (n i) (+ (d i) acc)) (- i 1))))\n",
    "  (cont-frac-iter 0 k))"
   ]
  },
  {
   "cell_type": "code",
   "execution_count": 34,
   "metadata": {},
   "outputs": [
    {
     "data": {
      "text/plain": [
       "0.6180257510729613"
      ]
     },
     "execution_count": 34,
     "metadata": {},
     "output_type": "execute_result"
    }
   ],
   "source": [
    "(cont-frac (lambda (i) 1.0)\n",
    "           (lambda (i) 1.0)\n",
    "           12)"
   ]
  },
  {
   "cell_type": "markdown",
   "metadata": {},
   "source": [
    "### Exercise 1.38"
   ]
  },
  {
   "cell_type": "markdown",
   "metadata": {},
   "source": [
    "**In 1737, the Swiss mathematician Leonhard Euler published a memoir *De Fractionibus Continuis*, which included a continued fraction expansion for $e − 2$, where $e$ is the base of the natural logarithms. In this fraction, the $N_i$ are all 1, and the $D_i$ are successively 1, 2, 1, 1, 4, 1, 1, 6, 1, 1, 8, .... Write a program that uses your `cont-frac` procedure from Exercise 1.37 to approximate $e$, based on Euler’s expansion.**"
   ]
  },
  {
   "cell_type": "code",
   "execution_count": 35,
   "metadata": {},
   "outputs": [],
   "source": [
    "(define (e-frac-denominator i)\n",
    "  (if (= (remainder (- i 1) 3) 1)\n",
    "      (* 2 (+ 1 (quotient (- i 1) 3)))\n",
    "      1))\n",
    "(define (approx-e k)\n",
    "  (+ 2 (cont-frac (lambda (i) 1.0)\n",
    "                  e-frac-denominator\n",
    "                  k)))"
   ]
  },
  {
   "cell_type": "code",
   "execution_count": 36,
   "metadata": {},
   "outputs": [
    {
     "data": {
      "text/plain": [
       "2.7182817182817183"
      ]
     },
     "execution_count": 36,
     "metadata": {},
     "output_type": "execute_result"
    }
   ],
   "source": [
    "(approx-e 10)"
   ]
  },
  {
   "cell_type": "markdown",
   "metadata": {},
   "source": [
    "### Exercise 1.39"
   ]
  },
  {
   "cell_type": "markdown",
   "metadata": {},
   "source": [
    "**A continued fraction representation of the tangent function was published in 1770 by the German mathematician J.H. Lambert:**\n",
    "$$\n",
    "\\tan{x} = \\cfrac{x}{1-\\cfrac{x^2}{3-\\cfrac{x^2}{5-\\ldots}}}\n",
    "$$\n",
    "**where $x$ is in radians. Define a procedure `(tan-cf x k)` that computes an approximation to the tangent function based on Lambert’s formula. `k` specifies the number of terms to compute, as in Exercise 1.37.**"
   ]
  },
  {
   "cell_type": "code",
   "execution_count": 37,
   "metadata": {},
   "outputs": [],
   "source": [
    "(define (tan-cf x k)\n",
    "  (define (n i)\n",
    "    (if (= i 1) x (- (* x x))))\n",
    "  (define (d i) (- (* 2 i) 1))\n",
    "  (cont-frac n d k))"
   ]
  },
  {
   "cell_type": "code",
   "execution_count": 38,
   "metadata": {},
   "outputs": [
    {
     "data": {
      "text/plain": [
       "0.9999996732051568"
      ]
     },
     "execution_count": 38,
     "metadata": {},
     "output_type": "execute_result"
    }
   ],
   "source": [
    "(tan-cf 0.785398 15)"
   ]
  },
  {
   "cell_type": "markdown",
   "metadata": {},
   "source": [
    "Here, the argument `x` is approximately equal to $\\pi/4$, and the result of the procedure, as expected, is approximately equal to 1, which is the value of $\\tan{(\\pi/4)}$"
   ]
  },
  {
   "cell_type": "markdown",
   "metadata": {},
   "source": [
    "### Exercise 1.40"
   ]
  },
  {
   "cell_type": "markdown",
   "metadata": {},
   "source": [
    "**Define a procedure `cubic` that can be used together with the `newtons-method` procedure in expressions of the form**\n",
    "```scheme\n",
    "(newtons-method (cubic a b c) 1)\n",
    "```\n",
    "**to approximate zeros of the cubic $x^3 + ax^2 + bx + c$.**"
   ]
  },
  {
   "cell_type": "code",
   "execution_count": 39,
   "metadata": {},
   "outputs": [],
   "source": [
    "(define (cubic a b c)\n",
    "  (lambda (x) (+ (* x x x) (* a x x) (* b x) c)))"
   ]
  },
  {
   "cell_type": "markdown",
   "metadata": {},
   "source": [
    "### Exercise 1.41"
   ]
  },
  {
   "cell_type": "markdown",
   "metadata": {},
   "source": [
    "**Define a procedure `double` that takes a procedure of one argument as argument and returns a procedure that applies the original procedure twice. For example, if `inc` is a procedure that adds 1 to its argument, then `(double inc)` should be a procedure that adds 2. What value is returned by**\n",
    "```scheme\n",
    "(((double (double double)) inc) 5)\n",
    "```"
   ]
  },
  {
   "cell_type": "code",
   "execution_count": 40,
   "metadata": {},
   "outputs": [],
   "source": [
    "(define (double f)\n",
    "  (lambda (x) (f (f x))))"
   ]
  },
  {
   "cell_type": "code",
   "execution_count": 41,
   "metadata": {},
   "outputs": [
    {
     "data": {
      "text/plain": [
       "21"
      ]
     },
     "execution_count": 41,
     "metadata": {},
     "output_type": "execute_result"
    }
   ],
   "source": [
    "(define (inc n) (+ n 1))\n",
    "(((double (double double)) inc) 5)"
   ]
  },
  {
   "cell_type": "markdown",
   "metadata": {},
   "source": [
    "The value retured is 21 because `(((double (double double)) inc) 5)` evaluates as is shown below:\n",
    "```scheme\n",
    "(((double (double double)) inc) 5)\n",
    "(((double (lambda (x) (double (double x)))) inc) 5)\n",
    "(((lambda (x) (double (double (double (double x))))) inc) 5)\n",
    "((double (double (double (double inc)))) 5)\n",
    "```\n",
    "\n",
    "In other words, `double` is applied to `inc` and again to the result and so on, 4 times in total. In the end, the resulting procedure adds 16 $(2^4)$ to its argument. The expression evaluates to $5 + 16 = 21$."
   ]
  },
  {
   "cell_type": "markdown",
   "metadata": {},
   "source": [
    "### Exercise 1.42"
   ]
  },
  {
   "cell_type": "markdown",
   "metadata": {},
   "source": [
    "**Let $f$ and $g$ be two one-argument functions. The *composition* $f$ after $g$ is defined to be the function $x \\mapsto f(g(x))$. Define a procedure `compose` that implements composition. For example, if `inc` is a procedure that adds 1 to its argument,**\n",
    "```scheme\n",
    "((compose square inc) 6)\n",
    "49\n",
    "```"
   ]
  },
  {
   "cell_type": "code",
   "execution_count": 42,
   "metadata": {},
   "outputs": [],
   "source": [
    "(define (compose f g)\n",
    "  (lambda (x) (f (g x))))"
   ]
  },
  {
   "cell_type": "markdown",
   "metadata": {},
   "source": [
    "The above definition of `compose` implements composition, as is verified by the following evaluation:"
   ]
  },
  {
   "cell_type": "code",
   "execution_count": 43,
   "metadata": {},
   "outputs": [
    {
     "data": {
      "text/plain": [
       "49"
      ]
     },
     "execution_count": 43,
     "metadata": {},
     "output_type": "execute_result"
    }
   ],
   "source": [
    "(define (square x) (* x x))\n",
    "(define (inc x) (+ 1 x))\n",
    "((compose square inc) 6)"
   ]
  },
  {
   "cell_type": "markdown",
   "metadata": {},
   "source": [
    "### Exercise 1.43"
   ]
  },
  {
   "cell_type": "markdown",
   "metadata": {},
   "source": [
    "**If $f$ is a numerical function and $n$ is a positive integer, then we can form the $n_{th}$ repeated application of $f$ , which is defined to be the function whose value at $x$ is $f(f(\\ldots(f(x))\\ldots))$. For example, if $f$ is the function $ x \\mapsto x + 1$, then the $n_{th}$ repeated application of $f$ is the function $x \\mapsto x + n$. If $f$ is the operation of squaring a number, then the $n_{th}$ repeated application of $f$ is the function that raises its argument to the $2^n-th$ power. Write a procedure that takes as inputs a procedure that computes $f$ and a positive integer $n$ and returns the procedure that computes the $n_{th}$ repeated application of $f$ . Your procedure should be able to be used as follows:**\n",
    "```scheme\n",
    "((repeated square 2) 5)                                                            \n",
    "625\n",
    "```\n",
    "**Hint: You may find it convenient to use compose from Exercise 1.42.**"
   ]
  },
  {
   "cell_type": "code",
   "execution_count": 44,
   "metadata": {},
   "outputs": [
    {
     "data": {
      "text/plain": [
       "625"
      ]
     },
     "execution_count": 44,
     "metadata": {},
     "output_type": "execute_result"
    }
   ],
   "source": [
    "(define (compose f g)\n",
    "  (lambda (x) (f (g x))))\n",
    "(define (square n) (* n n))\n",
    "\n",
    "(define (repeated f n)\n",
    "  (if (< n 2) f (compose f (repeated f (- n 1)))))\n",
    "\n",
    "((repeated square 2) 5)"
   ]
  },
  {
   "cell_type": "markdown",
   "metadata": {},
   "source": [
    "### Exercise 1.44"
   ]
  },
  {
   "cell_type": "markdown",
   "metadata": {},
   "source": [
    "**The idea of *smoothing* a function is an important concept in signal processing. If $f$ is a function and $dx$ is some small number, then the smoothed version of $f$ is the function whose value at a point $x$ is the average of $f(x-dx)$, $f(x)$, and $f(x+dx)$. Write a procedure `smooth` that takes as input a procedure that computes $f$ and returns a procedure that computes the smoothed $f$. It is sometimes valuable to repeatedly smooth a function (that is, smooth the smoothed function, and so on) to obtain the *n-fold smoothed function*. Show how to generate the n-fold smoothed function of any given function using `smooth` and `repeated` from Exercise 1.43.**                                                                                                                                                                "
   ]
  },
  {
   "cell_type": "code",
   "execution_count": 45,
   "metadata": {},
   "outputs": [
    {
     "data": {
      "text/plain": [
       "4.000000033333335"
      ]
     },
     "execution_count": 45,
     "metadata": {},
     "output_type": "execute_result"
    }
   ],
   "source": [
    "(define dx 0.0001)\n",
    "(define (smooth f)\n",
    "  (lambda (x) (/ (+ (f (+ x dx)) (f x) (f (- x dx))) 3.0)))\n",
    "\n",
    "(define (n-fold-smooth f n)\n",
    "  ((repeated smooth n) f))\n",
    "\n",
    "((n-fold-smooth square 5) 2)"
   ]
  },
  {
   "cell_type": "markdown",
   "metadata": {},
   "source": [
    "### Exercise 1.45"
   ]
  },
  {
   "cell_type": "markdown",
   "metadata": {},
   "source": [
    "**We saw in Section 1.3.3 that attempting to compute square roots by naively finding a fixed point of $y \\mapsto x/y$ does not converge, and that this can be fixed by average damping. The same method works for finding cube roots as fixed points of the average-damped $y \\mapsto x/y^2$. Unfortunately, the process does not work for fourth roots - single average damp is not enough to make a fixed-point search for $y \\mapsto x/y^3$ converge. On the other hand, if we average damp twice (i.e., use the average damp of the average damp of $y \\mapsto x/y^3$) the fixed-point search does converge. Do some experiments to determine how many average damps are required to compute $n^{th}$  roots as a fixed point search based upon repeated average damping of $ x \\mapsto x/y^{n−1}$. Use this to implement a simple procedure for computing $n^{th}$  roots using `fixed-point`, `average-damp`, and the `repeated` procedure of Exercise 1.43. Assume that any arithmetic operations you need are available as primitives.**"
   ]
  },
  {
   "cell_type": "markdown",
   "metadata": {},
   "source": [
    "To enable experimentation, we define a new `fixed-point` procedure that gives up trying to find the fixed point if our guess doesn't converge after a certain number of steps."
   ]
  },
  {
   "cell_type": "code",
   "execution_count": 46,
   "metadata": {},
   "outputs": [],
   "source": [
    "(define (fixed-point-bounded f guess)\n",
    "  (define tolerance 0.00001)\n",
    "  (define (close-enough? a b) (< (abs (- a b)) tolerance))\n",
    "  (define (declare-no-convergence return-value)\n",
    "    (display \"The function has failed to converge!\")\n",
    "    (newline)\n",
    "    return-value)\n",
    "  (define (fixed-point-iter guess max-steps)\n",
    "    (let ((next (f guess)))\n",
    "      (cond ((close-enough? guess next) next)\n",
    "            ((> max-steps 0) (fixed-point-iter next (- max-steps 1)))\n",
    "            (else (declare-no-convergence \"?\")))))\n",
    "  (fixed-point-iter guess 5000))"
   ]
  },
  {
   "cell_type": "code",
   "execution_count": 47,
   "metadata": {},
   "outputs": [],
   "source": [
    "(define (average x y) (/ (+ x y) 2.0))\n",
    "(define (average-damp f) (lambda (x) (average x (f x))))\n",
    "; Compute the n-th root of x, by finding the fixed point of y |--> x/y^(n-1)\n",
    "; and using d-fold average damping.\n",
    "(define (nth-root-damped d n x)\n",
    "  (define (g y) (/ x (expt y (- n 1))))\n",
    "  (define (d-average-damp f) ((repeated average-damp d) f))\n",
    "  (fixed-point-bounded (d-average-damp g) 1.0))"
   ]
  },
  {
   "cell_type": "code",
   "execution_count": 48,
   "metadata": {},
   "outputs": [
    {
     "data": {
      "text/plain": [
       "3.0"
      ]
     },
     "execution_count": 48,
     "metadata": {},
     "output_type": "execute_result"
    }
   ],
   "source": [
    "(nth-root-damped 1 2 9)"
   ]
  },
  {
   "cell_type": "code",
   "execution_count": 49,
   "metadata": {},
   "outputs": [
    {
     "name": "stdout",
     "output_type": "stream",
     "text": [
      "The function has failed to converge!\n"
     ]
    },
    {
     "data": {
      "text/plain": [
       "\"?\""
      ]
     },
     "execution_count": 49,
     "metadata": {},
     "output_type": "execute_result"
    }
   ],
   "source": [
    "(nth-root-damped 1 4 625)"
   ]
  },
  {
   "cell_type": "code",
   "execution_count": 50,
   "metadata": {},
   "outputs": [
    {
     "data": {
      "text/plain": [
       "5.000000000004688"
      ]
     },
     "execution_count": 50,
     "metadata": {},
     "output_type": "execute_result"
    }
   ],
   "source": [
    "(nth-root-damped 2 4 625)"
   ]
  },
  {
   "cell_type": "code",
   "execution_count": 51,
   "metadata": {},
   "outputs": [
    {
     "data": {
      "text/plain": [
       "5.000003268647355"
      ]
     },
     "execution_count": 51,
     "metadata": {},
     "output_type": "execute_result"
    }
   ],
   "source": [
    "(nth-root-damped 2 6 15625)"
   ]
  },
  {
   "cell_type": "code",
   "execution_count": 52,
   "metadata": {},
   "outputs": [
    {
     "data": {
      "text/plain": [
       "5.000004267274231"
      ]
     },
     "execution_count": 52,
     "metadata": {},
     "output_type": "execute_result"
    }
   ],
   "source": [
    "(nth-root-damped 2 7 78125)"
   ]
  },
  {
   "cell_type": "code",
   "execution_count": 53,
   "metadata": {},
   "outputs": [
    {
     "name": "stdout",
     "output_type": "stream",
     "text": [
      "The function has failed to converge!\n"
     ]
    },
    {
     "data": {
      "text/plain": [
       "\"?\""
      ]
     },
     "execution_count": 53,
     "metadata": {},
     "output_type": "execute_result"
    }
   ],
   "source": [
    "(nth-root-damped 2 8 390625)"
   ]
  },
  {
   "cell_type": "code",
   "execution_count": 54,
   "metadata": {},
   "outputs": [
    {
     "data": {
      "text/plain": [
       "5.000000000000416"
      ]
     },
     "execution_count": 54,
     "metadata": {},
     "output_type": "execute_result"
    }
   ],
   "source": [
    "(nth-root-damped 3 8 390625)"
   ]
  },
  {
   "cell_type": "code",
   "execution_count": 55,
   "metadata": {},
   "outputs": [
    {
     "name": "stdout",
     "output_type": "stream",
     "text": [
      "The function has failed to converge!\n"
     ]
    },
    {
     "data": {
      "text/plain": [
       "\"?\""
      ]
     },
     "execution_count": 55,
     "metadata": {},
     "output_type": "execute_result"
    }
   ],
   "source": [
    "(nth-root-damped 3 16 390625)"
   ]
  },
  {
   "cell_type": "code",
   "execution_count": 56,
   "metadata": {},
   "outputs": [
    {
     "data": {
      "text/plain": [
       "2.000000000076957"
      ]
     },
     "execution_count": 56,
     "metadata": {},
     "output_type": "execute_result"
    }
   ],
   "source": [
    "(nth-root-damped 4 16 65536)"
   ]
  },
  {
   "cell_type": "markdown",
   "metadata": {},
   "source": [
    "The experiments seem to be showing a pattern - that the number of `average-damp`s applied should be at least the $\\log_2(n)$ (logarithm base 2 of n) when we need to calculate the nth root. Below we implement a n-th root procedure using this observation."
   ]
  },
  {
   "cell_type": "code",
   "execution_count": 57,
   "metadata": {},
   "outputs": [],
   "source": [
    "; Because apparently, callysto scheme doesn't have the floor function\n",
    "(python-exec \"from math import floor\")\n",
    "\n",
    "(define (nth-root n x)\n",
    "  (define (g y) (/ x (expt y (- n 1))))\n",
    "  (define (damped f) ((repeated average-damp (floor (/ (log n) (log 2)))) f))\n",
    "  (fixed-point (damped g) 1.0))"
   ]
  },
  {
   "cell_type": "code",
   "execution_count": 58,
   "metadata": {},
   "outputs": [
    {
     "data": {
      "text/plain": [
       "2.000001183010332"
      ]
     },
     "execution_count": 58,
     "metadata": {},
     "output_type": "execute_result"
    }
   ],
   "source": [
    "(nth-root 10 1024)"
   ]
  },
  {
   "cell_type": "code",
   "execution_count": 59,
   "metadata": {},
   "outputs": [
    {
     "data": {
      "text/plain": [
       "5.000000000004688"
      ]
     },
     "execution_count": 59,
     "metadata": {},
     "output_type": "execute_result"
    }
   ],
   "source": [
    "(nth-root 4 625)"
   ]
  },
  {
   "cell_type": "markdown",
   "metadata": {},
   "source": [
    "### Exercise 1.46"
   ]
  },
  {
   "cell_type": "markdown",
   "metadata": {},
   "source": [
    "**Several of the numerical methods described in this chapter are instances of an extremely general computational strategy known as *iterative improvement*. Iterative improvement says that, to compute something, we start with an initial guess for the answer, test if the guess is good enough, and otherwise improve the guess and continue the process using the improved guess as the new guess. Write a procedure `iterative-improve` that takes two procedures as arguments: a method for telling whether a guess is good enough and a method for improving a guess. `iterative-improve` should return as its value a procedure that takes a guess as argument and keeps improving the guess until it is good enough. Rewrite the `sqrt` procedure of Section 1.1.7 and the `fixed-point` procedure of Section 1.3.3 in terms of `iterative-improve`.**"
   ]
  },
  {
   "cell_type": "code",
   "execution_count": 60,
   "metadata": {},
   "outputs": [],
   "source": [
    "(define (iterative-improve improve good-enough?)\n",
    "  (define (iterate guess)\n",
    "    (if (good-enough? guess)\n",
    "        (improve guess)\n",
    "        (iterate (improve guess))))\n",
    "  iterate)\n",
    "\n",
    "(define (sqrt x)\n",
    "  (define (improve guess)\n",
    "    (average guess (/ x guess)))\n",
    "  (define (good-enough? guess)\n",
    "    (< (abs (- (* guess guess) x)) 0.00001))\n",
    "  ((iterative-improve improve good-enough?) 1.0))\n",
    "\n",
    "(define (fixed-point f)\n",
    "  (define (improve guess)\n",
    "    (average guess (f guess)))\n",
    "  (define (good-enough? guess)\n",
    "    (< (abs (- guess (f guess))) 0.00001))\n",
    "  ((iterative-improve improve good-enough?) 1.0))"
   ]
  },
  {
   "cell_type": "code",
   "execution_count": 61,
   "metadata": {},
   "outputs": [
    {
     "data": {
      "text/plain": [
       "16.0"
      ]
     },
     "execution_count": 61,
     "metadata": {},
     "output_type": "execute_result"
    }
   ],
   "source": [
    "(sqrt 256)"
   ]
  },
  {
   "cell_type": "code",
   "execution_count": 62,
   "metadata": {},
   "outputs": [
    {
     "data": {
      "text/plain": [
       "3.000001383950946"
      ]
     },
     "execution_count": 62,
     "metadata": {},
     "output_type": "execute_result"
    }
   ],
   "source": [
    "(fixed-point (lambda (x) (/ 27.0 (* x x))))"
   ]
  }
 ],
 "metadata": {
  "kernelspec": {
   "display_name": "Calysto Scheme 3",
   "language": "scheme",
   "name": "calysto_scheme"
  },
  "language_info": {
   "codemirror_mode": {
    "name": "scheme"
   },
   "mimetype": "text/x-scheme",
   "name": "scheme",
   "pygments_lexer": "scheme"
  }
 },
 "nbformat": 4,
 "nbformat_minor": 2
}
