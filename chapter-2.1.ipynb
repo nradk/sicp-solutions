{
 "cells": [
  {
   "cell_type": "markdown",
   "metadata": {},
   "source": [
    "# Chapter 2.1"
   ]
  },
  {
   "cell_type": "markdown",
   "metadata": {},
   "source": [
    "### Exercise 2.1\n",
    "\n",
    "**Define a better version of `make-rat` that handles both positive and negative arguments. `make-rat` should normalize the sign so that if the rational number is positive, both the numerator and denominator are positive, and if the rational number is negative, only the numerator is negative.**"
   ]
  },
  {
   "cell_type": "code",
   "execution_count": 1,
   "metadata": {},
   "outputs": [],
   "source": [
    "(define (gcd _x _y)\n",
    "  (define x (abs _x))\n",
    "  (define y (abs _y))\n",
    "  (cond ((= y 0) x)\n",
    "        ((< x y) (gcd y x))\n",
    "        (else (gcd y (modulo x y)))))\n",
    "    \n",
    "(define (make-rat n d)\n",
    "  (define g (gcd n d ))\n",
    "  (define gs (if (< d 0) (- g) g))\n",
    "  (cons (/ n gs) (/ d gs)))\n",
    "  \n",
    "(define (numer rat) (car rat))\n",
    "(define (denom rat) (cdr rat))\n",
    "  \n",
    "(define (add-rat a b)\n",
    "  (make-rat (+ (* (numer a) (denom b)) (* (numer b) (denom a))) (* (denom a) (denom b))))\n",
    "  \n",
    "(define (sub-rat a b)\n",
    "  (make-rat (- (* (numer a) (denom b)) (* (numer b) (denom a))) (* (denom a) (denom b))))\n",
    "\n",
    "(define (mul-rat a b)\n",
    "  (make-rat (* (numer a) (numer b)) (* (denom a) (denom b))))\n",
    "  \n",
    "(define (div-rat a b)\n",
    "  (make-rat (* (numer a) (denom b)) (* (denom a) (numer b))))\n",
    "  \n",
    "(define (equal-rat? a b)\n",
    "  (= (* (numer a) (denom b)) (* (numer b) (denom a))))\n",
    "  \n",
    "(define (print-rat a)\n",
    "  (display (numer a))\n",
    "  (display \"/\")\n",
    "  (display (denom a))\n",
    "  (newline))"
   ]
  },
  {
   "cell_type": "code",
   "execution_count": 2,
   "metadata": {},
   "outputs": [
    {
     "name": "stdout",
     "output_type": "stream",
     "text": [
      "1/2\n",
      "-1/3\n",
      "3/4\n",
      "-1/2\n"
     ]
    }
   ],
   "source": [
    "(print-rat (make-rat 1 2))\n",
    "(print-rat (make-rat 2 -6))\n",
    "(print-rat (make-rat -3 -4))\n",
    "(print-rat (make-rat -1 2))"
   ]
  },
  {
   "cell_type": "markdown",
   "metadata": {},
   "source": [
    "### Exercise 2.2\n",
    "\n",
    "**Consider the problem of representing line segments in a plane. Each segment is represented as a pair of points: a starting point and an ending point. Deﬁne a constructor `make-segment` and selectors `start-segment` and\n",
    "`end-segment` that deﬁne the representation of segments in terms of points. Furthermore, a point can be represented as a pair of numbers: the x coordinate and the y coordinate. Accordingly, specify a constructor `make-point` and selectors `x-point` and `y-point` that deﬁne this representation. Finally, using your selectors and constructors, deﬁne a procedure `midpoint-segment` that takes a line segment as argument and returns its midpoint (the point whose coordinates are the average of the coordinates of the endpoints). To try your procedures, you’ll need a way to print points:**\n",
    "\n",
    "```\n",
    "(define (print-point p)\n",
    "    (newline)\n",
    "    (display \"(\")\n",
    "    (display (x-point p))\n",
    "    (display \",\")\n",
    "    (display (y-point p))\n",
    "    (display \")\"))\n",
    "```"
   ]
  },
  {
   "cell_type": "code",
   "execution_count": 3,
   "metadata": {},
   "outputs": [],
   "source": [
    "(define (make-point x y) (cons x y))\n",
    "(define (x-point p) (car p))\n",
    "(define (y-point p) (cdr p))\n",
    "(define (print-point p)\n",
    "    (newline)\n",
    "    (display \"(\")\n",
    "    (display (x-point p))\n",
    "    (display \",\")\n",
    "    (display (y-point p))\n",
    "    (display \")\"))\n",
    "\n",
    "(define (make-segment s e) (cons s e))\n",
    "(define (start-segment l) (car l))\n",
    "(define (end-segment l) (cdr l))\n",
    "\n",
    "(define (midpoint-segment ls)\n",
    "  (define (avg a b) (/ (+ a b) 2))\n",
    "  (make-point (avg (x-point (start-segment ls)) (x-point (end-segment ls)))\n",
    "              (avg (y-point (start-segment ls)) (y-point (end-segment ls)))))"
   ]
  },
  {
   "cell_type": "code",
   "execution_count": 4,
   "metadata": {},
   "outputs": [
    {
     "name": "stdout",
     "output_type": "stream",
     "text": [
      "\n",
      "(2,4)"
     ]
    }
   ],
   "source": [
    "(define a (make-point 1 2))\n",
    "(define b (make-point 3 6))\n",
    "(define ab (make-segment a b))\n",
    "(print-point (midpoint-segment ab))"
   ]
  },
  {
   "cell_type": "markdown",
   "metadata": {},
   "source": [
    "### Exercise 2.3\n",
    "\n",
    "**Implement a representation for rectangles in a plane. (Hint: You may want to make use of Exercise 2.2.) In terms of your constructors and selectors, create procedures that compute the perimeter and the area of a given rectangle. Now implement a diﬀerent representation for rectangles. Can you design your system with suitable abstraction barriers, so that the same perimeter and area procedures will work using either representation?**"
   ]
  },
  {
   "cell_type": "markdown",
   "metadata": {},
   "source": [
    "Below we implement a representation for rectangles where they are defined by their diagonally opposite points. We also define a selector called `side-lengths` which evaluates to the pair of side lengths of the given rectangle. `perimeter` and `area` are defined in terms of `side-lengths`."
   ]
  },
  {
   "cell_type": "code",
   "execution_count": 5,
   "metadata": {},
   "outputs": [],
   "source": [
    "(define (make-rectangle bottom-left top-right)\n",
    "  (cond ((> (x-point bottom-left) (x-point top-right)) (make-rectangle top-right bottom-left))\n",
    "        ((> (y-point bottom-left) (y-point top-right))\n",
    "         (make-rectangle (make-point (x-point bottom-left) (y-point top-right))\n",
    "                         (make-point (x-point top-right) (y-point bottom-left))))\n",
    "        (else (cons bottom-left top-right))))\n",
    "\n",
    "(define (side-lengths rectangle)\n",
    "  (define bottom-left (car rectangle))\n",
    "  (define top-right (cdr rectangle))\n",
    "  (cons (abs (- (x-point bottom-left) (x-point top-right))) (abs (- (y-point bottom-left) (y-point top-right)))))\n",
    "\n",
    "(define (perimeter rectangle)\n",
    "  (define sl (side-lengths rectangle))\n",
    "  (* 2 (+ (car sl) (cdr sl))))\n",
    "\n",
    "(define (area rectangle)\n",
    "  (define sl (side-lengths rectangle))\n",
    "  (* (car sl) (cdr sl)))"
   ]
  },
  {
   "cell_type": "code",
   "execution_count": 6,
   "metadata": {},
   "outputs": [
    {
     "data": {
      "text/html": [
       "<code>12</code>"
      ],
      "text/plain": [
       "12"
      ]
     },
     "execution_count": 6,
     "metadata": {},
     "output_type": "execute_result"
    }
   ],
   "source": [
    "(perimeter (make-rectangle (make-point 1 1) (make-point 3 5)))"
   ]
  },
  {
   "cell_type": "code",
   "execution_count": 7,
   "metadata": {},
   "outputs": [
    {
     "data": {
      "text/html": [
       "<code>8</code>"
      ],
      "text/plain": [
       "8"
      ]
     },
     "execution_count": 7,
     "metadata": {},
     "output_type": "execute_result"
    }
   ],
   "source": [
    "(perimeter (make-rectangle (make-point 2 0) (make-point 0 2)))"
   ]
  },
  {
   "cell_type": "code",
   "execution_count": 8,
   "metadata": {},
   "outputs": [
    {
     "data": {
      "text/html": [
       "<code>6</code>"
      ],
      "text/plain": [
       "6"
      ]
     },
     "execution_count": 8,
     "metadata": {},
     "output_type": "execute_result"
    }
   ],
   "source": [
    "(area (make-rectangle (make-point 4 5) (make-point 7 7)))"
   ]
  },
  {
   "cell_type": "markdown",
   "metadata": {},
   "source": [
    "Now we change the representation of rectangles by modifying `make-rectangle` and `side-lengths`. This time a rectangle is represented in terms of a center and its two side lengths."
   ]
  },
  {
   "cell_type": "code",
   "execution_count": 9,
   "metadata": {},
   "outputs": [],
   "source": [
    "(define (make-rectangle center width height)\n",
    "  (cons center (cons width height)))\n",
    "\n",
    "(define (side-lengths rectangle)\n",
    "  (cdr rectangle))"
   ]
  },
  {
   "cell_type": "code",
   "execution_count": 10,
   "metadata": {},
   "outputs": [
    {
     "data": {
      "text/html": [
       "<code>20</code>"
      ],
      "text/plain": [
       "20"
      ]
     },
     "execution_count": 10,
     "metadata": {},
     "output_type": "execute_result"
    }
   ],
   "source": [
    "(area (make-rectangle (make-point 0 0) 4 5))"
   ]
  },
  {
   "cell_type": "code",
   "execution_count": 11,
   "metadata": {},
   "outputs": [
    {
     "data": {
      "text/html": [
       "<code>10</code>"
      ],
      "text/plain": [
       "10"
      ]
     },
     "execution_count": 11,
     "metadata": {},
     "output_type": "execute_result"
    }
   ],
   "source": [
    "(perimeter (make-rectangle (make-point 1 3) 3 2))"
   ]
  },
  {
   "cell_type": "markdown",
   "metadata": {},
   "source": [
    "### Exercise 2.4\n",
    "\n",
    "**Here is an alternative procedural representation of pairs. For this representation, verify that `(car (cons x y))` yields `x` for any objects `x` and `y`.**"
   ]
  },
  {
   "cell_type": "code",
   "execution_count": 12,
   "metadata": {},
   "outputs": [],
   "source": [
    "(define (cons x y)\n",
    "    (lambda (m) (m x y)))\n",
    "(define (car z)\n",
    "    (z (lambda (p q) p)))"
   ]
  },
  {
   "cell_type": "markdown",
   "metadata": {},
   "source": [
    "**What is the corresponding deﬁnition of `cdr` ? (Hint: To verify that this works, make use of the substitution model of Section 1.1.5.)**"
   ]
  },
  {
   "cell_type": "markdown",
   "metadata": {},
   "source": [
    "The corresponding definition of `cdr` is"
   ]
  },
  {
   "cell_type": "code",
   "execution_count": 13,
   "metadata": {},
   "outputs": [],
   "source": [
    "(define (cdr z)\n",
    "  (z (lambda (p q) q)))"
   ]
  },
  {
   "cell_type": "markdown",
   "metadata": {},
   "source": [
    "The following examples show this works:"
   ]
  },
  {
   "cell_type": "code",
   "execution_count": 14,
   "metadata": {},
   "outputs": [
    {
     "data": {
      "text/html": [
       "<code>2</code>"
      ],
      "text/plain": [
       "2"
      ]
     },
     "execution_count": 14,
     "metadata": {},
     "output_type": "execute_result"
    }
   ],
   "source": [
    "(cdr (cons 1 2))"
   ]
  },
  {
   "cell_type": "code",
   "execution_count": 15,
   "metadata": {},
   "outputs": [
    {
     "data": {
      "text/html": [
       "<code>48</code>"
      ],
      "text/plain": [
       "48"
      ]
     },
     "execution_count": 15,
     "metadata": {},
     "output_type": "execute_result"
    }
   ],
   "source": [
    "(cdr (cons 123 48))"
   ]
  },
  {
   "cell_type": "code",
   "execution_count": null,
   "metadata": {},
   "outputs": [],
   "source": []
  },
  {
   "cell_type": "markdown",
   "metadata": {},
   "source": [
    "The following substitutions prove this as well:\n",
    "\n",
    "```\n",
    "(cdr (cons x y))\n",
    "((cons x y) (lambda (p q) q))\n",
    "((lambda (m) (m x y)) (lambda (p q) q))\n",
    "((lambda (p q) q) x y)\n",
    "y\n",
    "```\n",
    "\n",
    "NOTE: This is how pairs are defined in [Church Encoding](https://en.wikipedia.org/wiki/Church_encoding#Church_pairs)."
   ]
  },
  {
   "cell_type": "markdown",
   "metadata": {},
   "source": [
    "### Exercise 2.5\n",
    "\n",
    "**Show that we can represent pairs of nonnegative integers using only numbers and arithmetic operations if we represent the pair $a$ and $b$ as the integer that is the product $2^a3^b$. Give the corresponding deﬁnitions of the procedures `cons`, `car`, and `cdr`.**"
   ]
  },
  {
   "cell_type": "markdown",
   "metadata": {},
   "source": [
    "To show that we can represent elements from one set (in this case, $\\mathbb{Z_{0+}}\\times\\mathbb{Z}_+$) as members of another set (in this case, $\\mathbb{Z}_+$), we need only to show that there exists a reversible function from the first set to the other.\n",
    "\n",
    "That is, there exists an $f \\in \\mathbb{Z_{0+}}\\times\\mathbb{Z}_+ \\rightarrow \\mathbb{Z}_+$ and its inverse $f^{-1} \\in \\mathbb{Z}_+ \\rightarrow \\mathbb{Z}_{0+}\\times\\mathbb{Z}_+$ such that for all $x \\in \\mathbb{Z}_{0+}\\times\\mathbb{Z}_+$, $f^{-1}(f(x)) = x$.\n",
    "\n",
    "The function $f$ is already given: $f(a, b) = 2^a3^b$ for the pair of non-negative integers $(a,b)$. We need to find the $f^{-1}$. At a glance, we can say that to get $a$ from $2^a3^b$, we need to find out how many times we can divide $2^a3^b$ with 2. Similarly with $b$. In more mathematically precise terms, we can specify $f^{-1}$ in the following way.\n",
    "\n",
    "Take $x=2^a3^b$. Taking the base-2 logarithm of both sides gives us\n",
    "$$\n",
    "\\log_2{x} = \\log_2{2^a3^b} = a\\log_2{2} + b\\log_2{3} = a + 1.585 b\n",
    "$$\n",
    "\n",
    "Since $b >= 0$, we can say that $\\log_2{x} >= a$, so $\\lfloor\\log_2{x}\\rfloor >= a$. So if we take the GCD of $2^{\\lfloor\\log_2{x}\\rfloor}$ and x, we will get $2^a$. So, to get $a$ from $x$, we can take $\\log_2{\\gcd(x, 2^{\\lfloor\\log_2{x}\\rfloor})}$. Applying the same to obtain $b$ as well, we define $f^{-1}$ as the pair:\n",
    "\n",
    "$$\n",
    "f^{-1}(x) = (\\log_2{\\gcd(x, 2^{\\lfloor\\log_2{x}\\rfloor})}, \\log_3{\\gcd(x, 3^{\\lfloor\\log_3{x}\\rfloor})})\n",
    "$$\n",
    "\n",
    "To define $car$ and $cdr$ now, we translate the definition above Scheme, after defining some helper functions."
   ]
  },
  {
   "cell_type": "code",
   "execution_count": 16,
   "metadata": {},
   "outputs": [],
   "source": [
    "(define (gcd a b)\n",
    "  (cond ((= b 0) a)\n",
    "        ((> b a) (gcd b a))\n",
    "        (else (gcd b (remainder a b)))))\n",
    "\n",
    "(define (log-base base x) (/ (log x) (log base)))"
   ]
  },
  {
   "cell_type": "markdown",
   "metadata": {},
   "source": [
    "Now, we define the new `cons`, `car` and `cdr` functions within a let block. The additional `round` in implementations of `cdr` and `car` is to recover from errors that get introduced due to limited floating point precision. The examples printed demonstrate that these definitions work as expected."
   ]
  },
  {
   "cell_type": "code",
   "execution_count": 17,
   "metadata": {},
   "outputs": [
    {
     "name": "stdout",
     "output_type": "stream",
     "text": [
      "15.0, 20.0\n",
      "0, 0"
     ]
    }
   ],
   "source": [
    "(let (\n",
    "      (cons (lambda (a b) (* (expt 2 a) (expt 3 b))))\n",
    "      (car (lambda (x) (round (log-base 2 (gcd x (expt 2 (floor (log-base 2 x))))))))\n",
    "      (cdr (lambda (x) (round (log-base 3 (gcd x (expt 3 (floor (log-base 3 x))))))))\n",
    "     )\n",
    "  \n",
    "  (let ((x1 (cons 15 20))\n",
    "        (x2 (cons 0 0)))\n",
    "    (display (car x1))\n",
    "    (display \", \")\n",
    "    (display (cdr x1))\n",
    "    (newline)\n",
    "    (display (car x2))\n",
    "    (display \", \")\n",
    "    (display (cdr x2))\n",
    "    )\n",
    "  )\n",
    "  "
   ]
  },
  {
   "cell_type": "markdown",
   "metadata": {},
   "source": [
    "## Exercise 2.6\n",
    "\n",
    "**In case representing pairs as procedures wasn’t mind-boggling enough, consider that, in a language that can manipulate procedures, we can get by without numbers (at least insofar as nonnegative integers are concerned) by implementing 0 and the operation of adding 1 as**\n",
    "```\n",
    "(define zero (lambda (f) (lambda (x) x)))\n",
    "(define (add-1 n)\n",
    "  (lambda (f) (lambda (x) (f ((n f) x)))))\n",
    "```  \n",
    "\n",
    "**This representation is known as _Church numerals_, after its inventor, Alonzo Church, the logician who invented the $\\lambda$-calculus.**\n",
    "\n",
    "**Define one and two directly (not in terms of `zero` and `add-1`). (Hint: Use substitution to evaluate `(add-1 zero)`). Give a direct definition of the addition procedure `+` (not in terms of repeated application of `add-1`).**"
   ]
  },
  {
   "cell_type": "markdown",
   "metadata": {},
   "source": [
    "We apply `add-1` to `zero` to evaluate `one` first. In the substitutions, primed variables (`x'`, `f'`) are used to avoid capturing a free variable of the same name.\n",
    "\n",
    "```\n",
    "(add-1 zero)\n",
    "(add-1 (lambda (f) (lambda (x) x)))\n",
    "(lambda (f) (lambda (x) (f (( (lambda (f') (lambda (x') x')) f) x)))))\n",
    "(lambda (f) (lambda (x) (f ((lambda (x') x') x))))\n",
    "(lambda (f) (lambda (x) (f x))) ; = one\n",
    "```\n",
    "\n",
    "Then, we can apply `add-1` to `one` to evaluate `two`:\n",
    "\n",
    "```\n",
    "(add-1 one)\n",
    "(add-1 (lambda (f) (lambda (x) (f x))))\n",
    "(lambda (f) (lambda (x) (f (((lambda (f') (lambda (x') (f' x'))) f) x))))\n",
    "(lambda (f) (lambda (x) (f (((lambda (x') (f x')) x))))\n",
    "(lambda (f) (lambda (x) (f (f x)))) ; = two\n",
    "```\n",
    "\n",
    "In plain English, the natural number $n$ is represented in Church numerals by a function that takes a function (say, $f$) as an argument, and returns a function that takes an argument (say, $x$) and returns the value that is the result of applying $f$ to $x$ $n$ times. Using this insight, the addition procedure can be defined as\n",
    "\n",
    "```\n",
    "(define + (lambda (m n) (lambda (f) (lambda (x) ((m f) (n f x))))))\n",
    "```\n",
    "\n",
    "The proof of this is below, in the notation of $\\lambda$-calculus. I have used $f^nx$ to mean the application of $f$ on $x$ repeated $n$ times, i.e $f(f(f...f(x)...))$. Let's define $m$ and $n$ as the following so we have to find an expression for $\\lambda{f}.\\lambda{x}.f^{m+n}x$ as our answer. (_Note that $m$ and $n$ are used in two senses in the equation, where perhaps different symbols would have been better. As a superscript of $f$, they mean the natural number itself, i.e. in the sense to mean repeated application that many times. As variables in the lambda expressions, they denote the Church numeral corresponding to the natural number._)\n",
    "\n",
    "$$\n",
    "\\begin{align}\n",
    "m &= \\lambda{f}.\\lambda{x}.f^mx\\\\\n",
    "n &= \\lambda{f}.\\lambda{x}.f^nx\\\\\n",
    "\\end{align}\n",
    "$$\n",
    "\n",
    "We need something like $f^mf^nx$ in the body of $m+n$. To achieve this, we will follow this strategy. a) Apply $m$ and $n$ on values to get rid of the bindings so we are just left with expressions containing free variabels, which will be a lot easier to manipulate. b) Massage the resulting expressions to get the function body we need, and c) Bind the right variables to obtain a function. To begin, let's apply $m$ to $g$.\n",
    "\n",
    "$$\n",
    "\\begin{align}\n",
    "mg &= (\\lambda{f}.\\lambda{x}.f^mx)g\\\\\n",
    "   &= \\lambda{x}.g^mx\n",
    "   \\end{align}\n",
    "   $$\n",
    "   \n",
    "Now, let's apply $n$ to $g$ and then to $z$.\n",
    "$$\n",
    "\\begin{align}\n",
    "ngz &= (\\lambda{f}.\\lambda{x}.f^nx)gz\\\\\n",
    "&= (\\lambda{x}.g^nx)z\\\\\n",
    "&= g^nz\n",
    "\\end{align}\n",
    "$$\n",
    "\n",
    "At a glance, it looks like we could get what we need if we a) replace $x$ in $g^mx$ with $g^nz$, b) abstract out $z$ as a parameter, then c) abstract out $g$. We do step a) and b) below, starting with applying $ngz = g^nz$ to $mg =  \\lambda{x}.g^mx$ and abstracting out $z$.\n",
    "\n",
    "$$\n",
    "\\begin{align}\n",
    "(mg)(ngz) &= (\\lambda{x}.g^mx)(g^nz)\\\\\n",
    "&= g^m(g^nz)\\\\\n",
    "\\lambda{z}.(mg)(ngz) &= \\lambda{z}.g^m(g^nz) = \\lambda{z}.g^{m+n}z\n",
    "\\end{align}\n",
    "$$\n",
    "\n",
    "Now, lets abstract out $g$ and we're almost done!\n",
    "\n",
    "$$\n",
    "\\lambda{g}.\\lambda{z}.(mg)(ngz) = \\lambda{g}.\\lambda{z}.g^m(h^nz)\n",
    "$$\n",
    "\n",
    "To make the notation more familiar, lets flip the equation and do $\\alpha$-substitution by replacing $g$ with $f$ and $z$ with $x$.\n",
    "\n",
    "$$\n",
    "\\lambda{f}.\\lambda{x}.f^{m+n}x = \\lambda{f}.\\lambda{x}.(mf)(nfx)\n",
    "$$\n",
    "\n",
    "To test that this actually works, we can try it out in Scheme. For that, we'll need a way to translate Church numerals to regular numbers as they are represented in Scheme. This is very simple:  just pass 0 as the $x$ and a function that returns its input incremented by one as the $f$."
   ]
  },
  {
   "cell_type": "code",
   "execution_count": 18,
   "metadata": {},
   "outputs": [],
   "source": [
    "(define (church-to-regular n)\n",
    "  (define (plus1 x) (+ x 1))\n",
    "  (display ((n plus1 ) 0))\n",
    "  (newline)\n",
    "  )"
   ]
  },
  {
   "cell_type": "markdown",
   "metadata": {},
   "source": [
    "Now we can move on to defining the church numeral for zero and a few other numbers, and the function `add-1`."
   ]
  },
  {
   "cell_type": "code",
   "execution_count": 19,
   "metadata": {},
   "outputs": [],
   "source": [
    "(define zero (lambda (f) (lambda (x) x)))\n",
    "(define (add-1 n)\n",
    "  (lambda (f) (lambda (x) (f ((n f) x)))))\n",
    "(define one (add-1 zero))\n",
    "(define two (add-1 one))\n",
    "(define three (add-1 two))\n",
    "(define four (add-1 three))\n",
    "(define five (add-1 four))\n"
   ]
  },
  {
   "cell_type": "markdown",
   "metadata": {},
   "source": [
    "We can test our addition function by defining it first, then testing it on the numbers declared above."
   ]
  },
  {
   "cell_type": "code",
   "execution_count": 20,
   "metadata": {},
   "outputs": [
    {
     "name": "stdout",
     "output_type": "stream",
     "text": [
      "0\n",
      "1\n"
     ]
    }
   ],
   "source": [
    "(define add (lambda (m n) (lambda (f) (lambda (x) ((m f) ((n f) x))))))\n",
    "(church-to-regular zero)\n",
    "(church-to-regular one)"
   ]
  },
  {
   "cell_type": "code",
   "execution_count": 21,
   "metadata": {
    "scrolled": true
   },
   "outputs": [
    {
     "name": "stdout",
     "output_type": "stream",
     "text": [
      "3\n",
      "2\n",
      "6\n"
     ]
    }
   ],
   "source": [
    "(church-to-regular (add one two))\n",
    "(church-to-regular (add zero two))\n",
    "(church-to-regular (add two four))"
   ]
  },
  {
   "cell_type": "markdown",
   "metadata": {},
   "source": [
    "The above demonstrate that the addition function really works with Church numerals."
   ]
  },
  {
   "cell_type": "markdown",
   "metadata": {},
   "source": [
    "## Exercise 2.7\n",
    "\n",
    "**Alyssa's program is incomplete because she has not specified the implementation of the interval abstraction. Here is a definition of the interval constructor:**"
   ]
  },
  {
   "cell_type": "code",
   "execution_count": 22,
   "metadata": {},
   "outputs": [],
   "source": [
    "(define (make-interval a b) (cons a b))"
   ]
  },
  {
   "cell_type": "markdown",
   "metadata": {},
   "source": [
    "**Define selectors `upper-bound` and `lower-bound` to complete the implementation.**"
   ]
  },
  {
   "cell_type": "markdown",
   "metadata": {},
   "source": [
    "Since the constructor was implemented as a pair, we can use `car` and `cdr` in the definitions of the selectors:"
   ]
  },
  {
   "cell_type": "code",
   "execution_count": 23,
   "metadata": {},
   "outputs": [],
   "source": [
    "(define (upper-bound interval) (cdr interval))\n",
    "(define (lower-bound interval) (car interval))"
   ]
  },
  {
   "cell_type": "markdown",
   "metadata": {},
   "source": [
    "*Note: Including some definitions here that given in the text but are not in the execution environment yet, and some that haven't been mentioned but will be useful.*"
   ]
  },
  {
   "cell_type": "code",
   "execution_count": 24,
   "metadata": {},
   "outputs": [],
   "source": [
    "(define (add-interval x y)\n",
    "  (make-interval (+ (lower-bound x) (lower-bound y))\n",
    "                 (+ (upper-bound x) (upper-bound y))))\n",
    "\n",
    "(define (mul-interval x y)\n",
    "  (let ((p1 (* (lower-bound x) (lower-bound y)))\n",
    "        (p2 (* (lower-bound x) (upper-bound y)))\n",
    "        (p3 (* (upper-bound x) (lower-bound y)))\n",
    "        (p4 (* (upper-bound x) (upper-bound y))))\n",
    "       (make-interval (min p1 p2 p3 p4)\n",
    "                      (max p1 p2 p3 p4))))\n",
    "\n",
    "(define (display-interval x)\n",
    "  (display \"(\")\n",
    "  (display (lower-bound x))\n",
    "  (display \", \")\n",
    "  (display (upper-bound x))\n",
    "  (display \")\")\n",
    "  (newline))"
   ]
  },
  {
   "cell_type": "markdown",
   "metadata": {},
   "source": [
    "## Exercise 2.8\n",
    "\n",
    "**Using reasoning analogous to Alyssa's, describe how the difference of two intervals may be computed. Define a corresponding subtraction procedure, called `sub-interval`**."
   ]
  },
  {
   "cell_type": "markdown",
   "metadata": {},
   "source": [
    "Using reasoning analogous to that used in the definition of `add-interval`, we can say that difference of two intervals can be computed as the interval made of lower and upper bounds which are the differences of the lower and upper bounds of the original intervals. That is,"
   ]
  },
  {
   "cell_type": "code",
   "execution_count": 25,
   "metadata": {},
   "outputs": [],
   "source": [
    "(define (sub-interval x y)\n",
    "  (make-interval (- (lower-bound x) (lower-bound y))\n",
    "                 (- (upper-bound x) (upper-bound y))))"
   ]
  },
  {
   "cell_type": "markdown",
   "metadata": {},
   "source": [
    "## Exercise 2.9\n",
    "\n",
    "**The _width_ of an interval is half of the difference between its upper and lower bounds. The width is a measure of the uncertainty of the number specified by the interval. For some arithmetic operations the width of the result of combining two intervals is a function only of the widths of the argument intervals, whereas for others the width of the combination is not a function of the widths of the argument intervals. Show that the width of the sum (or difference) of two intervals is a function of only the widths of the intervals being added (or subtracted). Give examples to show that this is not true for multiplication or division.**"
   ]
  },
  {
   "cell_type": "markdown",
   "metadata": {},
   "source": [
    "If $x$ is an interval, let $x_l$ be its lower bound and let $x_u$ be its upper bound. We could call $x_w = x_u - x_l$ the width of the interval. If $z = x + y$, then we know from the definition that $z_l = x_l + y_l$ and $z_u = x_u + y_u$. So, the width of $z$ is $z_w = (x_u + y_u) - (x_l + y_l) = (x_u - x_l) + (y_u - y_l) = x_w + y_w$. This means the width of the sum is the sum of the width of the two intervals. Similarly, if we substitute addition with subtraction, i.e. $z = x - y$, we get $z_w = (x_u - y_u) - (x_l - y_l) = (x_u - x_l) - (y_u - y_l) = x_w - y_w$. This means the width of the difference is the differnce of the widths of the two intervals.\n",
    "\n",
    "For multiplication, we can show that this is not true by taking two pairs of intervals with equal lenghts and multiplying them.\n",
    "\n",
    "Let $a = (0, 1)$ and $b = (1, 2)$. Their product is $ a \\dot b = (0, 2)$ according to the definition of multiplication. Now, take $c = (2,3)$ and compute the product $ b \\dot c$, which comes out to be $(2, 6)$. Since $a, b$ and $c$ all had a width of $1$, but since $a \\dot b$ and $b \\dot c$ have different widths, it is evident that the width of the product of intervals is not a function solely of the widths of the intervals being multiplied.\n",
    "\n",
    "Similarly, for division, the same set of intervals work as a counterexample. $\\frac{a}{b}$ turns out to be $(0,1)$, which has a width of 1, and $\\frac{b}{c}$ turns out to be $(\\frac{1}{3}, 1)$, which has a width of $\\frac{2}{3}$. Since $1 \\neq \\frac{2}{3}$, it is demonstrated that the width of the ratio of two intervals is not a function solely of the widths of the fractions being divided."
   ]
  },
  {
   "cell_type": "markdown",
   "metadata": {},
   "source": [
    "## Exercise 2.10\n",
    "\n",
    "**Ben Bitdiddle, an expert systems programmer, looks over Alyssa’s shoulder and comments that it is not clear what it means to divide by an interval that spans zero. Modify Alyssa’s code to check for this condition and to signal an error if it occurs.**"
   ]
  },
  {
   "cell_type": "markdown",
   "metadata": {},
   "source": [
    "By \"an interval that spans zero\", I assume that the question means to say an interval in which one (or both) of the bounds is zero, because it is the only interpretation that would lead to division not being defined.\n",
    "\n",
    "We can define `div-interval` in the following way to check for this:"
   ]
  },
  {
   "cell_type": "code",
   "execution_count": 26,
   "metadata": {},
   "outputs": [],
   "source": [
    "(define (div-interval x y)\n",
    "  (if (or (= (upper-bound y) 0) (= (lower-bound y) 0))\n",
    "    (error \"Cannot divide by an interval spanning zero!\")  \n",
    "    (mul-interval\n",
    "      x\n",
    "     (make-interval (/ 1.0 (upper-bound y))\n",
    "                    (/ 1.0 (lower-bound y))))))"
   ]
  },
  {
   "cell_type": "code",
   "execution_count": 27,
   "metadata": {},
   "outputs": [
    {
     "name": "stderr",
     "output_type": "stream",
     "text": [
      "Cannot divide by an interval spanning zero!\n",
      "  context...:\n",
      "   body of top-level\n"
     ]
    }
   ],
   "source": [
    "(div-interval (make-interval 1 2) (make-interval 0 1))"
   ]
  },
  {
   "cell_type": "code",
   "execution_count": 28,
   "metadata": {},
   "outputs": [
    {
     "name": "stdout",
     "output_type": "stream",
     "text": [
      "(1.0, 3.0)\n"
     ]
    }
   ],
   "source": [
    "(display-interval (div-interval (make-interval 3 2) (make-interval 2 1)))"
   ]
  },
  {
   "cell_type": "markdown",
   "metadata": {},
   "source": [
    "## Exercise 2.11\n",
    "\n",
    "**In passing, Ben also cryptically comments: \"By testing the signs of the endpoints of the intervals, it is possible to break mul-interval into nine cases, only one of which requires more than two multiplications.\" Rewrite this procedure using Ben’s suggestion.**\n",
    "\n",
    "\n"
   ]
  },
  {
   "cell_type": "markdown",
   "metadata": {},
   "source": [
    "There are three possible combinations for the signs of the ends of an interval: (-, -), (-, +) and (+, +), since (+, -) is not possible. This means we have $3^2 = 9$ possibilities for the sign combinations of the input. If we enumerate them and do some analysis as to what the maximum possible and minimum possible products of the components, are, we find that for all except one combination of the input signs, we already know which ends of the inputs to multiply to produce the output. The one combination that this doesn't work for is (-, +) and (-, +). If the intervals being multiplied are (a, b) and (c, d), then either $bc$ or $ad$ could be the lower bound of the interval and either $bd$ or $ac$ could be the upper bound of the interval, so four multiplications are required for this case. The following definition of `mul-interval-optimized` computes the product of two intervals in this optimized manner. "
   ]
  },
  {
   "cell_type": "markdown",
   "metadata": {},
   "source": [
    "(define (mul-interval-optimized x y)\n",
    "  (define a (lower-bound x))\n",
    "  (define b (upper-bound x))\n",
    "  (define c (lower-bound y))\n",
    "  (define d (upper-bound y))\n",
    "  (define (neg n) (< n 0))\n",
    "  (define (pos n) (>= n 0))\n",
    "  (cond ((and (pos a) (pos b) (pos c) (pos d)) (make-interval (* a c) (* b d)))\n",
    "        ((and (pos a) (pos b) (neg c) (pos d)) (make-interval (* b c) (* b d)))\n",
    "        ((and (pos a) (pos b) (neg c) (neg d)) (make-interval (* b d) (* a c)))\n",
    "        ((and (neg a) (neg b) (pos c) (pos d)) (make-interval (* a c) (* b c)))\n",
    "        ((and (neg a) (neg b) (neg c) (pos d)) (make-interval (* a d) (* a c)))\n",
    "        ((and (neg a) (neg b) (neg c) (neg d)) (make-interval (* a c) (* b d)))\n",
    "        ((and (neg a) (pos b) (pos c) (pos d)) (make-interval (* a d) (* b d)))\n",
    "        ((and (neg a) (pos b) (neg c) (neg d)) (make-interval (* b c) (* a c)))\n",
    "        ((and (neg a) (pos b) (neg c) (pos d)) (make-interval (min (* b c) (* a d))\n",
    "                                                              (max (* b d) (* a c))))\n",
    "        ))"
   ]
  },
  {
   "cell_type": "markdown",
   "metadata": {},
   "source": [
    "**After debugging her program, Alyssa shows it to a potential user, who complains that her program solves the wrong problem. He wants a program that can deal with numbers represented as a center value and an additive tolerance; for example, he wants to work with intervals such as 3.5 ± 0.15 rather than [3.35, 3.65]. Alyssa returns to her desk and fixes this problem by supplying an alternate constructor and alternate selectors:**\n",
    "\n"
   ]
  },
  {
   "cell_type": "code",
   "execution_count": 29,
   "metadata": {},
   "outputs": [],
   "source": [
    "(define (make-center-width c w)\n",
    "(make-interval (- c w) (+ c w)))\n",
    "(define (center i)\n",
    "(/ (+ (lower-bound i) (upper-bound i)) 2))\n",
    "(define (width i)\n",
    "(/ (- (upper-bound i) (lower-bound i)) 2))"
   ]
  },
  {
   "cell_type": "markdown",
   "metadata": {},
   "source": [
    "**Unfortunately, most of Alyssa’s users are engineers. Real engineering situations usually involve measurements with only a small uncertainty, measured as the ratio of the width of the interval to the midpoint of the interval. Engineers usually specify percentage tolerances on the parameters of devices, as in the resistor specifications given earlier.**"
   ]
  },
  {
   "cell_type": "markdown",
   "metadata": {},
   "source": [
    "## Exercise 2.12\n",
    "\n",
    "**Define a constructor `make-center-percent`\n",
    "that takes a center and a percentage tolerance and produces the desired interval. You must also define a selector\n",
    "`percent` that produces the percentage tolerance for a given\n",
    "interval. The `center` selector is the same as the one shown\n",
    "above.**"
   ]
  },
  {
   "cell_type": "code",
   "execution_count": 30,
   "metadata": {},
   "outputs": [],
   "source": [
    "(define (make-center-percent c p)\n",
    "  (define width (* c (/ p 100)))\n",
    "  (make-center-width c width))\n",
    "\n",
    "(define (percent i)\n",
    "  (define w (width i))\n",
    "  (* (/ w (center i)) 100)) "
   ]
  },
  {
   "cell_type": "markdown",
   "metadata": {},
   "source": [
    "## Exercise 2.13\n",
    "\n",
    "**Show that under the assumption of small\n",
    "percentage tolerances there is a simple formula for the approximate percentage tolerance of the product of two intervals in terms of the tolerances of the factors. You may\n",
    "simplify the problem by assuming that all numbers are positive.**"
   ]
  },
  {
   "cell_type": "markdown",
   "metadata": {},
   "source": [
    "Let $(a \\pm p\\%)$ and $(b \\pm q\\%)$ be two intervals we are trying to multiply. Since we are assuming all numbers are positive, $(a - p\\%)$ and $(b - q\\%)$, the lower ends of both intervals, will multiply to produce the smallest product. So, the lower end of the product is  $(a-p\\%)(b-q\\%)$ and correspondingly the upper is $(a+p\\%)(b+q\\%)$. Using absolute values instead of percentages, lets say $r=\\frac{pa}{100}$ and $s=\\frac{qb}{100}$. Then the lower bound of the product is\n",
    "\n",
    "$$\n",
    "\\begin{align}\n",
    "$(a-p\\%)(b-q\\%)$ &= (a-r)(b-s)\\\\\n",
    "&= ab - as -rb + rs\\\\\n",
    "&= ab - a\\frac{qb}{100} - \\frac{pa}{100}b + rs\\\\\n",
    "&= ab - (ab)\\frac{q + p}{100} = rs\\\\\n",
    "&\\approx ab - (ab)\\frac{q + p}{100}\n",
    "\\end{align}\n",
    "$$\n",
    "\n",
    "In the last step above, we ignore the $rs$ because we are assuming small percentage tolerances and the product of two small numbers less than one is an even smaller number.\n",
    "\n",
    "Similarly, the upper bound of the product will be\n",
    "\n",
    "$$\n",
    "ab + (ab)\\frac{q+p}{100}\n",
    "$$\n",
    "\n",
    "So, we can write the interval as $(ab - (p+q)\\%, ab+(p+q)\\%)$, or $ab \\pm (p+q)\\%$. This means the percentage tolerance of the product is the sum of the percentage tolerances of the intervals, which is indeed a simple formula."
   ]
  },
  {
   "cell_type": "markdown",
   "metadata": {},
   "source": [
    "**After considerable work, Alyssa P. Hacker delivers her finished system. Several years later, after she has forgotten all about it, she gets a frenzied call from an irate user, Lem E. Tweakit. It seems that Lem has noticed that the formula for parallel resistors can be written in two algebraically equivalent ways:**\n",
    "\n",
    "$$\n",
    "\\frac{R_1R_2}{R_1 + R_2}\n",
    "$$\n",
    "**and**\n",
    "$$\n",
    "\\frac{1}{1/R_1 + 1/R_2}\n",
    "$$\n",
    "\n",
    "**He has written the following two programs, each of which computes the parallel-resistors formula differently:**"
   ]
  },
  {
   "cell_type": "code",
   "execution_count": 31,
   "metadata": {},
   "outputs": [],
   "source": [
    "(define (par1 r1 r2)\n",
    "  (div-interval (mul-interval r1 r2)\n",
    "                (add-interval r1 r2)))\n",
    "\n",
    "(define (par2 r1 r2)\n",
    "  (let ((one (make-interval 1 1)))\n",
    "    (div-interval\n",
    "     one (add-interval (div-interval one r1)\n",
    "                       (div-interval one r2)))))"
   ]
  },
  {
   "cell_type": "markdown",
   "metadata": {},
   "source": [
    "**Lem complains that Alyssa’s program gives different answers for the two ways of computing. This is a serious complaint.**"
   ]
  },
  {
   "cell_type": "markdown",
   "metadata": {},
   "source": [
    "## Exercise 2.14\n",
    "\n",
    "**Demonstrate that Lem is right. Investigate\n",
    "the behavior of the system on a variety of arithmetic expressions. Make some intervals $A$ and $B$, and use them in\n",
    "computing the expressions $A/A$ and $A/B$. You will get the\n",
    "most insight by using intervals whose width is a small percentage of the center value. Examine the results of the computation in center-percent form (see Exercise 2.12).**"
   ]
  },
  {
   "cell_type": "code",
   "execution_count": 32,
   "metadata": {},
   "outputs": [
    {
     "name": "stdout",
     "output_type": "stream",
     "text": [
      "(0.4, 2.0)\n",
      "(0.6666666666666666, 1.2000000000000002)\n"
     ]
    }
   ],
   "source": [
    "(define i1 (make-interval 1 2))\n",
    "(define i2 (make-interval 2 3))\n",
    "\n",
    "(display-interval (par1 i1 i2))\n",
    "(display-interval (par2 i1 i2))\n"
   ]
  },
  {
   "cell_type": "markdown",
   "metadata": {},
   "source": [
    "The above demonstrates that Lem is right. The two intervals are clearly not the same. Lets make some intervals and compute their $A/A$ and $A/B$ as instructed by the question."
   ]
  },
  {
   "cell_type": "code",
   "execution_count": 33,
   "metadata": {},
   "outputs": [
    {
     "name": "stdout",
     "output_type": "stream",
     "text": [
      "(0.8333333333333333, 1.2000000000000002)\n",
      "(0.09090909090909091, 0.13333333333333333)\n",
      "(0.5, 2.0)\n"
     ]
    }
   ],
   "source": [
    "(define A (make-interval 10 12))\n",
    "(define B (make-interval 90 110))\n",
    "(define C (make-interval 1 2))\n",
    "(define D (make-interval 2 2))\n",
    "(define E (make-interval 1 100))\n",
    "\n",
    "(display-interval (div-interval A A))\n",
    "(display-interval (div-interval A B))\n",
    "(display-interval (div-interval C C))"
   ]
  },
  {
   "cell_type": "code",
   "execution_count": 34,
   "metadata": {},
   "outputs": [
    {
     "name": "stdout",
     "output_type": "stream",
     "text": [
      "(1.0, 1.0)\n",
      "(0.01, 100.0)\n",
      "(0.8181818181818181, 1.2222222222222223)\n"
     ]
    }
   ],
   "source": [
    "(display-interval (div-interval D D))\n",
    "(display-interval (div-interval E E))\n",
    "(display-interval (div-interval B B))"
   ]
  },
  {
   "cell_type": "code",
   "execution_count": 35,
   "metadata": {},
   "outputs": [
    {
     "name": "stdout",
     "output_type": "stream",
     "text": [
      "(0.5, 1.0)\n",
      "(45.0, 55.0)\n",
      "(45.0, 110.0)\n"
     ]
    }
   ],
   "source": [
    "(display-interval (div-interval C D))\n",
    "(display-interval (div-interval B D))\n",
    "(display-interval (div-interval B C))"
   ]
  },
  {
   "cell_type": "code",
   "execution_count": 36,
   "metadata": {},
   "outputs": [
    {
     "name": "stdout",
     "output_type": "stream",
     "text": [
      "(1.0, 2.0)\n",
      "(0.01818181818181818, 0.022222222222222223)\n"
     ]
    }
   ],
   "source": [
    "(display-interval (div-interval D C))\n",
    "(display-interval (div-interval D B))"
   ]
  },
  {
   "cell_type": "markdown",
   "metadata": {},
   "source": [
    "For expressions $A/A$, it clearly looks like the lower the percentage tolerance of $A$, the lower the percentage tolerance of $A/A$ will be. Also, it looks like the ends of the interval are always reciprocals of one another. So if we take the percentage tolerance higher, the ends of $A/A$, while always being reiprocal, keep going further from $[1,1]$.\n",
    "\n",
    "The $A/B$ expressions are interesting as well. Dividing by a zero-tolerance interval seems to have the same effect as dividing the ends of the interval by the corresponding real number. So the tolerance of $A$ is preserved.\n",
    "\n",
    "I think looking at these in the endpoint form makes it a lot harder to see the relationship, but it looks like if you divide intervals, the result is an interval with a midpoint that is the ratio of the midpoints of the two intervals and a tolerance that is about the sum of the intervals."
   ]
  },
  {
   "cell_type": "markdown",
   "metadata": {},
   "source": [
    "## Exercise 2.15\n",
    "**Eva Lu Ator, another user, has also noticed\n",
    "the different intervals computed by different but algebraically\n",
    "equivalent expressions. She says that a formula to compute\n",
    "with intervals using Alyssa’s system will produce tighter\n",
    "error bounds if it can be written in such a form that no variable that represents an uncertain number is repeated. Thus,\n",
    "she says, `par2` is a “better” program for parallel resistances\n",
    "than `par1`. Is she right? Why?**"
   ]
  },
  {
   "cell_type": "markdown",
   "metadata": {},
   "source": [
    "I think she is right. By taking the earlier example with `par1` and `par2`, we can observe that `par2` computed an answer with lower tolerance and with a midpoint closer to what the answer would have been if the tolerances were zero. This seems to be because multiplying and dividing two intervals seems to produce a result with their tolerances added (at least when the percentage tolerances are small), so it seems best to keep the interval-interval operations to minimum. "
   ]
  },
  {
   "cell_type": "markdown",
   "metadata": {},
   "source": [
    "## Exercise 2.16\n",
    "\n",
    "**Explain, in general, why equivalent algebraic expressions may lead to different answers. Can you devise an interval-arithmetic package that does not have this shortcoming, or is this task impossible? (Warning: This problem is very difficult.)**"
   ]
  },
  {
   "cell_type": "markdown",
   "metadata": {},
   "source": [
    "I am fairly certian this is not possible. Here's why. When we talk about 'equivalent algebraic expressions', we need a strict definition for what counts as an algebraic operation and what counts as algebraic. With regular real numbers, these are defined by the field axioms and the theorems resulting from it, since the real numbers are a field. When we take algebraic expressions that are often used with real numbers and say two of them are equivalent, it can only be extended to other fields, and in general not other types of algebraic structures. For example, matrices and matrix multiplication don't form a field, so many algebraic expressions are not even defined for them, let alone \"equivalent\" expressions producing equivalent results.\n",
    "\n",
    "So the question we must ask is, are intervals a field? I think they aren't. Some of the field axioms of interest are the existence of a multiplicative and additive identities and corresponding inverses. We can think of $[0, 0]$ as the additive identity and $[1,1]$ as the multiplicative one. The definition of the additive identity certainly fits with the definition of addition in the book. But the field axioms also state that each element that is not the additive identity must have a multiplicative inverse. Now, take $[a,b]$, whose \"inverse\" under our definition is $[1/b, 1/a]$. Multiplying them, we get $[a/b, b/a]$, which except in the special case of $a=b$ is not equal to our multiplicative identity.\n",
    "\n",
    "So under the given definitions of the operations on intervals, there can be no interval-arithmetic package that does not have this shortcoming."
   ]
  }
 ],
 "metadata": {
  "kernelspec": {
   "display_name": "Racket",
   "language": "racket",
   "name": "racket"
  },
  "language_info": {
   "codemirror_mode": "scheme",
   "file_extension": ".rkt",
   "mimetype": "text/x-racket",
   "name": "Racket",
   "pygments_lexer": "racket",
   "version": "8.7"
  }
 },
 "nbformat": 4,
 "nbformat_minor": 2
}
