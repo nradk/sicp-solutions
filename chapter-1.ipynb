{
 "cells": [
  {
   "cell_type": "markdown",
   "metadata": {},
   "source": [
    "# Chapter 1"
   ]
  },
  {
   "cell_type": "markdown",
   "metadata": {},
   "source": [
    "### Exercise 1.1"
   ]
  },
  {
   "cell_type": "markdown",
   "metadata": {},
   "source": [
    "**Below is a sequence of expressions. What is the result printed by the interpreter in response to each expression? Assume that the sequence is to be evaluated in the order in which it is presented.**"
   ]
  },
  {
   "cell_type": "markdown",
   "metadata": {},
   "source": [
    "```scheme\n",
    ">>> 10\n",
    "10\n",
    ">>> (+ 5 3 4)\n",
    "12\n",
    ">>> (- 9 1)\n",
    "8\n",
    ">>> (/ 6 2)\n",
    "3\n",
    ">>> (+ (* 2 4) (- 4 6))\n",
    "6\n",
    ">>> (define a 3)\n",
    ">>> (define b (+ a 1))\n",
    ">>> (+ a b (* a b))\n",
    "19\n",
    ">>> (= a b)\n",
    "F\n",
    ">>> (if (and (> b a) (< b (* a b)))\n",
    "        b\n",
    "        a)\n",
    "4\n",
    ">>> (cond ((= a 4) 6)\n",
    "          ((= b 4) (+ 6 7 a))\n",
    "          (else 25))\n",
    "16\n",
    ">>> (+ 2 (if (> b a) b a))\n",
    "6\n",
    ">>> (* (cond ((> a b) a)\n",
    "             ((< a b) b)\n",
    "             (else -1))\n",
    "       (+ a 1))\n",
    "16      \n",
    "```"
   ]
  },
  {
   "cell_type": "markdown",
   "metadata": {},
   "source": [
    "### Exercise 1.2"
   ]
  },
  {
   "cell_type": "markdown",
   "metadata": {},
   "source": [
    "**Translate the following expression into prefix form:**\n",
    "$$\\frac{5+4+(2-(3-(6+\\frac{4}{5})))}{3(6-2)(2-7)}$$"
   ]
  },
  {
   "cell_type": "markdown",
   "metadata": {},
   "source": [
    "```scheme\n",
    "(/ (+ 5 4 (- 2 (- 3 (+ 6 (/ 4 5)))))\n",
    "   (* 3 (- 6 2) (- 2 7)))\n",
    "\n",
    "```"
   ]
  },
  {
   "cell_type": "markdown",
   "metadata": {},
   "source": [
    "### Exercise 1.3"
   ]
  },
  {
   "cell_type": "markdown",
   "metadata": {},
   "source": [
    "**Define a procedure that takes three numbers\n",
    "as arguments and returns the sum of the squares of the two\n",
    "larger numbers.**"
   ]
  },
  {
   "cell_type": "code",
   "execution_count": 26,
   "metadata": {
    "scrolled": true
   },
   "outputs": [
    {
     "data": {
      "text/plain": [
       "25"
      ]
     },
     "execution_count": 26,
     "metadata": {},
     "output_type": "execute_result"
    }
   ],
   "source": [
    "(define (sum-squares a b)\n",
    "  (+ (* a a) (* b b)))\n",
    "(define (sum-squares-of-large-two a b c)\n",
    "  (cond ((and (< a b) (< a c)) (sum-squares b c))\n",
    "        ((and (< b a) (< b c)) (sum-squares a c))\n",
    "        (else (sum-squares a b))))\n",
    "(sum-squares-of-large-two 2 3 4)"
   ]
  },
  {
   "cell_type": "markdown",
   "metadata": {},
   "source": [
    "### Exercise 1.4"
   ]
  },
  {
   "cell_type": "markdown",
   "metadata": {},
   "source": [
    "**Observe that our model of evaluation allows\n",
    "for combinations whose operators are compound expressions.\n",
    "Use this observation to describe the behavior of the\n",
    "following procedure:**\n",
    "```scheme\n",
    "(define (a-plus-abs-b a b)\n",
    "((if (> b 0) + -) a b))\n",
    "```"
   ]
  },
  {
   "cell_type": "markdown",
   "metadata": {},
   "source": [
    "The procudure `a-plus-abs-b` performs the mathematical operation `a + |b|`. That is, it adds the absolute value of b to a. That is because the operator to apply to a and b is decided by the if-expression, which uses  + if b is greater than 0 and - otherwise."
   ]
  },
  {
   "cell_type": "markdown",
   "metadata": {},
   "source": [
    "### Exercise 1.5"
   ]
  },
  {
   "cell_type": "markdown",
   "metadata": {},
   "source": [
    "**Ben Bitdiddle has invented a test to determine whether the interpreter he is faced with is using applicative order evaluation or normal-order evaluation. He defines the following two procedures:**\n",
    "```scheme\n",
    "(define (p) (p))\n",
    "(define (test x y)\n",
    "(if (= x 0) 0 y))\n",
    "```\n",
    "**Then he evaluates the expression**\n",
    "```scheme\n",
    "(test 0 (p))\n",
    "```\n",
    "**What behavior will Ben observe with an interpreter that uses applicative-order evaluation? What behavior will he observe with an interpreter that uses normal-order evaluation? Explain your answer. (Assume that the evaluation rule for the special form if is the same whether the interpreter is using normal or applicative order: The predicate expression is evaluated first, and the result determines whether to evaluate the consequent or the alternative expression.)**"
   ]
  },
  {
   "cell_type": "markdown",
   "metadata": {},
   "source": [
    "In an applicative-order interpreter, the interpreter will get stuck trying to evaluate the expression. That is because an applicative-order evaluator will try to evaluate the arguments of `test` before substituting them into the definition. This means trying to evaluate `p`, which is infinitely recursive.\n",
    "\n",
    "In a normal-order interpreter, Ben will observe that the expression evaluates to 0. That is because the interpreter will first substitute the arguments of `test` into its definition and then evaluate the `if` expression in the definition. As the first parameter is 0, the if expression returns 0 without ever evaluating `p`."
   ]
  },
  {
   "cell_type": "markdown",
   "metadata": {},
   "source": [
    "### Exercise 1.6"
   ]
  },
  {
   "cell_type": "markdown",
   "metadata": {},
   "source": [
    "**Alyssa P. Hacker doesn’t see why `if` needs to be provided as a special form. “Why can’t I just define it as an ordinary procedure in terms of `cond`?” she asks. Alyssa’s friend Eva Lu Ator claims this can indeed be done, and she defines a new version of if:**\n",
    "```scheme\n",
    "(define (new-if predicate then-clause else-clause)\n",
    "(cond (predicate then-clause)\n",
    "(else else-clause)))\n",
    "```\n",
    "**Eva demonstrates the program for Alyssa:**\n",
    "```scheme\n",
    "(new-if (= 2 3) 0 5)\n",
    "5\n",
    "(new-if (= 1 1) 0 5)\n",
    "0\n",
    "```\n",
    "**Delighted, Alyssa uses `new-if` to rewrite the square-root\n",
    "program:**\n",
    "```scheme\n",
    "(define (sqrt-iter guess x)\n",
    "(new-if (good-enough? guess x)\n",
    "guess\n",
    "(sqrt-iter (improve guess x) x)))\n",
    "```\n",
    "**What happens when Alyssa attempts to use this to compute square roots? Explain.**"
   ]
  },
  {
   "cell_type": "markdown",
   "metadata": {},
   "source": [
    "When Alyssa atttempts to use this to compute square roots, the evalution gets stuck in infinite recursion. That is because `new-if` is a function instead of a special form, and that means in an applicative-order interpreter all of its arguments will be evaluated before they are substituted in the definition. In this case, the `new-if` call will need to evaluate `sqrt-iter` every time. This leads to infinite recursion with nowhere to stop."
   ]
  },
  {
   "cell_type": "markdown",
   "metadata": {},
   "source": [
    "### Exercise 1.7"
   ]
  },
  {
   "cell_type": "markdown",
   "metadata": {},
   "source": [
    "**The `good-enough?` test used in computing square roots will not be very effective for finding the square roots of very small numbers. Also, in real computers, arithmetic operations are almost always performed with limited precision. This makes our test inadequate for very large numbers. Explain these statements, with examples showing how the test fails for small and large numbers. An alternative strategy for implementing `good-enough?` is to watch how `guess` changes from one iteration to the next and to stop when the change is a very small fraction of the guess. Design a square-root procedure that uses this kind of end test. Does this work better for small and large numbers?**"
   ]
  },
  {
   "cell_type": "markdown",
   "metadata": {},
   "source": [
    "Our good-enough? test compares the square of the guess with our radicand and returns true if the difference is lower than a certain fixed value. $0.001$ is the value used in the text. This creates problems for very small numbers because within a few iterations, the guess will be smaller than or close to $0.001$, and that guess will be returned as the square root even though, compared to the actual square root, it is not very close. For example, the square root of $0.00000004$  is $0.0002$. But if a guess is 0.0008, which is eight times the actual square root, it will be good enough for our test becuase the difference is $0.0008 - 0.0002 = 0.0006 \\lt 0.001 $\n",
    "\n",
    "Also, our test is inadequate for very large numbers because arithmetic operations are almost always performed with limited precision. Floating point numbers are stored with a limited, fixed number of bits for the significant digits and a limited, fixed number of bits for the exponent. When a number gets really large, even changing the least significant bit on by one changes the number by a large difference. As a result, limited precision floating point numbers cannot represent a lot of the intermediate values between large numbers that it can represent. So, for large enough numbers, our computations may never produce guesses that are within $1$ of the true square root, let alone $0.001$ of the square root."
   ]
  },
  {
   "cell_type": "code",
   "execution_count": 27,
   "metadata": {},
   "outputs": [
    {
     "data": {
      "text/plain": [
       "0.08000000019530852"
      ]
     },
     "execution_count": 27,
     "metadata": {},
     "output_type": "execute_result"
    }
   ],
   "source": [
    "(define (average x y)\n",
    "  (/ (+ x y) 2))\n",
    "\n",
    "(define (square x) (* x x))\n",
    "\n",
    "(define (good-enough? oldGuess newGuess)\n",
    "  (< (abs (/ (- newGuess oldGuess) oldGuess)) 0.00001))\n",
    "\n",
    "(define (improve guess x)\n",
    "  (average guess (/ x guess)))\n",
    "\n",
    "(define (sqrt-iter guess x)\n",
    "  (if (good-enough? guess (improve guess x))\n",
    "      guess\n",
    "      (sqrt-iter (improve guess x) x)))\n",
    "\n",
    "(sqrt-iter 1.0 0.0064)"
   ]
  },
  {
   "cell_type": "code",
   "execution_count": 28,
   "metadata": {},
   "outputs": [
    {
     "data": {
      "text/plain": [
       "100.00000025490743"
      ]
     },
     "execution_count": 28,
     "metadata": {},
     "output_type": "execute_result"
    }
   ],
   "source": [
    "(sqrt-iter 1.0 10000)"
   ]
  },
  {
   "cell_type": "markdown",
   "metadata": {},
   "source": [
    "Yes, this square root procedure with the improved good-enough? test works much better for large and small numbers."
   ]
  },
  {
   "cell_type": "markdown",
   "metadata": {},
   "source": [
    "### Exercise 1.8"
   ]
  },
  {
   "cell_type": "markdown",
   "metadata": {},
   "source": [
    "**Newton’s method for cube roots is based on the fact that if $y$ is an approximation to the cube root of $x$, then a better approximation is given by the value**\n",
    "\n",
    "$$\\frac{x/y^2 + 2y}{3}$$\n",
    "\n",
    "**Use this formula to implement a cube-root procedure analogous to the square-root procedure.**"
   ]
  },
  {
   "cell_type": "code",
   "execution_count": 29,
   "metadata": {},
   "outputs": [
    {
     "data": {
      "text/plain": [
       "3.0000005410641766"
      ]
     },
     "execution_count": 29,
     "metadata": {},
     "output_type": "execute_result"
    }
   ],
   "source": [
    "(define (improve guess x)\n",
    "  (/ (+ (/ x (* guess guess)) (* 2 guess)) 3))\n",
    "\n",
    "(define (cbrt-iter guess x)\n",
    "  (if (good-enough? guess (improve guess x))\n",
    "      guess\n",
    "      (cbrt-iter (improve guess x) x)))\n",
    "(define (cbrt x) (cbrt-iter 1.0 x))\n",
    "\n",
    "(cbrt 27)"
   ]
  },
  {
   "cell_type": "markdown",
   "metadata": {},
   "source": [
    "### Exercise 1.9"
   ]
  },
  {
   "cell_type": "markdown",
   "metadata": {},
   "source": [
    "**Each of the following two procedures defines a method for adding two positive integers in terms of the procedures `inc`, which increments its argument by 1, and `dec`, which decrements its argument by 1.**\n",
    "\n",
    "```scheme\n",
    "(define (+ a b)\n",
    "(if (= a 0) b (inc (+ (dec a) b))))\n",
    "(define (+ a b)\n",
    "(if (= a 0) b (+ (dec a) (inc b))))\n",
    "```\n",
    "**Using the substitution model, illustrate the process generated by each procedure in evaluating `(+ 4 5)`. Are these processes iterative or recursive?**"
   ]
  },
  {
   "cell_type": "markdown",
   "metadata": {},
   "source": [
    "The first add procedure evolves the following process :\n",
    "```scheme\n",
    "(+ 4 5)\n",
    "(inc (+ 3 5))\n",
    "(inc (inc (+ 2 5)))\n",
    "(inc (inc (inc (+ 1 5))))\n",
    "(inc (inc (inc (inc (+ 0 5)))))\n",
    "(inc (inc (inc (inc 5))))\n",
    "(inc (inc (inc 6)))\n",
    "(inc (inc 7))\n",
    "(inc 8)\n",
    "9\n",
    "```\n",
    "This process is recursive, because the space required by the procedure grows and shrinks, and at it's highest the call stack goes as deep as the value of the first parameter.\n",
    "\n",
    "The second add procedure evolves the following process:\n",
    "```scheme\n",
    "(+ 4 5)\n",
    "(+ 3 6)\n",
    "(+ 2 7)\n",
    "(+ 1 8)\n",
    "(+ 0 9)\n",
    "9\n",
    "```\n",
    "This process is iterative, as the space required is constant throughout the life of the process."
   ]
  },
  {
   "cell_type": "markdown",
   "metadata": {},
   "source": [
    "### Exercise 1.10"
   ]
  },
  {
   "cell_type": "markdown",
   "metadata": {},
   "source": [
    "**The following procedure computes a mathematical function called Ackermann’s function.**"
   ]
  },
  {
   "cell_type": "code",
   "execution_count": 1,
   "metadata": {},
   "outputs": [],
   "source": [
    "(define (A x y)\n",
    "  (cond ((= y 0) 0)\n",
    "        ((= x 0) (* 2 y))\n",
    "        ((= y 1) 2)\n",
    "        (else (A (- x 1) (A x (- y 1))))))"
   ]
  },
  {
   "cell_type": "markdown",
   "metadata": {},
   "source": [
    "**What are the values of the following expressions?**\n",
    "```scheme\n",
    "(A 1 10)\n",
    "(A 2 4)\n",
    "(A 3 3)\n",
    "```\n",
    "**Consider the following procedures, where `A` is the procedure defined above:**\n",
    "```scheme\n",
    "(define (f n) (A 0 n))\n",
    "(define (g n) (A 1 n))\n",
    "(define (h n) (A 2 n))\n",
    "(define (k n) (* 5 n n))\n",
    "```\n",
    "**Give concise mathematical definitions for the functions computed by the procedures `f`, `g`, and `h` for positive integer values of *n*. For example, `(k n)` computes $5n^2$.**"
   ]
  },
  {
   "cell_type": "code",
   "execution_count": 2,
   "metadata": {},
   "outputs": [
    {
     "data": {
      "text/plain": [
       "1024"
      ]
     },
     "execution_count": 2,
     "metadata": {},
     "output_type": "execute_result"
    }
   ],
   "source": [
    "(A 1 10)"
   ]
  },
  {
   "cell_type": "code",
   "execution_count": 3,
   "metadata": {},
   "outputs": [
    {
     "data": {
      "text/plain": [
       "65536"
      ]
     },
     "execution_count": 3,
     "metadata": {},
     "output_type": "execute_result"
    }
   ],
   "source": [
    "(A 2 4)"
   ]
  },
  {
   "cell_type": "code",
   "execution_count": 4,
   "metadata": {},
   "outputs": [
    {
     "data": {
      "text/plain": [
       "65536"
      ]
     },
     "execution_count": 4,
     "metadata": {},
     "output_type": "execute_result"
    }
   ],
   "source": [
    "(A 3 3)"
   ]
  },
  {
   "cell_type": "markdown",
   "metadata": {},
   "source": [
    "For `(f n)`, the concise mathematical definition is obviously $2*n$, becasue the second `cond` clause defines `(A x y)` as `(* 2 y)` when `x` is 0.\n",
    "\n",
    "For `(g n)`, hand substitution on a few test values shows that the mathematical operation performed is exponentiation with base 2. That is, $2^n$\n",
    "\n",
    "For `(h n)`, similarly hand-substituting shows that it performs repeated exponentiation (tetration). So, the mathematical form is $2^{2^{2...^{2}}} (n\\ times)$"
   ]
  },
  {
   "cell_type": "markdown",
   "metadata": {},
   "source": [
    "Looking at the functions computed by `(A 0 y)`, `(A 1 y)`, `(A 2 y)`, etc, it appears that each function in the series repeatedly applies the previous one on itself `y` times. So they can be represented mathematically in Knuth's Up-Arrow notation:\n",
    "\n",
    "`(A 0 y)` $ = 2*y$ \n",
    "\n",
    "`(A 1 y)` $ = 2\\uparrow y$\n",
    "\n",
    "`(A 2 y)` $ = 2\\uparrow \\uparrow y$\n",
    "\n",
    "`(A x y)` $ = 2\\uparrow^x y$"
   ]
  },
  {
   "cell_type": "markdown",
   "metadata": {},
   "source": [
    "### Exercise 1.11"
   ]
  },
  {
   "cell_type": "markdown",
   "metadata": {},
   "source": [
    "**A function $f$ is defined by the rule that**\n",
    "\n",
    "$$\n",
    "f(n) = \n",
    "\\begin{cases}\n",
    "n & \\text{if} \\; n \\lt 3\\\\\n",
    "f(n-1) + 2 * f(n-2) + 3 * f(n-3) & \\text{if} \\; n \\ge 3\n",
    "\\end{cases}\n",
    "$$\n",
    "\n",
    "**Write a procedure that computes $f$ by means of a recursive process. Write a procedure that computes $f$ by means of an iterative process.**\n"
   ]
  },
  {
   "cell_type": "markdown",
   "metadata": {},
   "source": [
    "Here is a procedure that computes $f$ by means of a (tree) recursive process:"
   ]
  },
  {
   "cell_type": "code",
   "execution_count": 11,
   "metadata": {},
   "outputs": [],
   "source": [
    "(define (f n)\n",
    "  (if (< n 3) n (+ (f (- n 1)) (* 2 (f (- n 2))) (* 3 (f (- n 3))))))"
   ]
  },
  {
   "cell_type": "code",
   "execution_count": 13,
   "metadata": {},
   "outputs": [
    {
     "data": {
      "text/plain": [
       "1892"
      ]
     },
     "execution_count": 13,
     "metadata": {},
     "output_type": "execute_result"
    }
   ],
   "source": [
    "(f 10)"
   ]
  },
  {
   "cell_type": "markdown",
   "metadata": {},
   "source": [
    "Here is a procedure that computes $f$ by means of an iterative process:"
   ]
  },
  {
   "cell_type": "code",
   "execution_count": 13,
   "metadata": {},
   "outputs": [],
   "source": [
    "(define (f-iter a b c nn) \n",
    "  (cond ((= nn 2) a)\n",
    "        ((= nn 1) b)\n",
    "        ((= nn 0) c)\n",
    "        (else (f-iter (+ a (* 2 b) (* 3 c)) a b (- nn 1)))))\n",
    "(define (f n) (f-iter 2 1 0 n))"
   ]
  },
  {
   "cell_type": "code",
   "execution_count": 14,
   "metadata": {},
   "outputs": [
    {
     "data": {
      "text/plain": [
       "1892"
      ]
     },
     "execution_count": 14,
     "metadata": {},
     "output_type": "execute_result"
    }
   ],
   "source": [
    "(f 10)"
   ]
  },
  {
   "cell_type": "markdown",
   "metadata": {},
   "source": [
    "### Exercise 1.12"
   ]
  },
  {
   "cell_type": "markdown",
   "metadata": {},
   "source": [
    "**The following pattern of numbers is called *Pascal's triangle.***\n",
    "\n",
    "$$\n",
    "\\quad\\quad\\quad\\quad1\\quad\\quad\\quad\\quad\\\\\n",
    "\\quad\\quad\\quad1\\quad1\\quad\\quad\\quad\\\\\n",
    "\\quad\\quad1\\quad2\\quad1\\quad\\quad\\\\\n",
    "\\quad1\\quad3\\quad3\\quad1\\quad\\\\\n",
    "1\\quad4\\quad6\\quad4\\quad1\\\\\n",
    "\\quad\\quad\\quad.\\;.\\;.\\quad\\quad\\quad\\\\\n",
    "$$\n",
    "\n",
    "**The numbers at the edge of the triangle are all 1, and each number inside the triangle is the sum of the two numbers above it. Write a procedure that computes elements of Pascal's triangle by means of a recursive process.**"
   ]
  },
  {
   "cell_type": "code",
   "execution_count": 9,
   "metadata": {},
   "outputs": [],
   "source": [
    "(define (pascal m n)\n",
    "  (cond ((= m n) 1)\n",
    "        ((= n 0) 1)\n",
    "        (else (+ (pascal (- m 1) n) (pascal (- m 1) (- n 1))))))"
   ]
  },
  {
   "cell_type": "code",
   "execution_count": 12,
   "metadata": {},
   "outputs": [
    {
     "data": {
      "text/plain": [
       "6"
      ]
     },
     "execution_count": 12,
     "metadata": {},
     "output_type": "execute_result"
    }
   ],
   "source": [
    "(pascal 4 2)"
   ]
  },
  {
   "cell_type": "markdown",
   "metadata": {},
   "source": [
    "### Exercise 1.13"
   ]
  },
  {
   "cell_type": "markdown",
   "metadata": {},
   "source": [
    "**Prove that $Fib(n)$ is the closest integer to $\\varphi^n / \\sqrt{5}$, where $\\varphi = (1 + \\sqrt(5)) / 2$. Hint: Let $\\psi = (1 - \\sqrt{5}) / 2$. Use induction and the definition of the Fibonacci numbers to prove that $Fib(n) = (\\varphi^n - \\psi^n) / \\sqrt{5}$.**"
   ]
  },
  {
   "cell_type": "markdown",
   "metadata": {},
   "source": [
    "First, note that $\\varphi^{n+2} = \\varphi^{n+1} + \\varphi^n$ and that $\\varphi + \\psi = 1$. These can be easily proved by using the definitions of $\\varphi$ and $\\psi$.\n",
    "\n",
    "We have $Fib(0) = 0$ and $Fib(1) = 1$. So the value of $Fib(n)$ is equal to the value of Fibonacci sequence for $n = 0$ and $1$. To use mathematical induction, let us suppose that for all natural numbers up to $n+1$, $Fib(n+1)$ is equal to the $(n+1)^{th}$ fibonacci number. We will show that in that case, $Fib(n+2)$ equals the $(n+2)^{th}$ fibonacci number.\n",
    "\n",
    "$$\n",
    "\\begin{align}\n",
    "Fib(n) + Fib(n+1) &= \\frac{\\varphi^n - \\psi^n}{\\sqrt{5}} + \\frac{\\varphi^{n+1} - \\psi^{n+1}}{\\sqrt{5}}\\\\\n",
    "\\sqrt{5}(Fib(n) + Fib(n+1)) &= (\\varphi^n - \\psi^n) + (\\varphi^{n+1} - \\psi^{n+1})\\\\\n",
    "&= (\\varphi-\\psi)(\\varphi^{n-1} + \\varphi^{n-2}\\psi + ... + \\varphi\\psi^{n-2} + \\psi^{n-1}) + (\\varphi-\\psi)(\\varphi^n + \\varphi^{n-1}\\psi + ... + \\varphi\\psi^{n-1} + \\psi^n)\\\\\n",
    "&= (\\varphi-\\psi) ((\\varphi^{n-1} + \\varphi^n) + \\psi (\\varphi^{n-2} + \\varphi^{n-1}) + ... + \\psi^{n-1} (\\varphi+1) + \\psi^n)\\\\\n",
    "&= (\\varphi-\\psi) (\\varphi^{n+1} + \\psi\\varphi^n + ... + \\psi^{n-1}\\varphi^2 + \\psi^n)\\\\\n",
    "&= (\\varphi-\\psi) (\\varphi^{n+1} + \\psi\\varphi^n + ... + \\psi^{n-1}\\varphi^2 + \\psi^n(\\varphi + \\psi))\\\\\n",
    "&= (\\varphi-\\psi) (\\varphi^{n+1} + \\psi\\varphi^n + ... + \\psi^{n-1}\\varphi^2 + \\psi^n\\varphi + \\psi^{n+1}))\\\\\n",
    "&= (\\varphi^{n+2} - \\psi^{n+2})\\\\\n",
    "Fib(n) + Fib(n+1) &= \\frac{\\varphi^{n+2} - \\psi^{n+2}}{\\sqrt{5}}\\\\\n",
    "Fib(n) + Fib(n+1) &= Fib(n+2)\n",
    "\\end{align}\n",
    "$$\n",
    "\n",
    "We have proved that $Fib(n+2)$ equals the $(n+2)^{th}$ fibonacci number. By the principle of mathematical induction, $Fib(n)$ equals the $n^{th}$ fibonacci number for all  $n \\ge 0$.\n",
    "\n",
    "Now, observe that $|\\psi/\\sqrt{5}| \\lt 0.5$. So, $|\\psi^n/\\sqrt{5}| \\lt 0.5$ for all natural $n \\gt 0$. We have $Fib(n) = \\varphi^n / \\sqrt{5} - \\psi^n / \\sqrt{5}$. As $Fib(n)$ is an integer, when the second term is is negative, the non-integer parts of the two terms add up. As the non-integer part of any number cannot be greater than $1$ and that of the second term cannot be greater than $0.5$, they must add up to $1$. Because the second term is less than $0.5$, the first term must be greater. Hence, the closest integer to the first term is also the value of $Fib(n)$. When the second term is positive, their non-integer parts subtract. To make the result an integer, they have to be equal. As the second term cannot be greater than $0.5$. the non-integer part of the first term cannot be greater than $0.5$ too. Hence, the closest integer to the first term is also the value of $Fib(n)$."
   ]
  },
  {
   "cell_type": "markdown",
   "metadata": {},
   "source": [
    "### Exercise 1.14"
   ]
  },
  {
   "cell_type": "markdown",
   "metadata": {},
   "source": [
    "**Draw the tree illustrating the process generated by the `count-change` procedure of Section 1.2.2 in making change for 11 cents. What are the orders of growth of space and number of steps used by this process as the amount to be changed increases?**"
   ]
  },
  {
   "cell_type": "markdown",
   "metadata": {},
   "source": [
    "Here is an image depicting the tree generated by the process. Repeated executions with the same input have been merged in the tree below to keep the size manageable.\n",
    "\n",
    "<img src=\"aux/tree-draw/tree.png\"/>\n",
    "\n",
    "The order of growth of the space used by this process is $\\Theta(m+n)$ where $m$ is the amount and $n$ is the number of coins. This is because the maximum depth of the tree reaches $\\frac{m}{d_0} + n$ where $d_0$ is the smallest denomination. \n",
    "\n",
    "*Note: As for the order of growth of steps used by the process, I couldn't find of a straightforward way to calculate it. I read somewhere that you need to use generating functions to solve the recurrence, and I'll update the answer after I study them and find an answer. There were a few answers on the internet but none of them felt convincing or rigorous.*"
   ]
  },
  {
   "cell_type": "markdown",
   "metadata": {},
   "source": [
    "### Exercise 1.15"
   ]
  },
  {
   "cell_type": "markdown",
   "metadata": {},
   "source": [
    "**The sine of an angle (specified in radians) can be computed by making use of the approximation $\\sin{x} \\approx x$ if $x$ is sufficiently small, and the trigonometric identity**\n",
    "\n",
    "$$\n",
    "\\sin{x} = 3\\sin{\\frac{x}{3}} - 4\\sin^3{\\frac{x}{3}}\n",
    "$$\n",
    "\n",
    "**to reduce the size of the argument of sin. (For purposes of this exercise an angle is considered \"sufficiently small\" if its magnitude is not greater than 0.1 radians.) These ideas are incorporated in the following procedures:**\n",
    "\n",
    "```scheme\n",
    "(define (cube x) (* x x x))\n",
    "(define (p x) (- (* 3 x) (* 4 (cube x))))\n",
    "(define (sine angle)\n",
    "  (if (not (> (abs angle) 0.1))\n",
    "      angle\n",
    "      (p (sine (/ angle 3.0)))))\n",
    "```\n",
    "\n",
    "**a. How many times is the procedure `p` applied when `(sine 12.15)` is evaluated?**\n",
    "\n",
    "**b. What is the order of growth in space and number of steps (as a function of $a$) used by the processs generated by the `sine` procedure when `(sine a)` is evaluated?**"
   ]
  },
  {
   "cell_type": "markdown",
   "metadata": {},
   "source": [
    "a. When `(sine 12.15)` is evaluated, the procedure `p` is applied 5 times. That is because `p` is applied on every application of `sine` when the argument has an absolute value smaller than $0.1$. Since it takes 5 divisions by 3 for $12.15$ to reach such a value ($0.5$), `p` is applied 5 times. \n",
    "\n",
    "b. `sine` is a linear recursive process. Both the space and number of steps required is proportional to the number of times the argument $a$ can be divided by $3$ until the absolute value is less than or equal to $0.1$. That is, $\\lceil\\log_3{\\frac{|a|}{0.1}}\\rceil$. As an order of growth in big-oh notation, we can write this as simply $\\mathcal{O}(\\log{|a|})$. This is the order of growth of both the space and the number of steps."
   ]
  },
  {
   "cell_type": "markdown",
   "metadata": {},
   "source": [
    "### Exercise 1.16"
   ]
  },
  {
   "cell_type": "markdown",
   "metadata": {},
   "source": [
    "**Design a procedure that evolves an iterative exponentiation process that uses successive squaring and uses a logarithmic number of steps, as does fast-expt. (Hint: Using the observation that $(b^{n/2})^2 = (b^2)^{n/2}$, keep, along with the exponent $n$ and the base $b$, an additional state variable $a$, and define the state transformation in such a way that the product $ab^n$ is unchanged from state to state. At the beginning of the process $a$ is taken to be $1$, and the answer is given by the value of a at the end of the process. In general, the technique of defining an invariant quantity that remains unchanged from state to state is a powerful way to think about the design of iterative algorithms.)**"
   ]
  },
  {
   "cell_type": "markdown",
   "metadata": {},
   "source": [
    "I came up with a solution that doesn't have the properties described in the hint but it's a little shorter."
   ]
  },
  {
   "cell_type": "code",
   "execution_count": 2,
   "metadata": {},
   "outputs": [
    {
     "data": {
      "text/plain": [
       "244140625"
      ]
     },
     "execution_count": 2,
     "metadata": {},
     "output_type": "execute_result"
    }
   ],
   "source": [
    "(define (odd? n) (= (remainder n 2) 1))\n",
    "(define (exp-iter b n a) (if (= n 0) a (exp-iter (* b b) (quotient n 2) (if (odd? n) (* a b) a))))\n",
    "(define (exp b n) (exp-iter b n 1))\n",
    "\n",
    "(exp 5 12)"
   ]
  }
 ],
 "metadata": {
  "kernelspec": {
   "display_name": "Calysto Scheme 3",
   "language": "scheme",
   "name": "calysto_scheme"
  },
  "language_info": {
   "codemirror_mode": {
    "name": "scheme"
   },
   "mimetype": "text/x-scheme",
   "name": "scheme",
   "pygments_lexer": "scheme"
  }
 },
 "nbformat": 4,
 "nbformat_minor": 2
}
