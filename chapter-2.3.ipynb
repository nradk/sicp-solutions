{
 "cells": [
  {
   "cell_type": "markdown",
   "id": "2026a40b",
   "metadata": {},
   "source": [
    "## Exercise 2.53\n",
    "**What would the interpreter print in response\n",
    "to evaluating each of the following expressions?**\n",
    "\n",
    "**`(list 'a 'b 'c)`**\n",
    "\n",
    "**`(list (list 'george'))`**\n",
    "\n",
    "**`(cdr '((x1 x2) (y1 y2)))`**\n",
    "\n",
    "**`(cadr '((x1 x2) (y1 y2)))`**\n",
    "\n",
    "**`(pair? (car '(a short list)))`**\n",
    "\n",
    "**`(memq 'red '((red shoes) (blue socks)))`**\n",
    "\n",
    "**`(memq 'red '(red shoes blue socks))`**"
   ]
  },
  {
   "cell_type": "markdown",
   "id": "ebad9ccd",
   "metadata": {},
   "source": [
    "The interpreter would print, respectively:\n",
    "\n",
    "`(a b c)`\n",
    "\n",
    "`((george))`\n",
    "\n",
    "`((y1 y2))`\n",
    "\n",
    "`(y1 y2)`\n",
    "\n",
    "`#f`\n",
    "\n",
    "`#f`\n",
    "\n",
    "`(red shoes blue socks)`"
   ]
  },
  {
   "cell_type": "markdown",
   "id": "c5b5392a",
   "metadata": {},
   "source": [
    "## Exercise 2.54\n",
    "**Two lists are said to be `equal?` if they contain equal elements arranged in the\n",
    "same order. For example,**\n",
    "```\n",
    "(equal? '(this is a list) '(this is a list))\n",
    "```\n",
    "**is true, but**\n",
    "```\n",
    "(equal? '(this is a list) '(this (is a) list))\n",
    "```\n",
    "**is false. To be more precise, we can define `equal?` recursively in terms of\n",
    "the basic `eq?` equality of symbols by saying that `a` and `b` are `equal?` if\n",
    "they are both symbols and the symbols are `eq?`, or if they are both lists\n",
    "such that `(car a)` is `equal?` to `(car b)` and `(cdr a)` is `equal?` to `(cdr b)`.\n",
    "Using this idea, implement `equal?` as a procedure.**"
   ]
  },
  {
   "cell_type": "code",
   "execution_count": 1,
   "id": "d88137a6",
   "metadata": {},
   "outputs": [
    {
     "data": {
      "text/html": [
       "<code>#t</code>"
      ],
      "text/plain": [
       "#t"
      ]
     },
     "execution_count": 1,
     "metadata": {},
     "output_type": "execute_result"
    }
   ],
   "source": [
    "(define (equal? first second)\n",
    "  (cond ((not (or (pair? first) (pair? second))) (eq? first second))\n",
    "        ((and (pair? first) (pair? second)) (and (equal? (car first) (car second))\n",
    "                                                  (equal? (cdr first) (cdr second))))\n",
    "        (else #f)))\n",
    "\n",
    "(equal? '(this is a list) '(this is a list))"
   ]
  },
  {
   "cell_type": "code",
   "execution_count": 2,
   "id": "087bfcb3",
   "metadata": {},
   "outputs": [
    {
     "data": {
      "text/html": [
       "<code>#f</code>"
      ],
      "text/plain": [
       "#f"
      ]
     },
     "execution_count": 2,
     "metadata": {},
     "output_type": "execute_result"
    }
   ],
   "source": [
    "(equal? '(this is a list) '(this (is a) list))"
   ]
  },
  {
   "cell_type": "markdown",
   "id": "9b67407e",
   "metadata": {},
   "source": [
    "## Exercise 2.55\n",
    "**Eva Lu Ator types to the interpreter the expression**\n",
    "```\n",
    "(car ''abracadabra)\n",
    "```\n",
    "**To her surprise, the interpreter prints bakck `quote`. Explain.**"
   ]
  },
  {
   "cell_type": "markdown",
   "id": "fcb7367f",
   "metadata": {},
   "source": [
    "It seems that the sub-expression `''abracadabra` is being parsed as a quoted list of the two symbols that follow the first quote, i.e. a list comprising a quote symbol and the symbol 'abracadabra'. So, the `car` of the list is a `quote` and the `cdr` is `'(abracadabra)`."
   ]
  },
  {
   "cell_type": "markdown",
   "id": "2fa56522",
   "metadata": {},
   "source": [
    "## Exercise 2.56\n",
    "**Show how to extend the basic differentiator to handle more kinds of\n",
    "expressions. For instance, implement the differentiation rule**\n",
    "$$\n",
    "\\frac{d(u^n)}{dx} = nu^{n-1}\\frac{du}{dx}\n",
    "$$\n",
    "**by adding a new clause to the `deriv` program and defining\n",
    "appropriate procedures `exponentiation?`, `base`, `exponent`,\n",
    "and `make-exponentiation`. (You may use the symbol `**`\n",
    "to denote exponentiation.) Build in the rules that anything\n",
    "raised to the power 0 is 1 and anything raised to the power\n",
    "1 is the thing itself.**\n"
   ]
  },
  {
   "cell_type": "markdown",
   "id": "6144a2b4",
   "metadata": {},
   "source": [
    "First, we need to bring over the definitions from the text to use later."
   ]
  },
  {
   "cell_type": "code",
   "execution_count": 3,
   "id": "9348f4ab",
   "metadata": {},
   "outputs": [],
   "source": [
    "(define (variable? x) (symbol? x))\n",
    "\n",
    "(define (same-variable? v1 v2)\n",
    "  (and (variable? v1) (variable? v2) (eq? v1 v2)))\n",
    "\n",
    "(define (make-sum a1 a2) (list '+ a1 a2))\n",
    "\n",
    "(define (make-product m1 m2) (list '* m1 m2))\n",
    "\n",
    "(define (sum? x) (and (pair? x) (eq? (car x) '+)))\n",
    "\n",
    "(define (addend s) (cadr s))\n",
    "\n",
    "(define (augend s) (caddr s))\n",
    "\n",
    "(define (product? x) (and (pair? x) (eq? (car x) '*)))\n",
    "\n",
    "(define (multiplier p) (cadr p))\n",
    "\n",
    "(define (multiplicand p) (caddr p))\n",
    "  \n",
    "(define (make-sum a1 a2) \n",
    "  (cond ((=number? a1 0) a2)\n",
    "        ((=number? a2 0) a1)\n",
    "        ((and (number? a1) (number? a2))\n",
    "         (+ a1 a2))\n",
    "        (else (list '+ a1 a2))))\n",
    "\n",
    "(define (=number? exp num) (and (number? exp) (= exp num)))\n",
    "\n",
    "(define (make-product m1 m2)\n",
    "  (cond ((or (=number? m1 0) (=number? m2 0)) 0)\n",
    "        ((=number? m1 1) m2)\n",
    "        ((=number? m2 1) m1)\n",
    "        ((and (number? m1) (number? m2)) (* m1 m2))\n",
    "        (else (list '* m1 m2))))"
   ]
  },
  {
   "cell_type": "markdown",
   "id": "beeddb39",
   "metadata": {},
   "source": [
    "Then we will need constructors and selectors for exponentiation:"
   ]
  },
  {
   "cell_type": "code",
   "execution_count": 4,
   "id": "7399c24d",
   "metadata": {},
   "outputs": [],
   "source": [
    "(define (make-exponentiation base exponent)\n",
    "  (cond ((=number? base 0) 0)\n",
    "        ((=number? base 1) 1)\n",
    "        ((=number? exponent 0) 1)\n",
    "        ((=number? exponent 1) base)\n",
    "        ((and (number? base) (number? exponent)) (exp base exponent))\n",
    "        (else (list '** base exponent))))\n",
    "\n",
    "(define (base expr) (cadr expr))\n",
    "(define (exponent expr) (caddr expr))\n",
    "(define (exponentiation? expr) (eq? '** (car expr)))"
   ]
  },
  {
   "cell_type": "markdown",
   "id": "ea8f1418",
   "metadata": {},
   "source": [
    "Now we can update the definition of `deriv` to include a rule for exponents:"
   ]
  },
  {
   "cell_type": "code",
   "execution_count": 5,
   "id": "7ede28c5",
   "metadata": {},
   "outputs": [],
   "source": [
    "(define (deriv exp var)\n",
    "  (cond ((number? exp) 0)\n",
    "        ((variable? exp) (if (same-variable? exp var) 1 0))\n",
    "        ((sum? exp) (make-sum (deriv (addend exp) var)\n",
    "                              (deriv (augend exp) var)))\n",
    "        ((product? exp)\n",
    "         (make-sum\n",
    "           (make-product (multiplier exp)\n",
    "                         (deriv (multiplicand exp) var))\n",
    "           (make-product (deriv (multiplier exp) var)\n",
    "                         (multiplicand exp))))\n",
    "        ((exponentiation? exp)\n",
    "         (make-product (make-product (exponent exp)\n",
    "                                     (make-exponentiation (base exp) (make-sum (exponent exp) -1)))\n",
    "                       (deriv (base exp) var)))\n",
    "        (else\n",
    "          (error \"unknown expression type: DERIV\" exp))))"
   ]
  },
  {
   "cell_type": "markdown",
   "id": "e5f69828",
   "metadata": {},
   "source": [
    "It can now be used to differentiate exponentiated expressions, like:"
   ]
  },
  {
   "cell_type": "code",
   "execution_count": 6,
   "id": "deac19e0",
   "metadata": {},
   "outputs": [
    {
     "data": {
      "text/html": [
       "<code>'(* 4 (** x 3))</code>"
      ],
      "text/plain": [
       "'(* 4 (** x 3))"
      ]
     },
     "execution_count": 6,
     "metadata": {},
     "output_type": "execute_result"
    }
   ],
   "source": [
    "(deriv '(** x 4) 'x)"
   ]
  },
  {
   "cell_type": "markdown",
   "id": "024cf16a",
   "metadata": {},
   "source": [
    "## Exericse 2.57\n",
    "**Extend the differentiation program to handle sums and products of arbitrary numbers of (two or more)\n",
    "terms. Then the last example above could be expressed as**\n",
    "```\n",
    "(deriv '(* x y (+ x 3)) 'x)\n",
    "```\n",
    "**Try to do this by changing only the representation for sums\n",
    "and products, without changing the `deriv` procedure at all.\n",
    "For example, the `addend` of a sum would be the first term,\n",
    "and the `augend would be the sum of the rest of the terms.**\n"
   ]
  },
  {
   "cell_type": "code",
   "execution_count": 7,
   "id": "144ec8df",
   "metadata": {},
   "outputs": [],
   "source": [
    "; Takes a list of the addends as the sole argument\n",
    "(define (make-sum-from-list a)\n",
    "  (define numbers-sum (foldl + 0 (filter number? a)))\n",
    "  (define non-numbers (filter (lambda (x) (not (number? x))) a))\n",
    "  (cond ((= (length a) 1) (car a))\n",
    "        ((= (length non-numbers) 0) numbers-sum)\n",
    "        ((= numbers-sum 0) (if (= (length non-numbers) 1)\n",
    "                               (car non-numbers)\n",
    "                               (cons '+ non-numbers)))\n",
    "        (else (append (list '+ numbers-sum) non-numbers))))\n",
    "\n",
    "; Takes each addend as a separate argument\n",
    "(define (make-sum . a)\n",
    "  (make-sum-from-list a))\n",
    "\n",
    "(define (addend sum) (cadr sum))\n",
    "(define (augend sum) (make-sum-from-list (cddr sum)))\n",
    "\n",
    "; Takes a list of the multipliers as the sole argument\n",
    "(define (make-product-from-list p)\n",
    "  (define numbers-product (foldl * 1 (filter number? p)))\n",
    "  (define non-numbers (filter (lambda (x) (not (number? x))) p))\n",
    "  (cond ((= 0 numbers-product) 0)\n",
    "        ((= 0 (length non-numbers)) numbers-product)\n",
    "        ((= 1 (length p)) (car p))\n",
    "        ((= 1 numbers-product) (if (= 1 (length non-numbers))\n",
    "                                   (car non-numbers)\n",
    "                                   (cons '* non-numbers)))\n",
    "        (else (append (list '* numbers-product) non-numbers))))\n",
    "\n",
    "; Takes each multiplier as a separate argument\n",
    "(define (make-product . p)\n",
    "  (make-product-from-list p))\n",
    "\n",
    "(define (multiplier p) (cadr p))\n",
    "(define (multiplicand p) (make-product-from-list (cddr p)))"
   ]
  },
  {
   "cell_type": "markdown",
   "id": "80d67762",
   "metadata": {},
   "source": [
    "Now we can compute derivatives of expressions like the one given in the question:"
   ]
  },
  {
   "cell_type": "code",
   "execution_count": 8,
   "id": "c7a3e334",
   "metadata": {},
   "outputs": [
    {
     "data": {
      "text/html": [
       "<code>'(+ (* x y) (* y (+ x 3)))</code>"
      ],
      "text/plain": [
       "'(+ (* x y) (* y (+ x 3)))"
      ]
     },
     "execution_count": 8,
     "metadata": {},
     "output_type": "execute_result"
    }
   ],
   "source": [
    "(deriv '(* x y (+ x 3)) 'x)"
   ]
  },
  {
   "cell_type": "markdown",
   "id": "284dd5b3",
   "metadata": {},
   "source": [
    "## Exercise 2.58\n",
    "**Suppose we want to modify the differentiation program so that it works with ordinary mathematical\n",
    "notation, in which `+` and `*` are infix rather than prefix operators. Since the\n",
    "differentiation program is defined in terms of abstract data, we can modify it\n",
    "to work with different representations of expressions solely by changing the predicates,\n",
    "selectors, and constructors that define the representation of the algebraic\n",
    "expressions on which the differentiator is to\n",
    "operate.**\n",
    "\n",
    "a. **Show how to do this in order to differentiate algebraic expressions presented\n",
    "   in infix form, such as `(x + (3 * (x + (y + 2))))`. To simplify the task, assume that\n",
    "   `+` and `*` always take two arguments and that expressions are fully parenthesized.**\n",
    "\n",
    "b. **The problem becomes substantially harder if we allow\n",
    "   standard algebraic notation, such as `(x + 3 * (x + y + 2))`, which drops\n",
    "   unnecessary parentheses and assumes that multiplication is done before addition.\n",
    "   Can you design appropriate predicates, selectors, and\n",
    "   constructors for this notation such that our derivative\n",
    "   program still works?**\n",
    "                        "
   ]
  },
  {
   "cell_type": "markdown",
   "id": "4912b11a",
   "metadata": {},
   "source": [
    "a. This case is quite easy, in fact it is simpler than Exercise 2.57 because each operator here will have only two operands. We just need to make a few changes:"
   ]
  },
  {
   "cell_type": "code",
   "execution_count": 9,
   "id": "1057d73d",
   "metadata": {},
   "outputs": [
    {
     "data": {
      "text/html": [
       "<code>'(1 + ((3 * (1 + (0 + 0))) + (0 * (x + (y + 2)))))</code>"
      ],
      "text/plain": [
       "'(1 + ((3 * (1 + (0 + 0))) + (0 * (x + (y + 2)))))"
      ]
     },
     "execution_count": 9,
     "metadata": {},
     "output_type": "execute_result"
    }
   ],
   "source": [
    "; First, to sum? and product? so that we check the second element in the list to find the operator\n",
    "(define (sum? x) (and (pair? x) (eq? (cadr x) '+)))\n",
    "(define (product? x) (and (pair? x) (eq? (cadr x) '*)))\n",
    "\n",
    "; Then, we alter make-sum and make-product\n",
    "(define (make-sum a1 a2) (list a1 '+ a2))\n",
    "(define (make-product m1 m2) (list m1 '* m2))\n",
    "\n",
    "; And update the accessors so they access the correct element\n",
    "(define (addend s) (car s))\n",
    "(define (augend s) (caddr s))\n",
    "(define (multiplier p) (car p))\n",
    "(define (multiplicand p) (caddr p))\n",
    "\n",
    "; With all that done, we can now differentiate infix expressions:\n",
    "(deriv '(x + (3 * (x + (y + 2)))) 'x)"
   ]
  },
  {
   "cell_type": "markdown",
   "id": "cdb32064",
   "metadata": {},
   "source": [
    "The above expression is not in the simplest form, but evaluates to 4, which is the correct answer. With some modifications to the constructors, we can enable simplification as well:"
   ]
  },
  {
   "cell_type": "code",
   "execution_count": 10,
   "id": "cd7933d3",
   "metadata": {},
   "outputs": [
    {
     "data": {
      "text/html": [
       "<code>4</code>"
      ],
      "text/plain": [
       "4"
      ]
     },
     "execution_count": 10,
     "metadata": {},
     "output_type": "execute_result"
    }
   ],
   "source": [
    "; These are the same definitions as in Exercise 2.56, but with the order of the operator altered.\n",
    "(define (make-sum a1 a2) \n",
    "  (cond ((=number? a1 0) a2)\n",
    "        ((=number? a2 0) a1)\n",
    "        ((and (number? a1) (number? a2))\n",
    "         (+ a1 a2))\n",
    "        (else (list a1 '+ a2))))\n",
    "\n",
    "(define (=number? exp num) (and (number? exp) (= exp num)))\n",
    "\n",
    "(define (make-product m1 m2)\n",
    "  (cond ((or (=number? m1 0) (=number? m2 0)) 0)\n",
    "        ((=number? m1 1) m2)\n",
    "        ((=number? m2 1) m1)\n",
    "        ((and (number? m1) (number? m2)) (* m1 m2))\n",
    "        (else (list m1 '* m2))))\n",
    "\n",
    "(deriv '(x + (3 * (x + (y + 2)))) 'x)"
   ]
  },
  {
   "cell_type": "markdown",
   "id": "b876937a",
   "metadata": {},
   "source": [
    "b. This case is much more difficult. It akin to writing a parser for algebraic expressions, but with the benefit that the lexing has been already done and the parsing for parentheses has already been done."
   ]
  },
  {
   "cell_type": "code",
   "execution_count": 11,
   "id": "5dd27a93",
   "metadata": {},
   "outputs": [],
   "source": [
    "(define (push l i)\n",
    "  (append l (list i)))\n",
    "\n",
    "(define (parse expr)\n",
    "  (define (parse-mul-iter rem partial)\n",
    "    (cond ((= 1 (length rem)) (make-product-from-list (push partial (parse (car rem)))))\n",
    "          ((eq? '* (cadr rem)) (parse-mul-iter (cddr rem) (push partial (parse (car rem)))))\n",
    "          ((eq? '+ (cadr rem)) (parse-sum-iter (cddr rem)\n",
    "                                               (list (make-product-from-list (push partial (car rem))))))))\n",
    "  (define (parse-sum-iter rem partial)\n",
    "    (cond ((= 1 (length rem)) (make-sum-from-list (push partial (parse (car rem)))))\n",
    "          ((eq? '+ (cadr rem)) (parse-sum-iter (cddr rem) (push partial (parse (car rem)))))\n",
    "          ((eq? '* (cadr rem)) (make-sum-from-list (push partial (parse-mul-iter rem '()))))))\n",
    "  (cond ((number? expr) expr)\n",
    "        ((symbol? expr) expr)\n",
    "        (else (parse-sum-iter expr '()))))\n",
    "\n",
    "; We also need to update definitions of constructors and accessors to be compatible with the list-based format\n",
    "; These are just copied from Exercise 2.57\n",
    "(define (make-sum . a)\n",
    "  (make-sum-from-list a))\n",
    "(define (addend sum) (cadr sum))\n",
    "(define (augend sum) (make-sum-from-list (cddr sum)))\n",
    "\n",
    "(define (make-product . p)\n",
    "  (make-product-from-list p))\n",
    "(define (multiplier p) (cadr p))\n",
    "(define (multiplicand p) (make-product-from-list (cddr p)))\n",
    "\n",
    "(define (sum? x) (and (pair? x) (eq? (car x) '+)))\n",
    "(define (product? x) (and (pair? x) (eq? (car x) '*)))\n",
    "\n"
   ]
  },
  {
   "cell_type": "markdown",
   "id": "836055e4",
   "metadata": {},
   "source": [
    "With `parse` defined to bring standard algebraic notation into a format our procedures understand, we can now run `deriv` on these expressions:"
   ]
  },
  {
   "cell_type": "code",
   "execution_count": 12,
   "id": "240c9c7b",
   "metadata": {},
   "outputs": [
    {
     "data": {
      "text/html": [
       "<code>4</code>"
      ],
      "text/plain": [
       "4"
      ]
     },
     "execution_count": 12,
     "metadata": {},
     "output_type": "execute_result"
    }
   ],
   "source": [
    "(deriv (parse '(x + 3 * (x + y + 2))) 'x)"
   ]
  },
  {
   "cell_type": "markdown",
   "id": "c488c0e2",
   "metadata": {},
   "source": [
    "## Exercise 2.59\n",
    "**Implement the `union-set` operation for the unordered-list representation of sets.**"
   ]
  },
  {
   "cell_type": "code",
   "execution_count": 13,
   "id": "3bd219b3",
   "metadata": {},
   "outputs": [],
   "source": [
    "; First we bring definitions from the books for later use\n",
    "(define (element-of-set? x set)\n",
    "  (cond ((null? set) #f)\n",
    "        ((equal? x (car set)) #t)\n",
    "        (else (element-of-set? x (cdr set)))))\n",
    "\n",
    "(define (adjoin-set x set)\n",
    "  (if (element-of-set? x set)\n",
    "      set\n",
    "      (cons x set)))\n",
    "\n",
    "(define (intersection-set set1 set2)\n",
    "  (cond ((or (null? set1) (null? set2)) '())\n",
    "        ((element-of-set? (car set1) set2)\n",
    "         (cons (car set1) (intersection-set (cdr set1) set2)))\n",
    "        (else (intersection-set (cdr set1) set2))))"
   ]
  },
  {
   "cell_type": "code",
   "execution_count": 14,
   "id": "0cb573d5",
   "metadata": {},
   "outputs": [
    {
     "data": {
      "text/html": [
       "<code>'(1 2 3 4)</code>"
      ],
      "text/plain": [
       "'(1 2 3 4)"
      ]
     },
     "execution_count": 14,
     "metadata": {},
     "output_type": "execute_result"
    }
   ],
   "source": [
    "(define (union-set set1 set2)\n",
    "  (cond ((null? set1) set2)\n",
    "        ((element-of-set? (car set1) set2) (union-set (cdr set1) set2))\n",
    "        (else (union-set (cdr set1) (adjoin-set (car set1) set2)))))\n",
    "\n",
    "(union-set (list 1 2 3) (list 2 3 4))"
   ]
  },
  {
   "cell_type": "markdown",
   "id": "5f68d652",
   "metadata": {},
   "source": [
    "## Exercise 2.60\n",
    "**We specified that a set would be represented\n",
    "as a list with no duplicates. Now suppose we allow duplicates. For instance, the set $\\{1, 2, 3\\}$ could be represented as\n",
    "the list `(2 3 2 1 3 2 2)`. Design procedures `element-of-set?`, `adjoin-set`, `union-set`, and `intersection-set`\n",
    "that operate on this representation. How does the efficiency\n",
    "of each compare with the corresponding procedure for the \n",
    "non-duplicate representation? Are there applications for which\n",
    "you would use this representation in preference to the non-duplicate one?**"
   ]
  },
  {
   "cell_type": "code",
   "execution_count": 15,
   "id": "5d43a5c7",
   "metadata": {},
   "outputs": [],
   "source": [
    "; We can leave element-of-set? unchanged, as allowing duplicates\n",
    "; does not make a difference in its operation.\n",
    "\n",
    "; For adjoin-set, we can cons the item to the set without checking if it is already there\n",
    "(define (adjoin-set x set)\n",
    "  (cons x set))\n",
    "\n",
    "; Likewise for union-set, we can append the two lists without caring for if any common elements exist\\\n",
    "(define (union-set set1 set2)\n",
    "  (append set1 set2))\n",
    "\n",
    "; We can also leave the implementation of intersection-set unchanged, as it should work ok\n",
    "; for lists with repeated elements."
   ]
  },
  {
   "cell_type": "markdown",
   "id": "174445b8",
   "metadata": {},
   "source": [
    "The efficiency of `element-of-set?` and `intersection-set` does not change in the new representation with respect to the number of items in the lists we are using to represent the sets, as we are not changing these functions. However, the number of items in the list will no longer be necessarily equal to the number of items in the represented set. The initial set construction and applications of `adjoin-set` and `union-set` could have increased the number of items in the list by a lot even when the set has only a few elements. However, making the assumption that this effect isn't significant, the efficiency of `element-of-set?` and `intersection-set` remains the same, that is $\\Theta(n)$ and $\\Theta(n^2)$ respectively.\n",
    "\n",
    "However, `adjoin-set` and `union-set` are now fast due to the simplifications we made. `adjoin-set` uses a single `cons` operation, which makes it a $\\Theta(1)$ function. `union-set` uses one `append` operation, so it is a $\\Theta(n)$ function, where $n$ is the number of items in the first set. This is because `append` has to walk the first list in its entirety to find the end where it can attach the second list.\n",
    "\n",
    "I would use this representation of sets in applications where storage is aplenty and a lot of `adjoin-set` operations and `union-set` operations are needed compared to the other two operations. "
   ]
  },
  {
   "cell_type": "markdown",
   "id": "51321a77",
   "metadata": {},
   "source": [
    "## Exercise 2.61\n",
    "**Give an implementation of `adjoin-set` using the ordered representation. By analogy with\n",
    "`element-of-set?` show how to take advantage of the ordering to\n",
    "produce a procedure that requires on the average about half\n",
    "as many steps as with the unordered representation.**"
   ]
  },
  {
   "cell_type": "code",
   "execution_count": 16,
   "id": "03120919",
   "metadata": {},
   "outputs": [
    {
     "data": {
      "text/html": [
       "<code>'(1 2 4 5 8 16)</code>"
      ],
      "text/plain": [
       "'(1 2 4 5 8 16)"
      ]
     },
     "execution_count": 16,
     "metadata": {},
     "output_type": "execute_result"
    }
   ],
   "source": [
    "; Again, bringing over some definitions from the book for this representation\n",
    "(define (element-of-set? x set)\n",
    "  (cond ((null? set) false)\n",
    "        ((= x (car set)) true)\n",
    "        ((< x (car set)) false)\n",
    "        (else (element-of-set? x (cdr set)))))\n",
    "\n",
    "(define (intersection-set set1 set2)\n",
    "  (if (or (null? set1) (null? set2))\n",
    "      '()\n",
    "      (let ((x1 (car set1)) (x2 (car set2)))\n",
    "        (cond ((= x1 x2)\n",
    "               (cons x1 (intersection-set (cdr set1)\n",
    "                                          (cdr set2))))\n",
    "              ((< x1 x2)\n",
    "               (intersection-set (cdr set1) set2))\n",
    "              ((< x2 x1)\n",
    "               (intersection-set set1 (cdr set2)))))))\n",
    "\n",
    "(define (adjoin-set x set)\n",
    "  (cond ((null? set) (list x))\n",
    "        ((= x (car set)) set)\n",
    "        ((< x (car set)) (cons x set))\n",
    "        (else (cons (car set) (adjoin-set x (cdr set))))))\n",
    "\n",
    "(adjoin-set 5 (list 1 2 4 8 16))"
   ]
  },
  {
   "cell_type": "markdown",
   "id": "c80f7316",
   "metadata": {},
   "source": [
    "The above implementation of `adjoin-set` takes advantage of the ordering to reduce the average running time to about half compared to the previous representation. This is because it, starting from the beginning, looks for the element that is greater than `x`, and when it finds one, the search ends there. (It does take additional steps to `cons` up the elements after that point has been found, so I am not *certain* the running time will be about half.)"
   ]
  },
  {
   "cell_type": "markdown",
   "id": "201c675e",
   "metadata": {},
   "source": [
    "## Exercise 2.62\n",
    "**Give a $\\Theta(n)$ implementation of `union-set` for sets represented as ordered lists.**"
   ]
  },
  {
   "cell_type": "code",
   "execution_count": 17,
   "id": "06164dbb",
   "metadata": {},
   "outputs": [
    {
     "data": {
      "text/html": [
       "<code>'(99 100 101 102 103)</code>"
      ],
      "text/plain": [
       "'(99 100 101 102 103)"
      ]
     },
     "execution_count": 17,
     "metadata": {},
     "output_type": "execute_result"
    }
   ],
   "source": [
    "(define (union-set set1 set2)\n",
    "  (cond ((null? set1) set2)\n",
    "        ((null? set2) set1)\n",
    "        (else (let ((x1 (car set1)) (x2 (car set2)))\n",
    "                (cond ((= x1 x2) (cons x1 (union-set (cdr set1) (cdr set2))))\n",
    "                      ((< x1 x2) (cons x1 (union-set (cdr set1) set2)))\n",
    "                      ((> x1 x2) (cons x2 (union-set set1 (cdr set2)))))))))\n",
    "\n",
    "(union-set (list 101 102 103) (list 99 100))"
   ]
  },
  {
   "cell_type": "markdown",
   "id": "e5b6eff7",
   "metadata": {},
   "source": [
    "The above implementation of `union-set` runs in $\\Theta(n)$ time because in each step, it makes a recursive call, reducing the size of one or both of the input sets by one element. In the worst case, it will take $2n$ recursive steps, where $n$ is the number of elements in each set. Since $2n$ is still $\\Theta(n)$, this implementation of `union-set` is $\\Theta(n)$."
   ]
  },
  {
   "cell_type": "markdown",
   "id": "763e92c2",
   "metadata": {},
   "source": [
    "## Exercise 2.63\n",
    "**Each of the following two procedures converts a binary tree to a list.**\n",
    "```\n",
    "(define (tree->list-1 tree)\n",
    "  (if (null? tree)\n",
    "    '()\n",
    "    (append (tree->list-1 (left-branch tree))\n",
    "            (cons (entry tree)\n",
    "                  (tree->list-1\n",
    "                    (right-branch tree))))))\n",
    "(define (tree->list-2 tree)\n",
    "  (define (copy-to-list tree result-list)\n",
    "    (if (null? tree)\n",
    "        result-list\n",
    "        (copy-to-list (left-branch tree)\n",
    "                      (cons (entry tree)\n",
    "                            (copy-to-list\n",
    "                              (right-branch tree)\n",
    "                              result-list)))))\n",
    "  (copy-to-list tree '()))\n",
    "```\n",
    "**a. Do the two procedures produce the same result for\n",
    "every tree? If not, how do the results differ? What lists do the two procedures produce for the trees in Figure 2.16?**\n",
    "\n",
    "**b. Do the two procedures have the same order of growth\n",
    "in the number of steps required to convert a balanced\n",
    "tree with $n$ elements to a list? If not, which one grows\n",
    "more slowly?**"
   ]
  },
  {
   "cell_type": "markdown",
   "id": "7dc94122",
   "metadata": {},
   "source": [
    "a. Yes, the two procedures produce the same result for every tree. This is becasue the they follow the same pattern of converting the right subtree into a list, 'cons'ing it after the root, and 'cons'ing the result after the result of converting the left subtree into a list. This produces a list that corresponds to what is called an 'inorder' walk of the tree.\n",
    "\n",
    "b. The two procedures have the same order of growth in the number of steps. This is because at each step, both of them apply the same operation recursively to the left subtree and the right subtree. This leads to a running time that is on the order of $\\Theta(n)$ where $n$ is the number of items in the tree. However, if we take into account the fact that `append`-ing is not a one-step operation, this changes. Since `append` can take as many steps as the length of the first argument, the running time of the first function grows as $nlog_2(n)$."
   ]
  },
  {
   "cell_type": "markdown",
   "id": "cd3831de",
   "metadata": {},
   "source": [
    "## Exercise 2.64\n",
    "**The following procedure `list->tree` converts an ordered list to a balanced\n",
    "binary tree. The helper procedure `partial-tree` takes as arguments an integer\n",
    "$n$ and list of at least $n$ elements and constructs a balanced\n",
    "tree containing the first $n$ elements of the list. The result\n",
    "returned by `partial-tree` is a pair (formed with `cons`) whose\n",
    "`car` is the constructed tree and whose `cdr` is the list of ele-\n",
    "ments not included in the tree.**\n",
    "\n",
    "```\n",
    "(define (list->tree elements)\n",
    "  (car (partial-tree elements (length elements))))\n",
    "(define (partial-tree elts n)\n",
    "  (if (= n 0)\n",
    "    (cons '() elts)\n",
    "    (let ((left-size (quotient (- n 1) 2)))\n",
    "      (let ((left-result\n",
    "              (partial-tree elts left-size)))\n",
    "        (let ((left-tree (car left-result))\n",
    "              (non-left-elts (cdr left-result))\n",
    "              (right-size (- n (+ left-size 1))))\n",
    "          (let ((this-entry (car non-left-elts))\n",
    "                (right-result\n",
    "                  (partial-tree\n",
    "                    (cdr non-left-elts)\n",
    "                    right-size)))\n",
    "            (let ((right-tree (car right-result))\n",
    "                  (remaining-elts\n",
    "                    (cdr right-result)))\n",
    "              (cons (make-tree this-entry\n",
    "                               left-tree\n",
    "                               right-tree)\n",
    "                    remaining-elts))))))))\n",
    "```\n",
    "\n",
    "**a. Write a short paragraph explaining as clearly as you can how `partial-tree`\n",
    "works. Draw the tree produced\n",
    "by `list->tree` for the list `(1 3 5 7 9 11)`.**\n",
    "\n",
    "**b. What is the order of growth in the number of steps required by `list->tree`\n",
    "to convert a list of $n$ elements?**"
   ]
  },
  {
   "cell_type": "markdown",
   "id": "3fab9a32",
   "metadata": {},
   "source": [
    "a. `partial-tree` works in a divide-and-conquer fashion by splitting the tree in (roughly) half at every step. First it take the left half of the list, and recursively applies itself to convert it into a tree. Then, since the function returns the 'unused' elements if the argument $n$ is less than the size of the list of elements it's given, it uses those leftover elements in this fashion: the first element is used to make the root of the tree (since it is roughly halfway between the ends of the list), and the right sub-tree is made by recursively calling itself on the `cdr` of the remaining elements.\n",
    "\n",
    "b. The asymptotic order of growth is $\\Theta(n)$. This is obtained by solving the recurrence relation $T(n) = 2T(n/2) + 1$, since every step, the function calls itself twice on smaller inputs roughly half the size of $n$, and also performs a constant number of steps."
   ]
  },
  {
   "cell_type": "markdown",
   "id": "b204dabe",
   "metadata": {},
   "source": [
    "## Exercise 2.65\n",
    "**Use the results of Exercise 2.63 and Exercise 2.64 to give $\\Theta(n)$ implementations of `union-set` and `intersection-set` for sets implemented as (balanced) binary trees.**"
   ]
  },
  {
   "cell_type": "code",
   "execution_count": 18,
   "id": "bb5c2c99",
   "metadata": {},
   "outputs": [
    {
     "data": {
      "text/html": [
       "<code>'(1 2 3 4 5 6)</code>"
      ],
      "text/plain": [
       "'(1 2 3 4 5 6)"
      ]
     },
     "execution_count": 18,
     "metadata": {},
     "output_type": "execute_result"
    }
   ],
   "source": [
    "; Let's first bring over definitions we need\n",
    "(define (list->tree elements)\n",
    "  (car (partial-tree elements (length elements))))\n",
    "(define (partial-tree elts n)\n",
    "  (if (= n 0)\n",
    "    (cons '() elts)\n",
    "    (let ((left-size (quotient (- n 1) 2)))\n",
    "      (let ((left-result\n",
    "              (partial-tree elts left-size)))\n",
    "        (let ((left-tree (car left-result))\n",
    "              (non-left-elts (cdr left-result))\n",
    "              (right-size (- n (+ left-size 1))))\n",
    "          (let ((this-entry (car non-left-elts))\n",
    "                (right-result\n",
    "                  (partial-tree\n",
    "                    (cdr non-left-elts)\n",
    "                    right-size)))\n",
    "            (let ((right-tree (car right-result))\n",
    "                  (remaining-elts\n",
    "                    (cdr right-result)))\n",
    "              (cons (make-tree this-entry\n",
    "                               left-tree\n",
    "                               right-tree)\n",
    "                    remaining-elts))))))))\n",
    "\n",
    "; Renaming tree->list2 to tree->list\n",
    "(define (tree->list tree)\n",
    "  (define (copy-to-list tree result-list)\n",
    "    (if (null? tree)\n",
    "        result-list\n",
    "        (copy-to-list (left-branch tree)\n",
    "                      (cons (entry tree)\n",
    "                            (copy-to-list\n",
    "                              (right-branch tree)\n",
    "                              result-list)))))\n",
    "  (copy-to-list tree '()))\n",
    "\n",
    "(define (left-branch tree) (car tree))\n",
    "(define (right-branch tree) (caddr tree))\n",
    "(define (entry tree) (cadr tree))\n",
    "(define (make-tree entry left-tree right-tree) (list left-tree entry right-tree))\n",
    "\n",
    "; We will call the previous O(n) definition of union-set that worked on the\n",
    "; ordered list representation of sets \"union-set-list\"\n",
    "(define (union-set-list set1 set2)\n",
    "  (cond ((null? set1) set2)\n",
    "        ((null? set2) set1)\n",
    "        (else (let ((x1 (car set1)) (x2 (car set2)))\n",
    "                (cond ((= x1 x2) (cons x1 (union-set-list (cdr set1) (cdr set2))))\n",
    "                      ((< x1 x2) (cons x1 (union-set-list (cdr set1) set2)))\n",
    "                      ((> x1 x2) (cons x2 (union-set-list set1 (cdr set2)))))))))\n",
    "; We'll use a similar naming scheme for intersection as well\n",
    "(define (intersection-set-list set1 set2)\n",
    "  (if (or (null? set1) (null? set2))\n",
    "      '()\n",
    "      (let ((x1 (car set1)) (x2 (car set2)))\n",
    "        (cond ((= x1 x2)\n",
    "               (cons x1 (intersection-set-list (cdr set1)\n",
    "                                          (cdr set2))))\n",
    "              ((< x1 x2)\n",
    "               (intersection-set-list (cdr set1) set2))\n",
    "              ((< x2 x1)\n",
    "               (intersection-set-list set1 (cdr set2)))))))\n",
    "\n",
    "; Now the definition of union-set and intersection-set is simple:\n",
    "(define (union-set set1 set2)\n",
    "  (define sl1 (tree->list set1))\n",
    "  (define sl2 (tree->list set2))\n",
    "  (define slu (union-set-list sl1 sl2))\n",
    "  (list->tree slu))\n",
    "\n",
    "(define (intersection-set set1 set2)\n",
    "  (define sl1 (tree->list set1))\n",
    "  (define sl2 (tree->list set2))\n",
    "  (define sli (intersection-set-list sl1 sl2))\n",
    "  (list->tree sli))\n",
    "\n",
    "; We can try out these functions on examples\n",
    "(tree->list (union-set (list->tree '(1 2 5 6)) (list->tree '(1 2 3 4))))"
   ]
  },
  {
   "cell_type": "markdown",
   "id": "61ba2be6",
   "metadata": {},
   "source": [
    "## Exercise 2.66\n",
    "**Implement the `lookup` procedure for the case where the set of records is structured as a binary tree, ordered by the numerical values of the keys.**"
   ]
  },
  {
   "cell_type": "code",
   "execution_count": 19,
   "id": "f6c90243",
   "metadata": {},
   "outputs": [],
   "source": [
    "(define (lookup given-key set-of-records)\n",
    "  (cond ((null? set-of-records) #f)\n",
    "        ((equal? given-key (key (entry set-of-records))) (key (entry set-of-records)))\n",
    "        ((< given-key (key (entry set-of-records))) (lookup given-key (left-branch set-of-records)))\n",
    "        (else (lookup given-key (right-branch set-of-records)))))"
   ]
  },
  {
   "cell_type": "markdown",
   "id": "e7a3216e",
   "metadata": {},
   "source": [
    "To test the above function, we will use a trivial implementation where the whole record is the key:"
   ]
  },
  {
   "cell_type": "code",
   "execution_count": 20,
   "id": "e29d575b",
   "metadata": {},
   "outputs": [
    {
     "data": {
      "text/html": [
       "<code>3</code>"
      ],
      "text/plain": [
       "3"
      ]
     },
     "execution_count": 20,
     "metadata": {},
     "output_type": "execute_result"
    }
   ],
   "source": [
    "(define (key x) x)\n",
    "(define test-tree (list (list '() 1 '()) 2 (list '() 3 '())))\n",
    "\n",
    "(lookup 3 test-tree)"
   ]
  },
  {
   "cell_type": "markdown",
   "id": "fac58ae0",
   "metadata": {},
   "source": [
    "## Exercise 2.67\n",
    "**Define an encoding tree and a sample message:**\n",
    "```scheme\n",
    "(define sample-tree\n",
    "  (make-code-tree (make-leaf 'A 4)\n",
    "                  (make-code-tree\n",
    "                   (make-leaf 'B 2)\n",
    "                   (make-code-tree\n",
    "                    (make-leaf 'D 1)\n",
    "                    (make-leaf 'C 1)))))\n",
    "(define sample-message `(0 1 1 0 0 1 0 1 0 1 1 1 0))\n",
    "```\n",
    "**Use the `decode` procedure to decode the message, and give the result.**"
   ]
  },
  {
   "cell_type": "markdown",
   "id": "6dd0e919",
   "metadata": {},
   "source": [
    "To run the decode procedure, we'll need to bring copy and run the definitions from the text.\n"
   ]
  },
  {
   "cell_type": "code",
   "execution_count": 21,
   "id": "22b0a1fb",
   "metadata": {},
   "outputs": [],
   "source": [
    "(define (make-leaf symbol weight) (list 'leaf symbol weight))\n",
    "(define (leaf? object) (eq? (car object) 'leaf))\n",
    "(define (symbol-leaf x) (cadr x))\n",
    "(define (weight-leaf x) (caddr x))\n",
    "\n",
    "(define (make-code-tree left right)\n",
    "  (list left\n",
    "        right\n",
    "        (append (symbols left) (symbols right))\n",
    "        (+ (weight left) (weight right))))\n",
    "\n",
    "(define (left-branch tree) (car tree))\n",
    "(define (right-branch tree) (cadr tree))\n",
    "(define (symbols tree)\n",
    "  (if (leaf? tree)\n",
    "      (list (symbol-leaf tree))\n",
    "      (caddr tree)))\n",
    "\n",
    "(define (weight tree)\n",
    "  (if (leaf? tree)\n",
    "      (weight-leaf tree)\n",
    "      (cadddr tree)))\n",
    "\n",
    "(define (decode bits tree)\n",
    "  (define (decode-1 bits current-branch)\n",
    "    (if (null? bits)\n",
    "      '() \n",
    "      (let ((next-branch\n",
    "              (choose-branch (car bits) current-branch)))\n",
    "        (if (leaf? next-branch)\n",
    "          (cons (symbol-leaf next-branch)\n",
    "                (decode-1 (cdr bits) tree))\n",
    "          (decode-1 (cdr bits) next-branch)))))\n",
    "  (decode-1 bits tree))\n",
    "\n",
    "(define (choose-branch bit branch)\n",
    "  (cond ((= bit 0) (left-branch branch))\n",
    "        ((= bit 1) (right-branch branch))\n",
    "        (else (error \"bad bit: CHOOSE-BRANCH\" bit))))\n",
    "\n",
    "(define sample-tree\n",
    "  (make-code-tree (make-leaf 'A 4)\n",
    "                  (make-code-tree\n",
    "                   (make-leaf 'B 2)\n",
    "                   (make-code-tree\n",
    "                    (make-leaf 'D 1)\n",
    "                    (make-leaf 'C 1)))))\n",
    "(define sample-message `(0 1 1 0 0 1 0 1 0 1 1 1 0))"
   ]
  },
  {
   "cell_type": "markdown",
   "id": "31213a61",
   "metadata": {},
   "source": [
    "Now we can run `decode` on the sample tree and message."
   ]
  },
  {
   "cell_type": "code",
   "execution_count": 22,
   "id": "507a2fd6",
   "metadata": {},
   "outputs": [
    {
     "data": {
      "text/html": [
       "<code>'(A D A B B C A)</code>"
      ],
      "text/plain": [
       "'(A D A B B C A)"
      ]
     },
     "execution_count": 22,
     "metadata": {},
     "output_type": "execute_result"
    }
   ],
   "source": [
    "(decode sample-message sample-tree)"
   ]
  },
  {
   "cell_type": "markdown",
   "id": "0dec1c12",
   "metadata": {},
   "source": [
    "## Exercise 2.68\n",
    "**The `encode` procedure takes as arguments a message and a tree and produces the list of bits that gives the encoded message.**\n",
    "```scheme\n",
    "(define (encode message tree)\n",
    "  (if (null? message)\n",
    "    '()\n",
    "    (append (encode-symbol (car message) tree)\n",
    "            (encode (cdr message) tree))))\n",
    "```\n",
    "\n",
    "**`encode-symbol` is a procedure, which you must write, that returns the list of bits that encodes a given symbol according to a given tree. You should design encode-symbol so that it signals an error if the symbol is not in the tree at all. Test your procedure by encoding the result you obtained in Exercise 2.67 with the sample tree and seeing whether it is the same as the original sample message.**\n"
   ]
  },
  {
   "cell_type": "code",
   "execution_count": 23,
   "id": "08ac2057",
   "metadata": {},
   "outputs": [
    {
     "data": {
      "text/html": [
       "<code>'(2)</code>"
      ],
      "text/plain": [
       "'(2)"
      ]
     },
     "execution_count": 23,
     "metadata": {},
     "output_type": "execute_result"
    }
   ],
   "source": [
    "(append '() (list 2))"
   ]
  },
  {
   "cell_type": "code",
   "execution_count": 24,
   "id": "d790e199",
   "metadata": {},
   "outputs": [
    {
     "name": "stdout",
     "output_type": "stream",
     "text": [
      "(0 1 1 0 0 1 0 1 0 1 1 1 0)\n",
      "(0 1 1 0 0 1 0 1 0 1 1 1 0)"
     ]
    }
   ],
   "source": [
    "; We'll need a helper function to test if an item is in a list.\n",
    "; I forgot whether we defined it before, and what we named it, but it is easy enough to define.\n",
    "(define (list-contains? lst item)\n",
    "  (if (null? lst) #f (if (eq? item (car lst))\n",
    "                         #t\n",
    "                         (list-contains? (cdr lst) item))))\n",
    "\n",
    "; Defining encode-symbol below:\n",
    "(define (encode-symbol symbol tree)\n",
    "  (define (encode-symbol-1 branch partial-code)\n",
    "    (if (leaf? branch)\n",
    "        partial-code\n",
    "        (if (list-contains? (symbols (left-branch branch)) symbol)\n",
    "            (encode-symbol-1 (left-branch branch) (append partial-code (list 0)))\n",
    "            (encode-symbol-1 (right-branch branch) (append partial-code (list 1))))))\n",
    "  (encode-symbol-1 tree '()))\n",
    "\n",
    "; And copying the definition of encode:\n",
    "(define (encode message tree)\n",
    "  (if (null? message)\n",
    "    '()\n",
    "    (append (encode-symbol (car message) tree)\n",
    "            (encode (cdr message) tree))))\n",
    "\n",
    "; Now running encode-decode on the sample message and tree\n",
    "(display sample-message)\n",
    "(newline)\n",
    "(display (encode (decode sample-message sample-tree) sample-tree))"
   ]
  },
  {
   "cell_type": "markdown",
   "id": "e88a78ad",
   "metadata": {},
   "source": [
    "Since the sample message and the sample message after decoding it and again encoding it match, the implementation of `encode-symbol` seems to have worked."
   ]
  },
  {
   "cell_type": "markdown",
   "id": "7e19ef82",
   "metadata": {},
   "source": [
    "## Exercise 2.69\n",
    "**The following procedure takes as its argument a list of symbol-frequency pairs\n",
    "(where no symbol appears in more than one pair) and generates a Huffman\n",
    "encoding tree according to the Huffman algorithm.**\n",
    "```scheme\n",
    "(define (generate-huffman-tree pairs)\n",
    "  (successive-merge (make-leaf-set pairs)))\n",
    "```\n",
    "**`make-leaf-set` is the procedure given above that transforms\n",
    "the list of pairs into an ordered set of leaves. `successive-merge`\n",
    "is the procedure you must write, using `make-code-tree` to successively merge\n",
    "the smallest-weight elements of the set until there is only one element left,\n",
    "which is the desired Huffman tree. (This procedure is slightly tricky, but \n",
    "not really complicated. If you find yourself designing a complex procedure,\n",
    "then you are almost certainly doing something wrong. You can take\n",
    "significant advantage of the fact that we are using an ordered set representation.)**"
   ]
  },
  {
   "cell_type": "code",
   "execution_count": 25,
   "id": "ed549e62",
   "metadata": {},
   "outputs": [],
   "source": [
    "; First we need to bring over the definition of adjoin-set\n",
    "(define (adjoin-set x set)\n",
    "  (cond ((null? set) (list x))\n",
    "        ((< (weight x) (weight (car set))) (cons x set))\n",
    "        (else (cons (car set)\n",
    "                    (adjoin-set x (cdr set))))))\n",
    "; and make-leaf-set\n",
    "(define (make-leaf-set pairs) \n",
    " (if (null? pairs) \n",
    "  '() \n",
    "  (let ((pair (car pairs))) \n",
    "   (adjoin-set (make-leaf (car pair) \n",
    "                (cadr pair)) \n",
    "    (make-leaf-set (cdr pairs))))))\n",
    "\n",
    "; Now, here is the definition of successive-merge\n",
    "(define (successive-merge nodes)\n",
    "  (if (= (length nodes) 1)\n",
    "      (car nodes)\n",
    "      (let ((left (car nodes))\n",
    "            (right (cadr nodes))\n",
    "            (rest (cddr nodes)))\n",
    "        (successive-merge (adjoin-set (make-code-tree left right) rest)))))\n",
    "\n",
    "; Now, the generate-huffman-tree definition should work too\n",
    "(define (generate-huffman-tree pairs)\n",
    "  (successive-merge (make-leaf-set pairs)))"
   ]
  },
  {
   "cell_type": "markdown",
   "id": "c185950e",
   "metadata": {},
   "source": [
    "## Exercise 2.70\n",
    "**The following eight-symbol alphabet with\n",
    "associated relative frequencies was designed to efficiently\n",
    "encode the lyrics of 1950s rock songs. (Note that the “symbols” of an “alphabet”\n",
    "need not be individual letters.)**\n",
    "```\n",
    "A 2     GET 2   SHA 3   WAH 1\n",
    "BOOM 1  JOB 2   NA 16   YIP 9\n",
    "```\n",
    "**Use generate-huffman-tree (Exercise 2.69) to generate a\n",
    "corresponding Huffman tree, and use encode (Exercise 2.68)\n",
    "to encode the following message:**\n",
    "\n",
    "```\n",
    "Get a job\n",
    "Sha na na na na na na na na\n",
    "Get a job\n",
    "Sha na na na na na na na na\n",
    "Wah yip yip yip yip yip yip yip yip yip\n",
    "Sha boom\n",
    "```\n",
    "\n",
    "**How many bits are required for the encoding? What is the\n",
    "smallest number of bits that would be needed to encode this\n",
    "song if we used a fixed-length code for the eight-symbol\n",
    "alphabet?**\n",
    "\n"
   ]
  },
  {
   "cell_type": "code",
   "execution_count": 26,
   "id": "d0ae16af",
   "metadata": {},
   "outputs": [
    {
     "data": {
      "text/html": [
       "<code>'(GET A JOB SHA NA NA NA NA NA NA NA NA GET A JOB SHA NA NA NA NA NA NA NA NA WAH YIP YIP YIP YIP YIP YIP YIP YIP YIP SHA BOOM)</code>"
      ],
      "text/plain": [
       "'(GET A JOB SHA NA NA NA NA NA NA NA NA GET A JOB SHA NA NA NA NA NA NA NA NA WAH YIP YIP YIP YIP YIP YIP YIP YIP YIP SHA BOOM)"
      ]
     },
     "execution_count": 26,
     "metadata": {},
     "output_type": "execute_result"
    }
   ],
   "source": [
    "; Instead of doing string processing, I did some tedious manual text editing and converted both the\n",
    "; symbols of the alphabet with their frequencies and the song to the data structures we need.\n",
    "(define alphabet (list (list 'A 2) (list 'GET 2) (list 'SHA 3) (list 'WAH 1) (list 'BOOM 1) (list 'JOB 2) (list 'NA 16) (list 'YIP 9)))\n",
    "(define song (list 'GET 'A 'JOB 'SHA 'NA 'NA 'NA 'NA 'NA 'NA 'NA 'NA 'GET 'A 'JOB 'SHA 'NA 'NA 'NA 'NA 'NA 'NA 'NA 'NA 'WAH 'YIP 'YIP 'YIP 'YIP 'YIP 'YIP 'YIP 'YIP 'YIP 'SHA 'BOOM))\n",
    "\n",
    "; Now we can generate the tree\n",
    "(define tree (generate-huffman-tree alphabet))\n",
    "; and encode the song using the tree\n",
    "(define code (encode song tree))\n",
    "\n",
    "; Decoding the encoded song using the same tree gives us the song back.\n",
    "(decode code tree)"
   ]
  },
  {
   "cell_type": "markdown",
   "id": "f7829401",
   "metadata": {},
   "source": [
    "To answer the question, we can take the length of the encoded version:"
   ]
  },
  {
   "cell_type": "code",
   "execution_count": 27,
   "id": "5be6813d",
   "metadata": {},
   "outputs": [
    {
     "data": {
      "text/html": [
       "<code>84</code>"
      ],
      "text/plain": [
       "84"
      ]
     },
     "execution_count": 27,
     "metadata": {},
     "output_type": "execute_result"
    }
   ],
   "source": [
    "(length code)"
   ]
  },
  {
   "cell_type": "markdown",
   "id": "b7ef30d9",
   "metadata": {},
   "source": [
    "A fixed-length code will need 3 bits to encode each symbol in the alphabet, since $2^3 = 8$. Since the song is made of 36 symbols, with a fixed-length code, we will need $36 * 3 = 108$ bits to encode the song."
   ]
  },
  {
   "cell_type": "markdown",
   "id": "a0288650",
   "metadata": {},
   "source": [
    "## Exercise 2.71\n",
    "**Suppose we have a Huffman tree for an alphabet of $n$ symbols,\n",
    "and that the relative frequencies of the symbols are $1, 2, 4,..., 2^{n-1}$.\n",
    "Sketch the tree for $n=5$; for $n=10$. In such a tree (for general $n$) how many\n",
    "bits are required to encode the most frequent symbol? The least frequent \n",
    "symbol?**"
   ]
  },
  {
   "cell_type": "markdown",
   "id": "51af0fea",
   "metadata": {},
   "source": [
    "Here is a 'sketch' of the tree for $n=5$:\n",
    "\n",
    "![Tree for 5 symbols](aux/2.71/tree.png)\n",
    "\n",
    "And here for $n=10$:\n",
    "\n",
    "![Tree for 10 symbols](aux/2.71/tree-10.png)\n",
    "\n",
    "The most frequent symbol will always appear as a child of the root node in such a tree, so one bit is sufficient to encode the most frequent symbol. For the least frequent symbol, $n-1$ bits will be required."
   ]
  },
  {
   "cell_type": "markdown",
   "id": "f16ed6cd",
   "metadata": {},
   "source": [
    "## Exercise 2.72\n",
    "**Consider the encoding procedure that you designed in Exercise 2.68. What is the order of growth in\n",
    "the number of steps needed to encode a symbol? Be sure to include the number of steps needed to search\n",
    "the symbol list at each node encountered. To answer this question in general is difficult.\n",
    "Consider the special case where the relative frequencies of the $n$ symbols are as described in Exercise 2.71,\n",
    "and give the order of growth (as a function of $n$) of the number of steps needed to encode the most frequent\n",
    "and least frequent symbols in the alphabet.** \n"
   ]
  },
  {
   "cell_type": "markdown",
   "id": "935350a9",
   "metadata": {},
   "source": [
    "I think it will be easier to start with the worst case here, i.e. the types of trees constructed in Exercise 2.71.\n",
    "\n",
    "Tackling one problem at a time, let's say for now that $s(n)$ is the number of steps required to search for an item in a set with $n$ elements. For the most frequent element, we will need two searches: once on the node at the root of the subtree with all the other elements, and once on the leaf with the most frequent element. This is $s(n-1)$, so basically $O(s(n-1))$ steps are required to encode the most frequent element. (It would be $s(1)$ if we checked the other node first, but I guess we need to stick to the worst case here.)\n",
    "\n",
    "For the least frequent element, we will need to repeat this step down all the levels, so the number of steps will be $s(n-1) + s(n-2) + s(n-3) + ... + s(1)$, or $\\sum_{i=1}^{n-1}s(n-i)$. The value of $s(n)$ will depend on the specific implementation of the set data structure, but let's use $s(n)=\\log{n}$, which will be the case for sets implemented as binary search trees. So, the number of steps is $s(n-1) + s(n-2) + ... + s(1) = \\log{(n-1)} + \\log{(n-2)} + ... + \\log{1} = \\log{((n-1)(n-2)...(2)(1))}=\\log{(n-1)!}$\n",
    "\n",
    "On the other end of the spectrum, if we have a very balanced tree, then instead of going down the tree for $(n-1)$ steps, we will only need to go down about $\\log(n)$ steps. Also, instead of the number of items we need to search on decreasing by one, they will be halved at every step. So the number of steps needed is $\\log{\\frac{n}{2}} + \\log{\\frac{n}{4}} + \\log{\\frac{n}{8}} + ... = \\log{(\\frac{n^{\\log{n}}}{{2^{(\\log{n})(1+\\log{n})/2}}})} = \\log{(\\frac{n^{\\log{n}}}{{n^{(1+\\log{n})/2}}})}=\\log{n^{\\log{n} - (1+\\log{n})/2}}=\\log{n^{\\frac{\\log{n}-1}{2}}}=\\frac{(\\log{n}-1)(\\log{n})}{2}$\n"
   ]
  }
 ],
 "metadata": {
  "kernelspec": {
   "display_name": "Racket",
   "language": "racket",
   "name": "racket"
  },
  "language_info": {
   "codemirror_mode": "scheme",
   "file_extension": ".rkt",
   "mimetype": "text/x-racket",
   "name": "Racket",
   "pygments_lexer": "racket",
   "version": "8.7"
  }
 },
 "nbformat": 4,
 "nbformat_minor": 5
}
